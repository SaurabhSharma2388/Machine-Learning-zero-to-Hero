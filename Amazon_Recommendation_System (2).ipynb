{
  "nbformat": 4,
  "nbformat_minor": 0,
  "metadata": {
    "colab": {
      "provenance": []
    },
    "kernelspec": {
      "name": "python3",
      "display_name": "Python 3"
    },
    "language_info": {
      "name": "python"
    },
    "widgets": {
      "application/vnd.jupyter.widget-state+json": {
        "e036cdb591a544faaa79b0fe9b4e60ba": {
          "model_module": "@jupyter-widgets/controls",
          "model_name": "TextModel",
          "model_module_version": "1.5.0",
          "state": {
            "_dom_classes": [],
            "_model_module": "@jupyter-widgets/controls",
            "_model_module_version": "1.5.0",
            "_model_name": "TextModel",
            "_view_count": null,
            "_view_module": "@jupyter-widgets/controls",
            "_view_module_version": "1.5.0",
            "_view_name": "TextView",
            "continuous_update": true,
            "description": "Product:",
            "description_tooltip": null,
            "disabled": false,
            "layout": "IPY_MODEL_3bda3f2a162e4cd6b3e8b30345b06776",
            "placeholder": "Enter a product name",
            "style": "IPY_MODEL_44977c7bf5e548f7adbba37ccdff33c1",
            "value": "XP-Pen StarG640 Ultra-Thin Graphic Drawing Tablet (6\" x 4\", 8192 Levels of Pressure Sensitivity, Battery-Free Stylus, Black)"
          }
        },
        "3bda3f2a162e4cd6b3e8b30345b06776": {
          "model_module": "@jupyter-widgets/base",
          "model_name": "LayoutModel",
          "model_module_version": "1.2.0",
          "state": {
            "_model_module": "@jupyter-widgets/base",
            "_model_module_version": "1.2.0",
            "_model_name": "LayoutModel",
            "_view_count": null,
            "_view_module": "@jupyter-widgets/base",
            "_view_module_version": "1.2.0",
            "_view_name": "LayoutView",
            "align_content": null,
            "align_items": null,
            "align_self": null,
            "border": null,
            "bottom": null,
            "display": null,
            "flex": null,
            "flex_flow": null,
            "grid_area": null,
            "grid_auto_columns": null,
            "grid_auto_flow": null,
            "grid_auto_rows": null,
            "grid_column": null,
            "grid_gap": null,
            "grid_row": null,
            "grid_template_areas": null,
            "grid_template_columns": null,
            "grid_template_rows": null,
            "height": null,
            "justify_content": null,
            "justify_items": null,
            "left": null,
            "margin": null,
            "max_height": null,
            "max_width": null,
            "min_height": null,
            "min_width": null,
            "object_fit": null,
            "object_position": null,
            "order": null,
            "overflow": null,
            "overflow_x": null,
            "overflow_y": null,
            "padding": null,
            "right": null,
            "top": null,
            "visibility": null,
            "width": null
          }
        },
        "44977c7bf5e548f7adbba37ccdff33c1": {
          "model_module": "@jupyter-widgets/controls",
          "model_name": "DescriptionStyleModel",
          "model_module_version": "1.5.0",
          "state": {
            "_model_module": "@jupyter-widgets/controls",
            "_model_module_version": "1.5.0",
            "_model_name": "DescriptionStyleModel",
            "_view_count": null,
            "_view_module": "@jupyter-widgets/base",
            "_view_module_version": "1.2.0",
            "_view_name": "StyleView",
            "description_width": ""
          }
        },
        "cac74e2de8b94d32a14d40625bbef69d": {
          "model_module": "@jupyter-widgets/controls",
          "model_name": "ButtonModel",
          "model_module_version": "1.5.0",
          "state": {
            "_dom_classes": [],
            "_model_module": "@jupyter-widgets/controls",
            "_model_module_version": "1.5.0",
            "_model_name": "ButtonModel",
            "_view_count": null,
            "_view_module": "@jupyter-widgets/controls",
            "_view_module_version": "1.5.0",
            "_view_name": "ButtonView",
            "button_style": "",
            "description": "Recommend",
            "disabled": false,
            "icon": "",
            "layout": "IPY_MODEL_75b58699d5dd4d84b7c9dd3ef1b35061",
            "style": "IPY_MODEL_f74c5af2510e47fda7b6f1dc4da32e82",
            "tooltip": ""
          }
        },
        "75b58699d5dd4d84b7c9dd3ef1b35061": {
          "model_module": "@jupyter-widgets/base",
          "model_name": "LayoutModel",
          "model_module_version": "1.2.0",
          "state": {
            "_model_module": "@jupyter-widgets/base",
            "_model_module_version": "1.2.0",
            "_model_name": "LayoutModel",
            "_view_count": null,
            "_view_module": "@jupyter-widgets/base",
            "_view_module_version": "1.2.0",
            "_view_name": "LayoutView",
            "align_content": null,
            "align_items": null,
            "align_self": null,
            "border": null,
            "bottom": null,
            "display": null,
            "flex": null,
            "flex_flow": null,
            "grid_area": null,
            "grid_auto_columns": null,
            "grid_auto_flow": null,
            "grid_auto_rows": null,
            "grid_column": null,
            "grid_gap": null,
            "grid_row": null,
            "grid_template_areas": null,
            "grid_template_columns": null,
            "grid_template_rows": null,
            "height": null,
            "justify_content": null,
            "justify_items": null,
            "left": null,
            "margin": null,
            "max_height": null,
            "max_width": null,
            "min_height": null,
            "min_width": null,
            "object_fit": null,
            "object_position": null,
            "order": null,
            "overflow": null,
            "overflow_x": null,
            "overflow_y": null,
            "padding": null,
            "right": null,
            "top": null,
            "visibility": null,
            "width": null
          }
        },
        "f74c5af2510e47fda7b6f1dc4da32e82": {
          "model_module": "@jupyter-widgets/controls",
          "model_name": "ButtonStyleModel",
          "model_module_version": "1.5.0",
          "state": {
            "_model_module": "@jupyter-widgets/controls",
            "_model_module_version": "1.5.0",
            "_model_name": "ButtonStyleModel",
            "_view_count": null,
            "_view_module": "@jupyter-widgets/base",
            "_view_module_version": "1.2.0",
            "_view_name": "StyleView",
            "button_color": null,
            "font_weight": ""
          }
        }
      }
    }
  },
  "cells": [
    {
      "cell_type": "code",
      "execution_count": 1,
      "metadata": {
        "id": "NbPSKNNhCPDD"
      },
      "outputs": [],
      "source": [
        "import pandas as pd\n",
        "import numpy as np\n",
        "import pickle\n",
        "from nltk.stem.porter import PorterStemmer\n",
        "from sklearn.feature_extraction.text import CountVectorizer\n",
        "from sklearn.metrics.pairwise import cosine_similarity\n",
        "import sys\n",
        "import seaborn as sns\n",
        "import matplotlib.pyplot as plt\n"
      ]
    },
    {
      "cell_type": "code",
      "source": [
        "from google.colab import drive\n",
        "\n",
        "drive.mount('/content/drive',force_remount=True)"
      ],
      "metadata": {
        "colab": {
          "base_uri": "https://localhost:8080/"
        },
        "id": "x8sh6814CYLi",
        "outputId": "f95e5dfb-f991-476e-f8d2-b16f41745fb4"
      },
      "execution_count": 2,
      "outputs": [
        {
          "output_type": "stream",
          "name": "stdout",
          "text": [
            "Mounted at /content/drive\n"
          ]
        }
      ]
    },
    {
      "cell_type": "code",
      "source": [
        "data = pd.read_csv('/content/drive/MyDrive/Amazon Sale 2023/All Electronics.csv')"
      ],
      "metadata": {
        "id": "zd_o7WL9CxWd"
      },
      "execution_count": 3,
      "outputs": []
    },
    {
      "cell_type": "code",
      "source": [
        "data.head(5)"
      ],
      "metadata": {
        "colab": {
          "base_uri": "https://localhost:8080/",
          "height": 206
        },
        "id": "prcRC9DWEPtB",
        "outputId": "cf5e84fe-8240-47b9-c21e-c33d8beb55b2"
      },
      "execution_count": 4,
      "outputs": [
        {
          "output_type": "execute_result",
          "data": {
            "text/plain": [
              "                                                name        main_category  \\\n",
              "0  Redmi 10 Power (Power Black, 8GB RAM, 128GB St...  tv, audio & cameras   \n",
              "1  OnePlus Nord CE 2 Lite 5G (Blue Tide, 6GB RAM,...  tv, audio & cameras   \n",
              "2  OnePlus Bullets Z2 Bluetooth Wireless in Ear E...  tv, audio & cameras   \n",
              "3  Samsung Galaxy M33 5G (Mystique Green, 6GB, 12...  tv, audio & cameras   \n",
              "4  OnePlus Nord CE 2 Lite 5G (Black Dusk, 6GB RAM...  tv, audio & cameras   \n",
              "\n",
              "      sub_category                                              image  \\\n",
              "0  All Electronics  https://m.media-amazon.com/images/I/81eM15lVcJ...   \n",
              "1  All Electronics  https://m.media-amazon.com/images/I/71AvQd3Vzq...   \n",
              "2  All Electronics  https://m.media-amazon.com/images/I/51UhwaQXCp...   \n",
              "3  All Electronics  https://m.media-amazon.com/images/I/81I3w4J6yj...   \n",
              "4  All Electronics  https://m.media-amazon.com/images/I/71V--WZVUI...   \n",
              "\n",
              "                                                link ratings no_of_ratings  \\\n",
              "0  https://www.amazon.in/Redmi-Power-Black-128GB-...     4.0           965   \n",
              "1  https://www.amazon.in/OnePlus-Nord-Lite-128GB-...     4.3       113,956   \n",
              "2  https://www.amazon.in/Oneplus-Bluetooth-Wirele...     4.2        90,304   \n",
              "3  https://www.amazon.in/Samsung-Mystique-Storage...     4.1        24,863   \n",
              "4  https://www.amazon.in/OnePlus-Nord-Black-128GB...     4.3       113,956   \n",
              "\n",
              "  discount_price actual_price  \n",
              "0        ₹10,999      ₹18,999  \n",
              "1        ₹18,999      ₹19,999  \n",
              "2         ₹1,999       ₹2,299  \n",
              "3        ₹15,999      ₹24,999  \n",
              "4        ₹18,999      ₹19,999  "
            ],
            "text/html": [
              "\n",
              "  <div id=\"df-d6c34261-c097-4356-8ef9-90ea6956d211\" class=\"colab-df-container\">\n",
              "    <div>\n",
              "<style scoped>\n",
              "    .dataframe tbody tr th:only-of-type {\n",
              "        vertical-align: middle;\n",
              "    }\n",
              "\n",
              "    .dataframe tbody tr th {\n",
              "        vertical-align: top;\n",
              "    }\n",
              "\n",
              "    .dataframe thead th {\n",
              "        text-align: right;\n",
              "    }\n",
              "</style>\n",
              "<table border=\"1\" class=\"dataframe\">\n",
              "  <thead>\n",
              "    <tr style=\"text-align: right;\">\n",
              "      <th></th>\n",
              "      <th>name</th>\n",
              "      <th>main_category</th>\n",
              "      <th>sub_category</th>\n",
              "      <th>image</th>\n",
              "      <th>link</th>\n",
              "      <th>ratings</th>\n",
              "      <th>no_of_ratings</th>\n",
              "      <th>discount_price</th>\n",
              "      <th>actual_price</th>\n",
              "    </tr>\n",
              "  </thead>\n",
              "  <tbody>\n",
              "    <tr>\n",
              "      <th>0</th>\n",
              "      <td>Redmi 10 Power (Power Black, 8GB RAM, 128GB St...</td>\n",
              "      <td>tv, audio &amp; cameras</td>\n",
              "      <td>All Electronics</td>\n",
              "      <td>https://m.media-amazon.com/images/I/81eM15lVcJ...</td>\n",
              "      <td>https://www.amazon.in/Redmi-Power-Black-128GB-...</td>\n",
              "      <td>4.0</td>\n",
              "      <td>965</td>\n",
              "      <td>₹10,999</td>\n",
              "      <td>₹18,999</td>\n",
              "    </tr>\n",
              "    <tr>\n",
              "      <th>1</th>\n",
              "      <td>OnePlus Nord CE 2 Lite 5G (Blue Tide, 6GB RAM,...</td>\n",
              "      <td>tv, audio &amp; cameras</td>\n",
              "      <td>All Electronics</td>\n",
              "      <td>https://m.media-amazon.com/images/I/71AvQd3Vzq...</td>\n",
              "      <td>https://www.amazon.in/OnePlus-Nord-Lite-128GB-...</td>\n",
              "      <td>4.3</td>\n",
              "      <td>113,956</td>\n",
              "      <td>₹18,999</td>\n",
              "      <td>₹19,999</td>\n",
              "    </tr>\n",
              "    <tr>\n",
              "      <th>2</th>\n",
              "      <td>OnePlus Bullets Z2 Bluetooth Wireless in Ear E...</td>\n",
              "      <td>tv, audio &amp; cameras</td>\n",
              "      <td>All Electronics</td>\n",
              "      <td>https://m.media-amazon.com/images/I/51UhwaQXCp...</td>\n",
              "      <td>https://www.amazon.in/Oneplus-Bluetooth-Wirele...</td>\n",
              "      <td>4.2</td>\n",
              "      <td>90,304</td>\n",
              "      <td>₹1,999</td>\n",
              "      <td>₹2,299</td>\n",
              "    </tr>\n",
              "    <tr>\n",
              "      <th>3</th>\n",
              "      <td>Samsung Galaxy M33 5G (Mystique Green, 6GB, 12...</td>\n",
              "      <td>tv, audio &amp; cameras</td>\n",
              "      <td>All Electronics</td>\n",
              "      <td>https://m.media-amazon.com/images/I/81I3w4J6yj...</td>\n",
              "      <td>https://www.amazon.in/Samsung-Mystique-Storage...</td>\n",
              "      <td>4.1</td>\n",
              "      <td>24,863</td>\n",
              "      <td>₹15,999</td>\n",
              "      <td>₹24,999</td>\n",
              "    </tr>\n",
              "    <tr>\n",
              "      <th>4</th>\n",
              "      <td>OnePlus Nord CE 2 Lite 5G (Black Dusk, 6GB RAM...</td>\n",
              "      <td>tv, audio &amp; cameras</td>\n",
              "      <td>All Electronics</td>\n",
              "      <td>https://m.media-amazon.com/images/I/71V--WZVUI...</td>\n",
              "      <td>https://www.amazon.in/OnePlus-Nord-Black-128GB...</td>\n",
              "      <td>4.3</td>\n",
              "      <td>113,956</td>\n",
              "      <td>₹18,999</td>\n",
              "      <td>₹19,999</td>\n",
              "    </tr>\n",
              "  </tbody>\n",
              "</table>\n",
              "</div>\n",
              "    <div class=\"colab-df-buttons\">\n",
              "\n",
              "  <div class=\"colab-df-container\">\n",
              "    <button class=\"colab-df-convert\" onclick=\"convertToInteractive('df-d6c34261-c097-4356-8ef9-90ea6956d211')\"\n",
              "            title=\"Convert this dataframe to an interactive table.\"\n",
              "            style=\"display:none;\">\n",
              "\n",
              "  <svg xmlns=\"http://www.w3.org/2000/svg\" height=\"24px\" viewBox=\"0 -960 960 960\">\n",
              "    <path d=\"M120-120v-720h720v720H120Zm60-500h600v-160H180v160Zm220 220h160v-160H400v160Zm0 220h160v-160H400v160ZM180-400h160v-160H180v160Zm440 0h160v-160H620v160ZM180-180h160v-160H180v160Zm440 0h160v-160H620v160Z\"/>\n",
              "  </svg>\n",
              "    </button>\n",
              "\n",
              "  <style>\n",
              "    .colab-df-container {\n",
              "      display:flex;\n",
              "      gap: 12px;\n",
              "    }\n",
              "\n",
              "    .colab-df-convert {\n",
              "      background-color: #E8F0FE;\n",
              "      border: none;\n",
              "      border-radius: 50%;\n",
              "      cursor: pointer;\n",
              "      display: none;\n",
              "      fill: #1967D2;\n",
              "      height: 32px;\n",
              "      padding: 0 0 0 0;\n",
              "      width: 32px;\n",
              "    }\n",
              "\n",
              "    .colab-df-convert:hover {\n",
              "      background-color: #E2EBFA;\n",
              "      box-shadow: 0px 1px 2px rgba(60, 64, 67, 0.3), 0px 1px 3px 1px rgba(60, 64, 67, 0.15);\n",
              "      fill: #174EA6;\n",
              "    }\n",
              "\n",
              "    .colab-df-buttons div {\n",
              "      margin-bottom: 4px;\n",
              "    }\n",
              "\n",
              "    [theme=dark] .colab-df-convert {\n",
              "      background-color: #3B4455;\n",
              "      fill: #D2E3FC;\n",
              "    }\n",
              "\n",
              "    [theme=dark] .colab-df-convert:hover {\n",
              "      background-color: #434B5C;\n",
              "      box-shadow: 0px 1px 3px 1px rgba(0, 0, 0, 0.15);\n",
              "      filter: drop-shadow(0px 1px 2px rgba(0, 0, 0, 0.3));\n",
              "      fill: #FFFFFF;\n",
              "    }\n",
              "  </style>\n",
              "\n",
              "    <script>\n",
              "      const buttonEl =\n",
              "        document.querySelector('#df-d6c34261-c097-4356-8ef9-90ea6956d211 button.colab-df-convert');\n",
              "      buttonEl.style.display =\n",
              "        google.colab.kernel.accessAllowed ? 'block' : 'none';\n",
              "\n",
              "      async function convertToInteractive(key) {\n",
              "        const element = document.querySelector('#df-d6c34261-c097-4356-8ef9-90ea6956d211');\n",
              "        const dataTable =\n",
              "          await google.colab.kernel.invokeFunction('convertToInteractive',\n",
              "                                                    [key], {});\n",
              "        if (!dataTable) return;\n",
              "\n",
              "        const docLinkHtml = 'Like what you see? Visit the ' +\n",
              "          '<a target=\"_blank\" href=https://colab.research.google.com/notebooks/data_table.ipynb>data table notebook</a>'\n",
              "          + ' to learn more about interactive tables.';\n",
              "        element.innerHTML = '';\n",
              "        dataTable['output_type'] = 'display_data';\n",
              "        await google.colab.output.renderOutput(dataTable, element);\n",
              "        const docLink = document.createElement('div');\n",
              "        docLink.innerHTML = docLinkHtml;\n",
              "        element.appendChild(docLink);\n",
              "      }\n",
              "    </script>\n",
              "  </div>\n",
              "\n",
              "\n",
              "<div id=\"df-e980458e-fdf9-4446-a69a-b57fd45f021a\">\n",
              "  <button class=\"colab-df-quickchart\" onclick=\"quickchart('df-e980458e-fdf9-4446-a69a-b57fd45f021a')\"\n",
              "            title=\"Suggest charts\"\n",
              "            style=\"display:none;\">\n",
              "\n",
              "<svg xmlns=\"http://www.w3.org/2000/svg\" height=\"24px\"viewBox=\"0 0 24 24\"\n",
              "     width=\"24px\">\n",
              "    <g>\n",
              "        <path d=\"M19 3H5c-1.1 0-2 .9-2 2v14c0 1.1.9 2 2 2h14c1.1 0 2-.9 2-2V5c0-1.1-.9-2-2-2zM9 17H7v-7h2v7zm4 0h-2V7h2v10zm4 0h-2v-4h2v4z\"/>\n",
              "    </g>\n",
              "</svg>\n",
              "  </button>\n",
              "\n",
              "<style>\n",
              "  .colab-df-quickchart {\n",
              "      --bg-color: #E8F0FE;\n",
              "      --fill-color: #1967D2;\n",
              "      --hover-bg-color: #E2EBFA;\n",
              "      --hover-fill-color: #174EA6;\n",
              "      --disabled-fill-color: #AAA;\n",
              "      --disabled-bg-color: #DDD;\n",
              "  }\n",
              "\n",
              "  [theme=dark] .colab-df-quickchart {\n",
              "      --bg-color: #3B4455;\n",
              "      --fill-color: #D2E3FC;\n",
              "      --hover-bg-color: #434B5C;\n",
              "      --hover-fill-color: #FFFFFF;\n",
              "      --disabled-bg-color: #3B4455;\n",
              "      --disabled-fill-color: #666;\n",
              "  }\n",
              "\n",
              "  .colab-df-quickchart {\n",
              "    background-color: var(--bg-color);\n",
              "    border: none;\n",
              "    border-radius: 50%;\n",
              "    cursor: pointer;\n",
              "    display: none;\n",
              "    fill: var(--fill-color);\n",
              "    height: 32px;\n",
              "    padding: 0;\n",
              "    width: 32px;\n",
              "  }\n",
              "\n",
              "  .colab-df-quickchart:hover {\n",
              "    background-color: var(--hover-bg-color);\n",
              "    box-shadow: 0 1px 2px rgba(60, 64, 67, 0.3), 0 1px 3px 1px rgba(60, 64, 67, 0.15);\n",
              "    fill: var(--button-hover-fill-color);\n",
              "  }\n",
              "\n",
              "  .colab-df-quickchart-complete:disabled,\n",
              "  .colab-df-quickchart-complete:disabled:hover {\n",
              "    background-color: var(--disabled-bg-color);\n",
              "    fill: var(--disabled-fill-color);\n",
              "    box-shadow: none;\n",
              "  }\n",
              "\n",
              "  .colab-df-spinner {\n",
              "    border: 2px solid var(--fill-color);\n",
              "    border-color: transparent;\n",
              "    border-bottom-color: var(--fill-color);\n",
              "    animation:\n",
              "      spin 1s steps(1) infinite;\n",
              "  }\n",
              "\n",
              "  @keyframes spin {\n",
              "    0% {\n",
              "      border-color: transparent;\n",
              "      border-bottom-color: var(--fill-color);\n",
              "      border-left-color: var(--fill-color);\n",
              "    }\n",
              "    20% {\n",
              "      border-color: transparent;\n",
              "      border-left-color: var(--fill-color);\n",
              "      border-top-color: var(--fill-color);\n",
              "    }\n",
              "    30% {\n",
              "      border-color: transparent;\n",
              "      border-left-color: var(--fill-color);\n",
              "      border-top-color: var(--fill-color);\n",
              "      border-right-color: var(--fill-color);\n",
              "    }\n",
              "    40% {\n",
              "      border-color: transparent;\n",
              "      border-right-color: var(--fill-color);\n",
              "      border-top-color: var(--fill-color);\n",
              "    }\n",
              "    60% {\n",
              "      border-color: transparent;\n",
              "      border-right-color: var(--fill-color);\n",
              "    }\n",
              "    80% {\n",
              "      border-color: transparent;\n",
              "      border-right-color: var(--fill-color);\n",
              "      border-bottom-color: var(--fill-color);\n",
              "    }\n",
              "    90% {\n",
              "      border-color: transparent;\n",
              "      border-bottom-color: var(--fill-color);\n",
              "    }\n",
              "  }\n",
              "</style>\n",
              "\n",
              "  <script>\n",
              "    async function quickchart(key) {\n",
              "      const quickchartButtonEl =\n",
              "        document.querySelector('#' + key + ' button');\n",
              "      quickchartButtonEl.disabled = true;  // To prevent multiple clicks.\n",
              "      quickchartButtonEl.classList.add('colab-df-spinner');\n",
              "      try {\n",
              "        const charts = await google.colab.kernel.invokeFunction(\n",
              "            'suggestCharts', [key], {});\n",
              "      } catch (error) {\n",
              "        console.error('Error during call to suggestCharts:', error);\n",
              "      }\n",
              "      quickchartButtonEl.classList.remove('colab-df-spinner');\n",
              "      quickchartButtonEl.classList.add('colab-df-quickchart-complete');\n",
              "    }\n",
              "    (() => {\n",
              "      let quickchartButtonEl =\n",
              "        document.querySelector('#df-e980458e-fdf9-4446-a69a-b57fd45f021a button');\n",
              "      quickchartButtonEl.style.display =\n",
              "        google.colab.kernel.accessAllowed ? 'block' : 'none';\n",
              "    })();\n",
              "  </script>\n",
              "</div>\n",
              "    </div>\n",
              "  </div>\n"
            ],
            "application/vnd.google.colaboratory.intrinsic+json": {
              "type": "dataframe",
              "variable_name": "data",
              "summary": "{\n  \"name\": \"data\",\n  \"rows\": 9600,\n  \"fields\": [\n    {\n      \"column\": \"name\",\n      \"properties\": {\n        \"dtype\": \"string\",\n        \"num_unique_values\": 8800,\n        \"samples\": [\n          \"Dell MS116 1000Dpi USB Wired Optical Mouse, Led Tracking, Scrolling Wheel, Plug and Play.\",\n          \"Vantro Car Power Inverter 200W with 4 USB & 2 AC Port with Digital Display and QC3.0\",\n          \"Saregama Carvaan Premium- Portable Music Player with 5000 Preloaded Songs, FM/BT/AUX (Oakwood Brown)\"\n        ],\n        \"semantic_type\": \"\",\n        \"description\": \"\"\n      }\n    },\n    {\n      \"column\": \"main_category\",\n      \"properties\": {\n        \"dtype\": \"category\",\n        \"num_unique_values\": 1,\n        \"samples\": [\n          \"tv, audio & cameras\"\n        ],\n        \"semantic_type\": \"\",\n        \"description\": \"\"\n      }\n    },\n    {\n      \"column\": \"sub_category\",\n      \"properties\": {\n        \"dtype\": \"category\",\n        \"num_unique_values\": 1,\n        \"samples\": [\n          \"All Electronics\"\n        ],\n        \"semantic_type\": \"\",\n        \"description\": \"\"\n      }\n    },\n    {\n      \"column\": \"image\",\n      \"properties\": {\n        \"dtype\": \"string\",\n        \"num_unique_values\": 9321,\n        \"samples\": [\n          \"https://m.media-amazon.com/images/I/518TpkNStFL._AC_UL320_.jpg\"\n        ],\n        \"semantic_type\": \"\",\n        \"description\": \"\"\n      }\n    },\n    {\n      \"column\": \"link\",\n      \"properties\": {\n        \"dtype\": \"string\",\n        \"num_unique_values\": 9600,\n        \"samples\": [\n          \"https://www.amazon.in/Sony-MDR-XB55AP-Extra-Headphone-Black/dp/B073JPC6R3/ref=sr_1_1321?qid=1679133731&s=electronics&sr=1-1321\"\n        ],\n        \"semantic_type\": \"\",\n        \"description\": \"\"\n      }\n    },\n    {\n      \"column\": \"ratings\",\n      \"properties\": {\n        \"dtype\": \"category\",\n        \"num_unique_values\": 39,\n        \"samples\": [\n          \"2.1\"\n        ],\n        \"semantic_type\": \"\",\n        \"description\": \"\"\n      }\n    },\n    {\n      \"column\": \"no_of_ratings\",\n      \"properties\": {\n        \"dtype\": \"category\",\n        \"num_unique_values\": 3455,\n        \"samples\": [\n          \"23\"\n        ],\n        \"semantic_type\": \"\",\n        \"description\": \"\"\n      }\n    },\n    {\n      \"column\": \"discount_price\",\n      \"properties\": {\n        \"dtype\": \"category\",\n        \"num_unique_values\": 1608,\n        \"samples\": [\n          \"\\u20b93,999\"\n        ],\n        \"semantic_type\": \"\",\n        \"description\": \"\"\n      }\n    },\n    {\n      \"column\": \"actual_price\",\n      \"properties\": {\n        \"dtype\": \"category\",\n        \"num_unique_values\": 1068,\n        \"samples\": [\n          \"\\u20b91,034\"\n        ],\n        \"semantic_type\": \"\",\n        \"description\": \"\"\n      }\n    }\n  ]\n}"
            }
          },
          "metadata": {},
          "execution_count": 4
        }
      ]
    },
    {
      "cell_type": "code",
      "source": [
        "pd.set_option('display.max_colwidth', None)\n",
        "data['name'][9579]\n"
      ],
      "metadata": {
        "colab": {
          "base_uri": "https://localhost:8080/",
          "height": 35
        },
        "id": "au7fq_8MDWFS",
        "outputId": "16076291-5a9d-43ea-fc21-423938778662"
      },
      "execution_count": 5,
      "outputs": [
        {
          "output_type": "execute_result",
          "data": {
            "text/plain": [
              "'Ambrane 18W BoostedSpeed™ Charger with USB Port & Quick Charge, Made in India, Multi-Layer Protection, iPhone & Android Co...'"
            ],
            "application/vnd.google.colaboratory.intrinsic+json": {
              "type": "string"
            }
          },
          "metadata": {},
          "execution_count": 5
        }
      ]
    },
    {
      "cell_type": "code",
      "source": [
        "data.shape"
      ],
      "metadata": {
        "colab": {
          "base_uri": "https://localhost:8080/"
        },
        "id": "8t7KvtWpDlm8",
        "outputId": "eecf5c5e-b582-4d71-b551-159aab306457"
      },
      "execution_count": 6,
      "outputs": [
        {
          "output_type": "execute_result",
          "data": {
            "text/plain": [
              "(9600, 9)"
            ]
          },
          "metadata": {},
          "execution_count": 6
        }
      ]
    },
    {
      "cell_type": "code",
      "source": [
        "data.info()"
      ],
      "metadata": {
        "colab": {
          "base_uri": "https://localhost:8080/"
        },
        "id": "HICRYhm0DqjH",
        "outputId": "17ed2da1-7432-4452-ec3d-87121807479e"
      },
      "execution_count": 7,
      "outputs": [
        {
          "output_type": "stream",
          "name": "stdout",
          "text": [
            "<class 'pandas.core.frame.DataFrame'>\n",
            "RangeIndex: 9600 entries, 0 to 9599\n",
            "Data columns (total 9 columns):\n",
            " #   Column          Non-Null Count  Dtype \n",
            "---  ------          --------------  ----- \n",
            " 0   name            9600 non-null   object\n",
            " 1   main_category   9600 non-null   object\n",
            " 2   sub_category    9600 non-null   object\n",
            " 3   image           9600 non-null   object\n",
            " 4   link            9600 non-null   object\n",
            " 5   ratings         9505 non-null   object\n",
            " 6   no_of_ratings   9505 non-null   object\n",
            " 7   discount_price  9116 non-null   object\n",
            " 8   actual_price    9530 non-null   object\n",
            "dtypes: object(9)\n",
            "memory usage: 675.1+ KB\n"
          ]
        }
      ]
    },
    {
      "cell_type": "code",
      "source": [
        "data.isnull().sum()"
      ],
      "metadata": {
        "colab": {
          "base_uri": "https://localhost:8080/"
        },
        "id": "z6UbVD2uDY9v",
        "outputId": "f0af3360-d8cc-425d-8e6c-edf019ca9afc"
      },
      "execution_count": 8,
      "outputs": [
        {
          "output_type": "execute_result",
          "data": {
            "text/plain": [
              "name                0\n",
              "main_category       0\n",
              "sub_category        0\n",
              "image               0\n",
              "link                0\n",
              "ratings            95\n",
              "no_of_ratings      95\n",
              "discount_price    484\n",
              "actual_price       70\n",
              "dtype: int64"
            ]
          },
          "metadata": {},
          "execution_count": 8
        }
      ]
    },
    {
      "cell_type": "code",
      "source": [
        "# Droping the columns with 70% or more missing data\n",
        "perc = 70.0\n",
        "min_count =  int(((100 - perc)/100) * data.shape[1] + 1)\n",
        "mod_df = data.dropna(axis = 1, thresh = min_count)\n"
      ],
      "metadata": {
        "id": "y8jhYHF3xbun"
      },
      "execution_count": 9,
      "outputs": []
    },
    {
      "cell_type": "code",
      "source": [
        "mod_df.columns"
      ],
      "metadata": {
        "colab": {
          "base_uri": "https://localhost:8080/"
        },
        "id": "JwRWL5GDxiJy",
        "outputId": "22c834b6-730d-40c6-c694-65fffd139a99"
      },
      "execution_count": 10,
      "outputs": [
        {
          "output_type": "execute_result",
          "data": {
            "text/plain": [
              "Index(['name', 'main_category', 'sub_category', 'image', 'link', 'ratings',\n",
              "       'no_of_ratings', 'discount_price', 'actual_price'],\n",
              "      dtype='object')"
            ]
          },
          "metadata": {},
          "execution_count": 10
        }
      ]
    },
    {
      "cell_type": "code",
      "source": [
        "data['name_length'] = data['name'].apply(len)\n",
        "\n",
        "plt.figure(figsize=(10, 6))\n",
        "sns.histplot(data['name_length'], bins=50, kde=True)\n",
        "plt.title('Product Name Length Distribution')\n",
        "plt.xlabel('Name Length')\n",
        "plt.ylabel('Frequency')\n",
        "plt.show()"
      ],
      "metadata": {
        "colab": {
          "base_uri": "https://localhost:8080/",
          "height": 564
        },
        "id": "eCy_zYPW93Qx",
        "outputId": "406db180-c017-4821-a718-fd01bd10ab77"
      },
      "execution_count": 11,
      "outputs": [
        {
          "output_type": "display_data",
          "data": {
            "text/plain": [
              "<Figure size 1000x600 with 1 Axes>"
            ],
            "image/png": "[encoded data removed]"
          },
          "metadata": {}
        }
      ]
    },
    {
      "cell_type": "code",
      "source": [
        "sns.histplot(data=data, x='no_of_ratings', bins=30, kde=True, color='blue')"
      ],
      "metadata": {
        "colab": {
          "base_uri": "https://localhost:8080/",
          "height": 467
        },
        "id": "pSIZkW6J5C2i",
        "outputId": "bdc62782-10e0-4f0c-cde5-48155ba720f7"
      },
      "execution_count": 12,
      "outputs": [
        {
          "output_type": "execute_result",
          "data": {
            "text/plain": [
              "<Axes: xlabel='no_of_ratings', ylabel='Count'>"
            ]
          },
          "metadata": {},
          "execution_count": 12
        },
        {
          "output_type": "display_data",
          "data": {
            "text/plain": [
              "<Figure size 640x480 with 1 Axes>"
            ],
            "image/png": "[encoded data removed]"
          },
          "metadata": {}
        }
      ]
    },
    {
      "cell_type": "code",
      "source": [
        "sns.countplot(y='ratings', data=data, order=data['ratings'].value_counts().index)"
      ],
      "metadata": {
        "colab": {
          "base_uri": "https://localhost:8080/",
          "height": 467
        },
        "id": "ftQG0WsMtZSO",
        "outputId": "10aa8d0f-35a4-4289-ec9f-53938efead91"
      },
      "execution_count": 13,
      "outputs": [
        {
          "output_type": "execute_result",
          "data": {
            "text/plain": [
              "<Axes: xlabel='count', ylabel='ratings'>"
            ]
          },
          "metadata": {},
          "execution_count": 13
        },
        {
          "output_type": "display_data",
          "data": {
            "text/plain": [
              "<Figure size 640x480 with 1 Axes>"
            ],
            "image/png": "[encoded data removed]"
          },
          "metadata": {}
        }
      ]
    },
    {
      "cell_type": "markdown",
      "source": [
        "# Clean numeric columns and set data types\n"
      ],
      "metadata": {
        "id": "duBMz-YPxtvX"
      }
    },
    {
      "cell_type": "code",
      "source": [
        "# Removing the ₹ sign\n",
        "mod_df[\"discount_price\"] = mod_df[\"discount_price\"].str.split(\" \", expand = True).get(0).str.split(\"₹\", expand = True).get(1)\n",
        "mod_df[\"actual_price\"] = mod_df[\"actual_price\"].str.split(\" \", expand = True).get(0).str.split(\"₹\", expand = True).get(1)\n"
      ],
      "metadata": {
        "id": "T3_bPqfOxy5x"
      },
      "execution_count": 14,
      "outputs": []
    },
    {
      "cell_type": "code",
      "source": [
        "# Change commas to dots and change the type to float\n",
        "mod_df['discount_price'] = mod_df[\"discount_price\"].str.replace(',', '').astype(float)\n",
        "mod_df[\"actual_price\"] = mod_df[\"actual_price\"].str.replace(',', '').astype(float)\n"
      ],
      "metadata": {
        "id": "2WUUXB7Lx-qY"
      },
      "execution_count": 15,
      "outputs": []
    },
    {
      "cell_type": "code",
      "source": [
        "#modify ratings value\n",
        "mod_df[\"ratings\"].unique()"
      ],
      "metadata": {
        "colab": {
          "base_uri": "https://localhost:8080/"
        },
        "id": "OJAbcLzcyBJw",
        "outputId": "fcdff2b7-36ec-45e1-e340-32ebb11587a8"
      },
      "execution_count": 16,
      "outputs": [
        {
          "output_type": "execute_result",
          "data": {
            "text/plain": [
              "array(['4.0', '4.3', '4.2', '4.1', '3.9', '4.6', '3.8', 'Get', '4.4',\n",
              "       '3.5', '3.7', '4.5', '3.3', '3.6', '3.4', nan, '3.2', '2.9', '4.7',\n",
              "       '5.0', '2.5', '2.8', '4.8', '3.1', '3.0', '2.3', '2.7', '2.4',\n",
              "       '4.9', '1.7', '1.5', '2.6', '1.8', '1.3', '2.1', '1.9', '2.2',\n",
              "       '1.0', '1.4', '2.0'], dtype=object)"
            ]
          },
          "metadata": {},
          "execution_count": 16
        }
      ]
    },
    {
      "cell_type": "code",
      "source": [
        "# Extract the digits and change the type to float\n",
        "mod_df['ratings'] = mod_df['ratings'].replace(['Get','FREE','₹68.99', '₹65','₹70', '₹100', '₹99', '₹2.99'], '0.0')\n",
        "mod_df['ratings'] = mod_df[\"ratings\"].astype(float)\n",
        "mod_df['ratings'].unique()\n"
      ],
      "metadata": {
        "colab": {
          "base_uri": "https://localhost:8080/"
        },
        "id": "IToboknryFSQ",
        "outputId": "b0f45530-1e90-40e2-80c6-282a6b7643f0"
      },
      "execution_count": 17,
      "outputs": [
        {
          "output_type": "execute_result",
          "data": {
            "text/plain": [
              "array([4. , 4.3, 4.2, 4.1, 3.9, 4.6, 3.8, 0. , 4.4, 3.5, 3.7, 4.5, 3.3,\n",
              "       3.6, 3.4, nan, 3.2, 2.9, 4.7, 5. , 2.5, 2.8, 4.8, 3.1, 3. , 2.3,\n",
              "       2.7, 2.4, 4.9, 1.7, 1.5, 2.6, 1.8, 1.3, 2.1, 1.9, 2.2, 1. , 1.4,\n",
              "       2. ])"
            ]
          },
          "metadata": {},
          "execution_count": 17
        }
      ]
    },
    {
      "cell_type": "code",
      "source": [
        "# Add column 'correct_no_of_ratings' which value is 'True' if 'no_of_ratings' begins from digit\n",
        "mod_df['no_of_ratings'] = mod_df['no_of_ratings'].astype(str)\n",
        "mod_df['correct_no_of_ratings'] = pd.Series([mod_df['no_of_ratings'][x][0].isdigit() for x in range(len(mod_df['no_of_ratings']))])\n",
        "# Drop columns with incorrect 'no_of_ratings'\n",
        "mod_df = mod_df[mod_df['correct_no_of_ratings'] == True]\n",
        "mod_df['correct_no_of_ratings'].value_counts()\n"
      ],
      "metadata": {
        "colab": {
          "base_uri": "https://localhost:8080/"
        },
        "id": "bSp-QMuUyVrq",
        "outputId": "7d1dd672-06f2-4979-9be8-e2cef739336d"
      },
      "execution_count": 18,
      "outputs": [
        {
          "output_type": "execute_result",
          "data": {
            "text/plain": [
              "correct_no_of_ratings\n",
              "True    9481\n",
              "Name: count, dtype: int64"
            ]
          },
          "metadata": {},
          "execution_count": 18
        }
      ]
    },
    {
      "cell_type": "code",
      "source": [
        "mod_df[\"no_of_ratings\"] = mod_df[\"no_of_ratings\"].str.replace(',', '').astype(float)"
      ],
      "metadata": {
        "colab": {
          "base_uri": "https://localhost:8080/"
        },
        "id": "0np_I3WVy7_Q",
        "outputId": "3a0cadfb-d9fa-45ff-916e-b85c23e002d3"
      },
      "execution_count": 19,
      "outputs": [
        {
          "output_type": "stream",
          "name": "stderr",
          "text": [
            "<ipython-input-19-b376d5c94d17>:1: SettingWithCopyWarning: \n",
            "A value is trying to be set on a copy of a slice from a DataFrame.\n",
            "Try using .loc[row_indexer,col_indexer] = value instead\n",
            "\n",
            "See the caveats in the documentation: https://pandas.pydata.org/pandas-docs/stable/user_guide/indexing.html#returning-a-view-versus-a-copy\n",
            "  mod_df[\"no_of_ratings\"] = mod_df[\"no_of_ratings\"].str.replace(',', '').astype(float)\n"
          ]
        }
      ]
    },
    {
      "cell_type": "code",
      "source": [
        "mod_df.head(5)"
      ],
      "metadata": {
        "colab": {
          "base_uri": "https://localhost:8080/",
          "height": 484
        },
        "id": "y9FephBzy7uw",
        "outputId": "3e316fe3-9dc3-4260-c61a-3a9bc48e6395"
      },
      "execution_count": 20,
      "outputs": [
        {
          "output_type": "execute_result",
          "data": {
            "text/plain": [
              "                                                                                                                            name  \\\n",
              "0                                                                           Redmi 10 Power (Power Black, 8GB RAM, 128GB Storage)   \n",
              "1                                                                  OnePlus Nord CE 2 Lite 5G (Blue Tide, 6GB RAM, 128GB Storage)   \n",
              "2  OnePlus Bullets Z2 Bluetooth Wireless in Ear Earphones with Mic, Bombastic Bass - 12.4 Mm Drivers, 10 Mins Charge - 20 Hrs...   \n",
              "3  Samsung Galaxy M33 5G (Mystique Green, 6GB, 128GB Storage) | 6000mAh Battery | Upto 12GB RAM with RAM Plus | Travel Adapte...   \n",
              "4                                                                 OnePlus Nord CE 2 Lite 5G (Black Dusk, 6GB RAM, 128GB Storage)   \n",
              "\n",
              "         main_category     sub_category  \\\n",
              "0  tv, audio & cameras  All Electronics   \n",
              "1  tv, audio & cameras  All Electronics   \n",
              "2  tv, audio & cameras  All Electronics   \n",
              "3  tv, audio & cameras  All Electronics   \n",
              "4  tv, audio & cameras  All Electronics   \n",
              "\n",
              "                                                            image  \\\n",
              "0  https://m.media-amazon.com/images/I/81eM15lVcJL._AC_UL320_.jpg   \n",
              "1  https://m.media-amazon.com/images/I/71AvQd3VzqL._AC_UL320_.jpg   \n",
              "2  https://m.media-amazon.com/images/I/51UhwaQXCpL._AC_UL320_.jpg   \n",
              "3  https://m.media-amazon.com/images/I/81I3w4J6yjL._AC_UL320_.jpg   \n",
              "4  https://m.media-amazon.com/images/I/71V--WZVUIL._AC_UL320_.jpg   \n",
              "\n",
              "                                                                                                                                link  \\\n",
              "0                 https://www.amazon.in/Redmi-Power-Black-128GB-Storage/dp/B09Y64H8VS/ref=sr_1_4?qid=1679133649&s=electronics&sr=1-4   \n",
              "1                 https://www.amazon.in/OnePlus-Nord-Lite-128GB-Storage/dp/B09WQYFLRX/ref=sr_1_5?qid=1679133649&s=electronics&sr=1-5   \n",
              "2  https://www.amazon.in/Oneplus-Bluetooth-Wireless-Earphones-Bombastic/dp/B09TVVGXWS/ref=sr_1_6?qid=1679133649&s=electronics&sr=1-6   \n",
              "3   https://www.amazon.in/Samsung-Mystique-Storage-Purchased-Separately/dp/B09TWGDY4W/ref=sr_1_7?qid=1679133649&s=electronics&sr=1-7   \n",
              "4                https://www.amazon.in/OnePlus-Nord-Black-128GB-Storage/dp/B09WQY65HN/ref=sr_1_8?qid=1679133649&s=electronics&sr=1-8   \n",
              "\n",
              "   ratings  no_of_ratings  discount_price  actual_price  correct_no_of_ratings  \n",
              "0      4.0          965.0         10999.0       18999.0                   True  \n",
              "1      4.3       113956.0         18999.0       19999.0                   True  \n",
              "2      4.2        90304.0          1999.0        2299.0                   True  \n",
              "3      4.1        24863.0         15999.0       24999.0                   True  \n",
              "4      4.3       113956.0         18999.0       19999.0                   True  "
            ],
            "text/html": [
              "\n",
              "  <div id=\"df-9f85f516-2242-48ab-b089-c4d8dbc0b1a3\" class=\"colab-df-container\">\n",
              "    <div>\n",
              "<style scoped>\n",
              "    .dataframe tbody tr th:only-of-type {\n",
              "        vertical-align: middle;\n",
              "    }\n",
              "\n",
              "    .dataframe tbody tr th {\n",
              "        vertical-align: top;\n",
              "    }\n",
              "\n",
              "    .dataframe thead th {\n",
              "        text-align: right;\n",
              "    }\n",
              "</style>\n",
              "<table border=\"1\" class=\"dataframe\">\n",
              "  <thead>\n",
              "    <tr style=\"text-align: right;\">\n",
              "      <th></th>\n",
              "      <th>name</th>\n",
              "      <th>main_category</th>\n",
              "      <th>sub_category</th>\n",
              "      <th>image</th>\n",
              "      <th>link</th>\n",
              "      <th>ratings</th>\n",
              "      <th>no_of_ratings</th>\n",
              "      <th>discount_price</th>\n",
              "      <th>actual_price</th>\n",
              "      <th>correct_no_of_ratings</th>\n",
              "    </tr>\n",
              "  </thead>\n",
              "  <tbody>\n",
              "    <tr>\n",
              "      <th>0</th>\n",
              "      <td>Redmi 10 Power (Power Black, 8GB RAM, 128GB Storage)</td>\n",
              "      <td>tv, audio &amp; cameras</td>\n",
              "      <td>All Electronics</td>\n",
              "      <td>https://m.media-amazon.com/images/I/81eM15lVcJL._AC_UL320_.jpg</td>\n",
              "      <td>https://www.amazon.in/Redmi-Power-Black-128GB-Storage/dp/B09Y64H8VS/ref=sr_1_4?qid=1679133649&amp;s=electronics&amp;sr=1-4</td>\n",
              "      <td>4.0</td>\n",
              "      <td>965.0</td>\n",
              "      <td>10999.0</td>\n",
              "      <td>18999.0</td>\n",
              "      <td>True</td>\n",
              "    </tr>\n",
              "    <tr>\n",
              "      <th>1</th>\n",
              "      <td>OnePlus Nord CE 2 Lite 5G (Blue Tide, 6GB RAM, 128GB Storage)</td>\n",
              "      <td>tv, audio &amp; cameras</td>\n",
              "      <td>All Electronics</td>\n",
              "      <td>https://m.media-amazon.com/images/I/71AvQd3VzqL._AC_UL320_.jpg</td>\n",
              "      <td>https://www.amazon.in/OnePlus-Nord-Lite-128GB-Storage/dp/B09WQYFLRX/ref=sr_1_5?qid=1679133649&amp;s=electronics&amp;sr=1-5</td>\n",
              "      <td>4.3</td>\n",
              "      <td>113956.0</td>\n",
              "      <td>18999.0</td>\n",
              "      <td>19999.0</td>\n",
              "      <td>True</td>\n",
              "    </tr>\n",
              "    <tr>\n",
              "      <th>2</th>\n",
              "      <td>OnePlus Bullets Z2 Bluetooth Wireless in Ear Earphones with Mic, Bombastic Bass - 12.4 Mm Drivers, 10 Mins Charge - 20 Hrs...</td>\n",
              "      <td>tv, audio &amp; cameras</td>\n",
              "      <td>All Electronics</td>\n",
              "      <td>https://m.media-amazon.com/images/I/51UhwaQXCpL._AC_UL320_.jpg</td>\n",
              "      <td>https://www.amazon.in/Oneplus-Bluetooth-Wireless-Earphones-Bombastic/dp/B09TVVGXWS/ref=sr_1_6?qid=1679133649&amp;s=electronics&amp;sr=1-6</td>\n",
              "      <td>4.2</td>\n",
              "      <td>90304.0</td>\n",
              "      <td>1999.0</td>\n",
              "      <td>2299.0</td>\n",
              "      <td>True</td>\n",
              "    </tr>\n",
              "    <tr>\n",
              "      <th>3</th>\n",
              "      <td>Samsung Galaxy M33 5G (Mystique Green, 6GB, 128GB Storage) | 6000mAh Battery | Upto 12GB RAM with RAM Plus | Travel Adapte...</td>\n",
              "      <td>tv, audio &amp; cameras</td>\n",
              "      <td>All Electronics</td>\n",
              "      <td>https://m.media-amazon.com/images/I/81I3w4J6yjL._AC_UL320_.jpg</td>\n",
              "      <td>https://www.amazon.in/Samsung-Mystique-Storage-Purchased-Separately/dp/B09TWGDY4W/ref=sr_1_7?qid=1679133649&amp;s=electronics&amp;sr=1-7</td>\n",
              "      <td>4.1</td>\n",
              "      <td>24863.0</td>\n",
              "      <td>15999.0</td>\n",
              "      <td>24999.0</td>\n",
              "      <td>True</td>\n",
              "    </tr>\n",
              "    <tr>\n",
              "      <th>4</th>\n",
              "      <td>OnePlus Nord CE 2 Lite 5G (Black Dusk, 6GB RAM, 128GB Storage)</td>\n",
              "      <td>tv, audio &amp; cameras</td>\n",
              "      <td>All Electronics</td>\n",
              "      <td>https://m.media-amazon.com/images/I/71V--WZVUIL._AC_UL320_.jpg</td>\n",
              "      <td>https://www.amazon.in/OnePlus-Nord-Black-128GB-Storage/dp/B09WQY65HN/ref=sr_1_8?qid=1679133649&amp;s=electronics&amp;sr=1-8</td>\n",
              "      <td>4.3</td>\n",
              "      <td>113956.0</td>\n",
              "      <td>18999.0</td>\n",
              "      <td>19999.0</td>\n",
              "      <td>True</td>\n",
              "    </tr>\n",
              "  </tbody>\n",
              "</table>\n",
              "</div>\n",
              "    <div class=\"colab-df-buttons\">\n",
              "\n",
              "  <div class=\"colab-df-container\">\n",
              "    <button class=\"colab-df-convert\" onclick=\"convertToInteractive('df-9f85f516-2242-48ab-b089-c4d8dbc0b1a3')\"\n",
              "            title=\"Convert this dataframe to an interactive table.\"\n",
              "            style=\"display:none;\">\n",
              "\n",
              "  <svg xmlns=\"http://www.w3.org/2000/svg\" height=\"24px\" viewBox=\"0 -960 960 960\">\n",
              "    <path d=\"M120-120v-720h720v720H120Zm60-500h600v-160H180v160Zm220 220h160v-160H400v160Zm0 220h160v-160H400v160ZM180-400h160v-160H180v160Zm440 0h160v-160H620v160ZM180-180h160v-160H180v160Zm440 0h160v-160H620v160Z\"/>\n",
              "  </svg>\n",
              "    </button>\n",
              "\n",
              "  <style>\n",
              "    .colab-df-container {\n",
              "      display:flex;\n",
              "      gap: 12px;\n",
              "    }\n",
              "\n",
              "    .colab-df-convert {\n",
              "      background-color: #E8F0FE;\n",
              "      border: none;\n",
              "      border-radius: 50%;\n",
              "      cursor: pointer;\n",
              "      display: none;\n",
              "      fill: #1967D2;\n",
              "      height: 32px;\n",
              "      padding: 0 0 0 0;\n",
              "      width: 32px;\n",
              "    }\n",
              "\n",
              "    .colab-df-convert:hover {\n",
              "      background-color: #E2EBFA;\n",
              "      box-shadow: 0px 1px 2px rgba(60, 64, 67, 0.3), 0px 1px 3px 1px rgba(60, 64, 67, 0.15);\n",
              "      fill: #174EA6;\n",
              "    }\n",
              "\n",
              "    .colab-df-buttons div {\n",
              "      margin-bottom: 4px;\n",
              "    }\n",
              "\n",
              "    [theme=dark] .colab-df-convert {\n",
              "      background-color: #3B4455;\n",
              "      fill: #D2E3FC;\n",
              "    }\n",
              "\n",
              "    [theme=dark] .colab-df-convert:hover {\n",
              "      background-color: #434B5C;\n",
              "      box-shadow: 0px 1px 3px 1px rgba(0, 0, 0, 0.15);\n",
              "      filter: drop-shadow(0px 1px 2px rgba(0, 0, 0, 0.3));\n",
              "      fill: #FFFFFF;\n",
              "    }\n",
              "  </style>\n",
              "\n",
              "    <script>\n",
              "      const buttonEl =\n",
              "        document.querySelector('#df-9f85f516-2242-48ab-b089-c4d8dbc0b1a3 button.colab-df-convert');\n",
              "      buttonEl.style.display =\n",
              "        google.colab.kernel.accessAllowed ? 'block' : 'none';\n",
              "\n",
              "      async function convertToInteractive(key) {\n",
              "        const element = document.querySelector('#df-9f85f516-2242-48ab-b089-c4d8dbc0b1a3');\n",
              "        const dataTable =\n",
              "          await google.colab.kernel.invokeFunction('convertToInteractive',\n",
              "                                                    [key], {});\n",
              "        if (!dataTable) return;\n",
              "\n",
              "        const docLinkHtml = 'Like what you see? Visit the ' +\n",
              "          '<a target=\"_blank\" href=https://colab.research.google.com/notebooks/data_table.ipynb>data table notebook</a>'\n",
              "          + ' to learn more about interactive tables.';\n",
              "        element.innerHTML = '';\n",
              "        dataTable['output_type'] = 'display_data';\n",
              "        await google.colab.output.renderOutput(dataTable, element);\n",
              "        const docLink = document.createElement('div');\n",
              "        docLink.innerHTML = docLinkHtml;\n",
              "        element.appendChild(docLink);\n",
              "      }\n",
              "    </script>\n",
              "  </div>\n",
              "\n",
              "\n",
              "<div id=\"df-5429bb6c-cb95-4b70-b98b-b01c76b72f57\">\n",
              "  <button class=\"colab-df-quickchart\" onclick=\"quickchart('df-5429bb6c-cb95-4b70-b98b-b01c76b72f57')\"\n",
              "            title=\"Suggest charts\"\n",
              "            style=\"display:none;\">\n",
              "\n",
              "<svg xmlns=\"http://www.w3.org/2000/svg\" height=\"24px\"viewBox=\"0 0 24 24\"\n",
              "     width=\"24px\">\n",
              "    <g>\n",
              "        <path d=\"M19 3H5c-1.1 0-2 .9-2 2v14c0 1.1.9 2 2 2h14c1.1 0 2-.9 2-2V5c0-1.1-.9-2-2-2zM9 17H7v-7h2v7zm4 0h-2V7h2v10zm4 0h-2v-4h2v4z\"/>\n",
              "    </g>\n",
              "</svg>\n",
              "  </button>\n",
              "\n",
              "<style>\n",
              "  .colab-df-quickchart {\n",
              "      --bg-color: #E8F0FE;\n",
              "      --fill-color: #1967D2;\n",
              "      --hover-bg-color: #E2EBFA;\n",
              "      --hover-fill-color: #174EA6;\n",
              "      --disabled-fill-color: #AAA;\n",
              "      --disabled-bg-color: #DDD;\n",
              "  }\n",
              "\n",
              "  [theme=dark] .colab-df-quickchart {\n",
              "      --bg-color: #3B4455;\n",
              "      --fill-color: #D2E3FC;\n",
              "      --hover-bg-color: #434B5C;\n",
              "      --hover-fill-color: #FFFFFF;\n",
              "      --disabled-bg-color: #3B4455;\n",
              "      --disabled-fill-color: #666;\n",
              "  }\n",
              "\n",
              "  .colab-df-quickchart {\n",
              "    background-color: var(--bg-color);\n",
              "    border: none;\n",
              "    border-radius: 50%;\n",
              "    cursor: pointer;\n",
              "    display: none;\n",
              "    fill: var(--fill-color);\n",
              "    height: 32px;\n",
              "    padding: 0;\n",
              "    width: 32px;\n",
              "  }\n",
              "\n",
              "  .colab-df-quickchart:hover {\n",
              "    background-color: var(--hover-bg-color);\n",
              "    box-shadow: 0 1px 2px rgba(60, 64, 67, 0.3), 0 1px 3px 1px rgba(60, 64, 67, 0.15);\n",
              "    fill: var(--button-hover-fill-color);\n",
              "  }\n",
              "\n",
              "  .colab-df-quickchart-complete:disabled,\n",
              "  .colab-df-quickchart-complete:disabled:hover {\n",
              "    background-color: var(--disabled-bg-color);\n",
              "    fill: var(--disabled-fill-color);\n",
              "    box-shadow: none;\n",
              "  }\n",
              "\n",
              "  .colab-df-spinner {\n",
              "    border: 2px solid var(--fill-color);\n",
              "    border-color: transparent;\n",
              "    border-bottom-color: var(--fill-color);\n",
              "    animation:\n",
              "      spin 1s steps(1) infinite;\n",
              "  }\n",
              "\n",
              "  @keyframes spin {\n",
              "    0% {\n",
              "      border-color: transparent;\n",
              "      border-bottom-color: var(--fill-color);\n",
              "      border-left-color: var(--fill-color);\n",
              "    }\n",
              "    20% {\n",
              "      border-color: transparent;\n",
              "      border-left-color: var(--fill-color);\n",
              "      border-top-color: var(--fill-color);\n",
              "    }\n",
              "    30% {\n",
              "      border-color: transparent;\n",
              "      border-left-color: var(--fill-color);\n",
              "      border-top-color: var(--fill-color);\n",
              "      border-right-color: var(--fill-color);\n",
              "    }\n",
              "    40% {\n",
              "      border-color: transparent;\n",
              "      border-right-color: var(--fill-color);\n",
              "      border-top-color: var(--fill-color);\n",
              "    }\n",
              "    60% {\n",
              "      border-color: transparent;\n",
              "      border-right-color: var(--fill-color);\n",
              "    }\n",
              "    80% {\n",
              "      border-color: transparent;\n",
              "      border-right-color: var(--fill-color);\n",
              "      border-bottom-color: var(--fill-color);\n",
              "    }\n",
              "    90% {\n",
              "      border-color: transparent;\n",
              "      border-bottom-color: var(--fill-color);\n",
              "    }\n",
              "  }\n",
              "</style>\n",
              "\n",
              "  <script>\n",
              "    async function quickchart(key) {\n",
              "      const quickchartButtonEl =\n",
              "        document.querySelector('#' + key + ' button');\n",
              "      quickchartButtonEl.disabled = true;  // To prevent multiple clicks.\n",
              "      quickchartButtonEl.classList.add('colab-df-spinner');\n",
              "      try {\n",
              "        const charts = await google.colab.kernel.invokeFunction(\n",
              "            'suggestCharts', [key], {});\n",
              "      } catch (error) {\n",
              "        console.error('Error during call to suggestCharts:', error);\n",
              "      }\n",
              "      quickchartButtonEl.classList.remove('colab-df-spinner');\n",
              "      quickchartButtonEl.classList.add('colab-df-quickchart-complete');\n",
              "    }\n",
              "    (() => {\n",
              "      let quickchartButtonEl =\n",
              "        document.querySelector('#df-5429bb6c-cb95-4b70-b98b-b01c76b72f57 button');\n",
              "      quickchartButtonEl.style.display =\n",
              "        google.colab.kernel.accessAllowed ? 'block' : 'none';\n",
              "    })();\n",
              "  </script>\n",
              "</div>\n",
              "    </div>\n",
              "  </div>\n"
            ],
            "application/vnd.google.colaboratory.intrinsic+json": {
              "type": "dataframe",
              "variable_name": "mod_df",
              "summary": "{\n  \"name\": \"mod_df\",\n  \"rows\": 9481,\n  \"fields\": [\n    {\n      \"column\": \"name\",\n      \"properties\": {\n        \"dtype\": \"string\",\n        \"num_unique_values\": 8692,\n        \"samples\": [\n          \"Onsitego 1 year Extended Warranty for Small Appliances up to Rs 2500 (Email Delivery - No Physical Kit)\",\n          \"Kingston FURY 8GB 3200MHz DDR4 CL16 DIMM Fury Beast Black, Non RGB (KF432C16BB/8)\",\n          \"Tokdis Premium Bluetooth Smartwatch - Wireless Fitness Band for Boys, Girls, Men, Women & Kids | Activity Tracker I Sports...\"\n        ],\n        \"semantic_type\": \"\",\n        \"description\": \"\"\n      }\n    },\n    {\n      \"column\": \"main_category\",\n      \"properties\": {\n        \"dtype\": \"category\",\n        \"num_unique_values\": 1,\n        \"samples\": [\n          \"tv, audio & cameras\"\n        ],\n        \"semantic_type\": \"\",\n        \"description\": \"\"\n      }\n    },\n    {\n      \"column\": \"sub_category\",\n      \"properties\": {\n        \"dtype\": \"category\",\n        \"num_unique_values\": 1,\n        \"samples\": [\n          \"All Electronics\"\n        ],\n        \"semantic_type\": \"\",\n        \"description\": \"\"\n      }\n    },\n    {\n      \"column\": \"image\",\n      \"properties\": {\n        \"dtype\": \"string\",\n        \"num_unique_values\": 9212,\n        \"samples\": [\n          \"https://m.media-amazon.com/images/W/IMAGERENDERING_521856-T1/images/I/71pIYZ0ctGL._AC_UL320_.jpg\"\n        ],\n        \"semantic_type\": \"\",\n        \"description\": \"\"\n      }\n    },\n    {\n      \"column\": \"link\",\n      \"properties\": {\n        \"dtype\": \"string\",\n        \"num_unique_values\": 9481,\n        \"samples\": [\n          \"https://www.amazon.in/SpinBot-BattleMods-Automatic-Capacitive-Conduction/dp/B0B5R34FB2/ref=sr_1_8478?qid=1679134173&s=electronics&sr=1-8478\"\n        ],\n        \"semantic_type\": \"\",\n        \"description\": \"\"\n      }\n    },\n    {\n      \"column\": \"ratings\",\n      \"properties\": {\n        \"dtype\": \"number\",\n        \"std\": 0.3771887882510076,\n        \"min\": 1.0,\n        \"max\": 5.0,\n        \"num_unique_values\": 38,\n        \"samples\": [\n          1.9\n        ],\n        \"semantic_type\": \"\",\n        \"description\": \"\"\n      }\n    },\n    {\n      \"column\": \"no_of_ratings\",\n      \"properties\": {\n        \"dtype\": \"number\",\n        \"std\": 28120.501153240766,\n        \"min\": 1.0,\n        \"max\": 437651.0,\n        \"num_unique_values\": 3454,\n        \"samples\": [\n          4254.0\n        ],\n        \"semantic_type\": \"\",\n        \"description\": \"\"\n      }\n    },\n    {\n      \"column\": \"discount_price\",\n      \"properties\": {\n        \"dtype\": \"number\",\n        \"std\": 8824.28494710569,\n        \"min\": 10.0,\n        \"max\": 134999.0,\n        \"num_unique_values\": 1601,\n        \"samples\": [\n          173.0\n        ],\n        \"semantic_type\": \"\",\n        \"description\": \"\"\n      }\n    },\n    {\n      \"column\": \"actual_price\",\n      \"properties\": {\n        \"dtype\": \"number\",\n        \"std\": 12134.537629006507,\n        \"min\": 20.0,\n        \"max\": 161999.0,\n        \"num_unique_values\": 1053,\n        \"samples\": [\n          3112.0\n        ],\n        \"semantic_type\": \"\",\n        \"description\": \"\"\n      }\n    },\n    {\n      \"column\": \"correct_no_of_ratings\",\n      \"properties\": {\n        \"dtype\": \"boolean\",\n        \"num_unique_values\": 1,\n        \"samples\": [\n          true\n        ],\n        \"semantic_type\": \"\",\n        \"description\": \"\"\n      }\n    }\n  ]\n}"
            }
          },
          "metadata": {},
          "execution_count": 20
        }
      ]
    },
    {
      "cell_type": "code",
      "source": [
        "import plotly.express as px #for making interactive viz\n",
        "# Plot the total missing values\n",
        "x = mod_df.isnull().sum()\n",
        "\n",
        "fig = px.bar(x, orientation = \"h\",  text_auto='.2s',\n",
        "            color_discrete_sequence= [\"#ff6b00\"] * len(x))\n",
        "fig.update_layout(\n",
        "    title=\"<b>Missing Value Count</b>\",\n",
        "    xaxis_title=\"Total missing values\",\n",
        "    yaxis_title=\"Column Names\",\n",
        "    plot_bgcolor = \"#ECECEC\",\n",
        "    showlegend=False\n",
        ")\n",
        "fig.show()\n"
      ],
      "metadata": {
        "colab": {
          "base_uri": "https://localhost:8080/",
          "height": 542
        },
        "id": "MY6_NzRby7ff",
        "outputId": "2d6b7b5d-bff1-4b55-d8f6-58783d1d4c3b"
      },
      "execution_count": 21,
      "outputs": [
        {
          "output_type": "display_data",
          "data": {
            "text/html": [
              "<html>\n",
              "<head><meta charset=\"utf-8\" /></head>\n",
              "<body>\n",
              "    <div>            <script src=\"https://cdnjs.cloudflare.com/ajax/libs/mathjax/2.7.5/MathJax.js?config=TeX-AMS-MML_SVG\"></script><script type=\"text/javascript\">if (window.MathJax && window.MathJax.Hub && window.MathJax.Hub.Config) {window.MathJax.Hub.Config({SVG: {font: \"STIX-Web\"}});}</script>                <script type=\"text/javascript\">window.PlotlyConfig = {MathJaxConfig: 'local'};</script>\n",
              "        <script charset=\"utf-8\" src=\"https://cdn.plot.ly/plotly-2.24.1.min.js\"></script>                <div id=\"bcdbcc45-e256-4280-8156-f0a475f58136\" class=\"plotly-graph-div\" style=\"height:525px; width:100%;\"></div>            <script type=\"text/javascript\">                                    window.PLOTLYENV=window.PLOTLYENV || {};                                    if (document.getElementById(\"bcdbcc45-e256-4280-8156-f0a475f58136\")) {                    Plotly.newPlot(                        \"bcdbcc45-e256-4280-8156-f0a475f58136\",                        [{\"alignmentgroup\":\"True\",\"hovertemplate\":\"variable=0\\u003cbr\\u003evalue=%{x}\\u003cbr\\u003eindex=%{y}\\u003cextra\\u003e\\u003c\\u002fextra\\u003e\",\"legendgroup\":\"0\",\"marker\":{\"color\":\"#ff6b00\",\"pattern\":{\"shape\":\"\"}},\"name\":\"0\",\"offsetgroup\":\"0\",\"orientation\":\"h\",\"showlegend\":true,\"textposition\":\"auto\",\"texttemplate\":\"%{x:.2s}\",\"x\":[0,0,0,0,0,0,0,479,70,0],\"xaxis\":\"x\",\"y\":[\"name\",\"main_category\",\"sub_category\",\"image\",\"link\",\"ratings\",\"no_of_ratings\",\"discount_price\",\"actual_price\",\"correct_no_of_ratings\"],\"yaxis\":\"y\",\"type\":\"bar\"}],                        {\"template\":{\"data\":{\"histogram2dcontour\":[{\"type\":\"histogram2dcontour\",\"colorbar\":{\"outlinewidth\":0,\"ticks\":\"\"},\"colorscale\":[[0.0,\"#0d0887\"],[0.1111111111111111,\"#46039f\"],[0.2222222222222222,\"#7201a8\"],[0.3333333333333333,\"#9c179e\"],[0.4444444444444444,\"#bd3786\"],[0.5555555555555556,\"#d8576b\"],[0.6666666666666666,\"#ed7953\"],[0.7777777777777778,\"#fb9f3a\"],[0.8888888888888888,\"#fdca26\"],[1.0,\"#f0f921\"]]}],\"choropleth\":[{\"type\":\"choropleth\",\"colorbar\":{\"outlinewidth\":0,\"ticks\":\"\"}}],\"histogram2d\":[{\"type\":\"histogram2d\",\"colorbar\":{\"outlinewidth\":0,\"ticks\":\"\"},\"colorscale\":[[0.0,\"#0d0887\"],[0.1111111111111111,\"#46039f\"],[0.2222222222222222,\"#7201a8\"],[0.3333333333333333,\"#9c179e\"],[0.4444444444444444,\"#bd3786\"],[0.5555555555555556,\"#d8576b\"],[0.6666666666666666,\"#ed7953\"],[0.7777777777777778,\"#fb9f3a\"],[0.8888888888888888,\"#fdca26\"],[1.0,\"#f0f921\"]]}],\"heatmap\":[{\"type\":\"heatmap\",\"colorbar\":{\"outlinewidth\":0,\"ticks\":\"\"},\"colorscale\":[[0.0,\"#0d0887\"],[0.1111111111111111,\"#46039f\"],[0.2222222222222222,\"#7201a8\"],[0.3333333333333333,\"#9c179e\"],[0.4444444444444444,\"#bd3786\"],[0.5555555555555556,\"#d8576b\"],[0.6666666666666666,\"#ed7953\"],[0.7777777777777778,\"#fb9f3a\"],[0.8888888888888888,\"#fdca26\"],[1.0,\"#f0f921\"]]}],\"heatmapgl\":[{\"type\":\"heatmapgl\",\"colorbar\":{\"outlinewidth\":0,\"ticks\":\"\"},\"colorscale\":[[0.0,\"#0d0887\"],[0.1111111111111111,\"#46039f\"],[0.2222222222222222,\"#7201a8\"],[0.3333333333333333,\"#9c179e\"],[0.4444444444444444,\"#bd3786\"],[0.5555555555555556,\"#d8576b\"],[0.6666666666666666,\"#ed7953\"],[0.7777777777777778,\"#fb9f3a\"],[0.8888888888888888,\"#fdca26\"],[1.0,\"#f0f921\"]]}],\"contourcarpet\":[{\"type\":\"contourcarpet\",\"colorbar\":{\"outlinewidth\":0,\"ticks\":\"\"}}],\"contour\":[{\"type\":\"contour\",\"colorbar\":{\"outlinewidth\":0,\"ticks\":\"\"},\"colorscale\":[[0.0,\"#0d0887\"],[0.1111111111111111,\"#46039f\"],[0.2222222222222222,\"#7201a8\"],[0.3333333333333333,\"#9c179e\"],[0.4444444444444444,\"#bd3786\"],[0.5555555555555556,\"#d8576b\"],[0.6666666666666666,\"#ed7953\"],[0.7777777777777778,\"#fb9f3a\"],[0.8888888888888888,\"#fdca26\"],[1.0,\"#f0f921\"]]}],\"surface\":[{\"type\":\"surface\",\"colorbar\":{\"outlinewidth\":0,\"ticks\":\"\"},\"colorscale\":[[0.0,\"#0d0887\"],[0.1111111111111111,\"#46039f\"],[0.2222222222222222,\"#7201a8\"],[0.3333333333333333,\"#9c179e\"],[0.4444444444444444,\"#bd3786\"],[0.5555555555555556,\"#d8576b\"],[0.6666666666666666,\"#ed7953\"],[0.7777777777777778,\"#fb9f3a\"],[0.8888888888888888,\"#fdca26\"],[1.0,\"#f0f921\"]]}],\"mesh3d\":[{\"type\":\"mesh3d\",\"colorbar\":{\"outlinewidth\":0,\"ticks\":\"\"}}],\"scatter\":[{\"fillpattern\":{\"fillmode\":\"overlay\",\"size\":10,\"solidity\":0.2},\"type\":\"scatter\"}],\"parcoords\":[{\"type\":\"parcoords\",\"line\":{\"colorbar\":{\"outlinewidth\":0,\"ticks\":\"\"}}}],\"scatterpolargl\":[{\"type\":\"scatterpolargl\",\"marker\":{\"colorbar\":{\"outlinewidth\":0,\"ticks\":\"\"}}}],\"bar\":[{\"error_x\":{\"color\":\"#2a3f5f\"},\"error_y\":{\"color\":\"#2a3f5f\"},\"marker\":{\"line\":{\"color\":\"#E5ECF6\",\"width\":0.5},\"pattern\":{\"fillmode\":\"overlay\",\"size\":10,\"solidity\":0.2}},\"type\":\"bar\"}],\"scattergeo\":[{\"type\":\"scattergeo\",\"marker\":{\"colorbar\":{\"outlinewidth\":0,\"ticks\":\"\"}}}],\"scatterpolar\":[{\"type\":\"scatterpolar\",\"marker\":{\"colorbar\":{\"outlinewidth\":0,\"ticks\":\"\"}}}],\"histogram\":[{\"marker\":{\"pattern\":{\"fillmode\":\"overlay\",\"size\":10,\"solidity\":0.2}},\"type\":\"histogram\"}],\"scattergl\":[{\"type\":\"scattergl\",\"marker\":{\"colorbar\":{\"outlinewidth\":0,\"ticks\":\"\"}}}],\"scatter3d\":[{\"type\":\"scatter3d\",\"line\":{\"colorbar\":{\"outlinewidth\":0,\"ticks\":\"\"}},\"marker\":{\"colorbar\":{\"outlinewidth\":0,\"ticks\":\"\"}}}],\"scattermapbox\":[{\"type\":\"scattermapbox\",\"marker\":{\"colorbar\":{\"outlinewidth\":0,\"ticks\":\"\"}}}],\"scatterternary\":[{\"type\":\"scatterternary\",\"marker\":{\"colorbar\":{\"outlinewidth\":0,\"ticks\":\"\"}}}],\"scattercarpet\":[{\"type\":\"scattercarpet\",\"marker\":{\"colorbar\":{\"outlinewidth\":0,\"ticks\":\"\"}}}],\"carpet\":[{\"aaxis\":{\"endlinecolor\":\"#2a3f5f\",\"gridcolor\":\"white\",\"linecolor\":\"white\",\"minorgridcolor\":\"white\",\"startlinecolor\":\"#2a3f5f\"},\"baxis\":{\"endlinecolor\":\"#2a3f5f\",\"gridcolor\":\"white\",\"linecolor\":\"white\",\"minorgridcolor\":\"white\",\"startlinecolor\":\"#2a3f5f\"},\"type\":\"carpet\"}],\"table\":[{\"cells\":{\"fill\":{\"color\":\"#EBF0F8\"},\"line\":{\"color\":\"white\"}},\"header\":{\"fill\":{\"color\":\"#C8D4E3\"},\"line\":{\"color\":\"white\"}},\"type\":\"table\"}],\"barpolar\":[{\"marker\":{\"line\":{\"color\":\"#E5ECF6\",\"width\":0.5},\"pattern\":{\"fillmode\":\"overlay\",\"size\":10,\"solidity\":0.2}},\"type\":\"barpolar\"}],\"pie\":[{\"automargin\":true,\"type\":\"pie\"}]},\"layout\":{\"autotypenumbers\":\"strict\",\"colorway\":[\"#636efa\",\"#EF553B\",\"#00cc96\",\"#ab63fa\",\"#FFA15A\",\"#19d3f3\",\"#FF6692\",\"#B6E880\",\"#FF97FF\",\"#FECB52\"],\"font\":{\"color\":\"#2a3f5f\"},\"hovermode\":\"closest\",\"hoverlabel\":{\"align\":\"left\"},\"paper_bgcolor\":\"white\",\"plot_bgcolor\":\"#E5ECF6\",\"polar\":{\"bgcolor\":\"#E5ECF6\",\"angularaxis\":{\"gridcolor\":\"white\",\"linecolor\":\"white\",\"ticks\":\"\"},\"radialaxis\":{\"gridcolor\":\"white\",\"linecolor\":\"white\",\"ticks\":\"\"}},\"ternary\":{\"bgcolor\":\"#E5ECF6\",\"aaxis\":{\"gridcolor\":\"white\",\"linecolor\":\"white\",\"ticks\":\"\"},\"baxis\":{\"gridcolor\":\"white\",\"linecolor\":\"white\",\"ticks\":\"\"},\"caxis\":{\"gridcolor\":\"white\",\"linecolor\":\"white\",\"ticks\":\"\"}},\"coloraxis\":{\"colorbar\":{\"outlinewidth\":0,\"ticks\":\"\"}},\"colorscale\":{\"sequential\":[[0.0,\"#0d0887\"],[0.1111111111111111,\"#46039f\"],[0.2222222222222222,\"#7201a8\"],[0.3333333333333333,\"#9c179e\"],[0.4444444444444444,\"#bd3786\"],[0.5555555555555556,\"#d8576b\"],[0.6666666666666666,\"#ed7953\"],[0.7777777777777778,\"#fb9f3a\"],[0.8888888888888888,\"#fdca26\"],[1.0,\"#f0f921\"]],\"sequentialminus\":[[0.0,\"#0d0887\"],[0.1111111111111111,\"#46039f\"],[0.2222222222222222,\"#7201a8\"],[0.3333333333333333,\"#9c179e\"],[0.4444444444444444,\"#bd3786\"],[0.5555555555555556,\"#d8576b\"],[0.6666666666666666,\"#ed7953\"],[0.7777777777777778,\"#fb9f3a\"],[0.8888888888888888,\"#fdca26\"],[1.0,\"#f0f921\"]],\"diverging\":[[0,\"#8e0152\"],[0.1,\"#c51b7d\"],[0.2,\"#de77ae\"],[0.3,\"#f1b6da\"],[0.4,\"#fde0ef\"],[0.5,\"#f7f7f7\"],[0.6,\"#e6f5d0\"],[0.7,\"#b8e186\"],[0.8,\"#7fbc41\"],[0.9,\"#4d9221\"],[1,\"#276419\"]]},\"xaxis\":{\"gridcolor\":\"white\",\"linecolor\":\"white\",\"ticks\":\"\",\"title\":{\"standoff\":15},\"zerolinecolor\":\"white\",\"automargin\":true,\"zerolinewidth\":2},\"yaxis\":{\"gridcolor\":\"white\",\"linecolor\":\"white\",\"ticks\":\"\",\"title\":{\"standoff\":15},\"zerolinecolor\":\"white\",\"automargin\":true,\"zerolinewidth\":2},\"scene\":{\"xaxis\":{\"backgroundcolor\":\"#E5ECF6\",\"gridcolor\":\"white\",\"linecolor\":\"white\",\"showbackground\":true,\"ticks\":\"\",\"zerolinecolor\":\"white\",\"gridwidth\":2},\"yaxis\":{\"backgroundcolor\":\"#E5ECF6\",\"gridcolor\":\"white\",\"linecolor\":\"white\",\"showbackground\":true,\"ticks\":\"\",\"zerolinecolor\":\"white\",\"gridwidth\":2},\"zaxis\":{\"backgroundcolor\":\"#E5ECF6\",\"gridcolor\":\"white\",\"linecolor\":\"white\",\"showbackground\":true,\"ticks\":\"\",\"zerolinecolor\":\"white\",\"gridwidth\":2}},\"shapedefaults\":{\"line\":{\"color\":\"#2a3f5f\"}},\"annotationdefaults\":{\"arrowcolor\":\"#2a3f5f\",\"arrowhead\":0,\"arrowwidth\":1},\"geo\":{\"bgcolor\":\"white\",\"landcolor\":\"#E5ECF6\",\"subunitcolor\":\"white\",\"showland\":true,\"showlakes\":true,\"lakecolor\":\"white\"},\"title\":{\"x\":0.05},\"mapbox\":{\"style\":\"light\"}}},\"xaxis\":{\"anchor\":\"y\",\"domain\":[0.0,1.0],\"title\":{\"text\":\"Total missing values\"}},\"yaxis\":{\"anchor\":\"x\",\"domain\":[0.0,1.0],\"title\":{\"text\":\"Column Names\"}},\"legend\":{\"title\":{\"text\":\"variable\"},\"tracegroupgap\":0},\"margin\":{\"t\":60},\"barmode\":\"relative\",\"title\":{\"text\":\"\\u003cb\\u003eMissing Value Count\\u003c\\u002fb\\u003e\"},\"plot_bgcolor\":\"#ECECEC\",\"showlegend\":false},                        {\"responsive\": true}                    ).then(function(){\n",
              "                            \n",
              "var gd = document.getElementById('bcdbcc45-e256-4280-8156-f0a475f58136');\n",
              "var x = new MutationObserver(function (mutations, observer) {{\n",
              "        var display = window.getComputedStyle(gd).display;\n",
              "        if (!display || display === 'none') {{\n",
              "            console.log([gd, 'removed!']);\n",
              "            Plotly.purge(gd);\n",
              "            observer.disconnect();\n",
              "        }}\n",
              "}});\n",
              "\n",
              "// Listen for the removal of the full notebook cells\n",
              "var notebookContainer = gd.closest('#notebook-container');\n",
              "if (notebookContainer) {{\n",
              "    x.observe(notebookContainer, {childList: true});\n",
              "}}\n",
              "\n",
              "// Listen for the clearing of the current output cell\n",
              "var outputEl = gd.closest('.output');\n",
              "if (outputEl) {{\n",
              "    x.observe(outputEl, {childList: true});\n",
              "}}\n",
              "\n",
              "                        })                };                            </script>        </div>\n",
              "</body>\n",
              "</html>"
            ]
          },
          "metadata": {}
        }
      ]
    },
    {
      "cell_type": "code",
      "source": [
        "missing_no_of_ratings = mod_df[mod_df[\"actual_price\"].isnull()]\n",
        "missing_no_of_ratings.head(2)\n"
      ],
      "metadata": {
        "colab": {
          "base_uri": "https://localhost:8080/",
          "height": 320
        },
        "id": "y38VboInzeG9",
        "outputId": "47953acc-3a05-4f35-bee0-3d9eb27f365c"
      },
      "execution_count": 22,
      "outputs": [
        {
          "output_type": "execute_result",
          "data": {
            "text/plain": [
              "                                                                                                                              name  \\\n",
              "80   Samsung Galaxy M33 5G (Deep Ocean Blue, 6GB, 128GB Storage) | 6000mAh Battery | Upto 12GB RAM with RAM Plus | Travel Adapt...   \n",
              "416  realme TechLife Buds T100 Bluetooth Truly Wireless in Ear Earbuds with mic, AI ENC for Calls, Google Fast Pair, 28 Hours T...   \n",
              "\n",
              "           main_category     sub_category  \\\n",
              "80   tv, audio & cameras  All Electronics   \n",
              "416  tv, audio & cameras  All Electronics   \n",
              "\n",
              "                                                                                                image  \\\n",
              "80                                     https://m.media-amazon.com/images/I/81xvGbBFNhL._AC_UL320_.jpg   \n",
              "416  https://m.media-amazon.com/images/W/IMAGERENDERING_521856-T2/images/I/61q65Ob+nrL._AC_UL320_.jpg   \n",
              "\n",
              "                                                                                                                                   link  \\\n",
              "80    https://www.amazon.in/Samsung-Storage-6000mAh-Purchased-Separately/dp/B09TWDYSWQ/ref=sr_1_83?qid=1679133654&s=electronics&sr=1-83   \n",
              "416  https://www.amazon.in/realme-TechLife-Bluetooth-Wireless-Playback/dp/B0BQLWZLJX/ref=sr_1_418?qid=1679133675&s=electronics&sr=1-418   \n",
              "\n",
              "     ratings  no_of_ratings  discount_price  actual_price  \\\n",
              "80       4.1        24863.0             NaN           NaN   \n",
              "416      3.7           46.0             NaN           NaN   \n",
              "\n",
              "     correct_no_of_ratings  \n",
              "80                    True  \n",
              "416                   True  "
            ],
            "text/html": [
              "\n",
              "  <div id=\"df-c37e27fe-2750-4640-a7e1-7e95c896888a\" class=\"colab-df-container\">\n",
              "    <div>\n",
              "<style scoped>\n",
              "    .dataframe tbody tr th:only-of-type {\n",
              "        vertical-align: middle;\n",
              "    }\n",
              "\n",
              "    .dataframe tbody tr th {\n",
              "        vertical-align: top;\n",
              "    }\n",
              "\n",
              "    .dataframe thead th {\n",
              "        text-align: right;\n",
              "    }\n",
              "</style>\n",
              "<table border=\"1\" class=\"dataframe\">\n",
              "  <thead>\n",
              "    <tr style=\"text-align: right;\">\n",
              "      <th></th>\n",
              "      <th>name</th>\n",
              "      <th>main_category</th>\n",
              "      <th>sub_category</th>\n",
              "      <th>image</th>\n",
              "      <th>link</th>\n",
              "      <th>ratings</th>\n",
              "      <th>no_of_ratings</th>\n",
              "      <th>discount_price</th>\n",
              "      <th>actual_price</th>\n",
              "      <th>correct_no_of_ratings</th>\n",
              "    </tr>\n",
              "  </thead>\n",
              "  <tbody>\n",
              "    <tr>\n",
              "      <th>80</th>\n",
              "      <td>Samsung Galaxy M33 5G (Deep Ocean Blue, 6GB, 128GB Storage) | 6000mAh Battery | Upto 12GB RAM with RAM Plus | Travel Adapt...</td>\n",
              "      <td>tv, audio &amp; cameras</td>\n",
              "      <td>All Electronics</td>\n",
              "      <td>https://m.media-amazon.com/images/I/81xvGbBFNhL._AC_UL320_.jpg</td>\n",
              "      <td>https://www.amazon.in/Samsung-Storage-6000mAh-Purchased-Separately/dp/B09TWDYSWQ/ref=sr_1_83?qid=1679133654&amp;s=electronics&amp;sr=1-83</td>\n",
              "      <td>4.1</td>\n",
              "      <td>24863.0</td>\n",
              "      <td>NaN</td>\n",
              "      <td>NaN</td>\n",
              "      <td>True</td>\n",
              "    </tr>\n",
              "    <tr>\n",
              "      <th>416</th>\n",
              "      <td>realme TechLife Buds T100 Bluetooth Truly Wireless in Ear Earbuds with mic, AI ENC for Calls, Google Fast Pair, 28 Hours T...</td>\n",
              "      <td>tv, audio &amp; cameras</td>\n",
              "      <td>All Electronics</td>\n",
              "      <td>https://m.media-amazon.com/images/W/IMAGERENDERING_521856-T2/images/I/61q65Ob+nrL._AC_UL320_.jpg</td>\n",
              "      <td>https://www.amazon.in/realme-TechLife-Bluetooth-Wireless-Playback/dp/B0BQLWZLJX/ref=sr_1_418?qid=1679133675&amp;s=electronics&amp;sr=1-418</td>\n",
              "      <td>3.7</td>\n",
              "      <td>46.0</td>\n",
              "      <td>NaN</td>\n",
              "      <td>NaN</td>\n",
              "      <td>True</td>\n",
              "    </tr>\n",
              "  </tbody>\n",
              "</table>\n",
              "</div>\n",
              "    <div class=\"colab-df-buttons\">\n",
              "\n",
              "  <div class=\"colab-df-container\">\n",
              "    <button class=\"colab-df-convert\" onclick=\"convertToInteractive('df-c37e27fe-2750-4640-a7e1-7e95c896888a')\"\n",
              "            title=\"Convert this dataframe to an interactive table.\"\n",
              "            style=\"display:none;\">\n",
              "\n",
              "  <svg xmlns=\"http://www.w3.org/2000/svg\" height=\"24px\" viewBox=\"0 -960 960 960\">\n",
              "    <path d=\"M120-120v-720h720v720H120Zm60-500h600v-160H180v160Zm220 220h160v-160H400v160Zm0 220h160v-160H400v160ZM180-400h160v-160H180v160Zm440 0h160v-160H620v160ZM180-180h160v-160H180v160Zm440 0h160v-160H620v160Z\"/>\n",
              "  </svg>\n",
              "    </button>\n",
              "\n",
              "  <style>\n",
              "    .colab-df-container {\n",
              "      display:flex;\n",
              "      gap: 12px;\n",
              "    }\n",
              "\n",
              "    .colab-df-convert {\n",
              "      background-color: #E8F0FE;\n",
              "      border: none;\n",
              "      border-radius: 50%;\n",
              "      cursor: pointer;\n",
              "      display: none;\n",
              "      fill: #1967D2;\n",
              "      height: 32px;\n",
              "      padding: 0 0 0 0;\n",
              "      width: 32px;\n",
              "    }\n",
              "\n",
              "    .colab-df-convert:hover {\n",
              "      background-color: #E2EBFA;\n",
              "      box-shadow: 0px 1px 2px rgba(60, 64, 67, 0.3), 0px 1px 3px 1px rgba(60, 64, 67, 0.15);\n",
              "      fill: #174EA6;\n",
              "    }\n",
              "\n",
              "    .colab-df-buttons div {\n",
              "      margin-bottom: 4px;\n",
              "    }\n",
              "\n",
              "    [theme=dark] .colab-df-convert {\n",
              "      background-color: #3B4455;\n",
              "      fill: #D2E3FC;\n",
              "    }\n",
              "\n",
              "    [theme=dark] .colab-df-convert:hover {\n",
              "      background-color: #434B5C;\n",
              "      box-shadow: 0px 1px 3px 1px rgba(0, 0, 0, 0.15);\n",
              "      filter: drop-shadow(0px 1px 2px rgba(0, 0, 0, 0.3));\n",
              "      fill: #FFFFFF;\n",
              "    }\n",
              "  </style>\n",
              "\n",
              "    <script>\n",
              "      const buttonEl =\n",
              "        document.querySelector('#df-c37e27fe-2750-4640-a7e1-7e95c896888a button.colab-df-convert');\n",
              "      buttonEl.style.display =\n",
              "        google.colab.kernel.accessAllowed ? 'block' : 'none';\n",
              "\n",
              "      async function convertToInteractive(key) {\n",
              "        const element = document.querySelector('#df-c37e27fe-2750-4640-a7e1-7e95c896888a');\n",
              "        const dataTable =\n",
              "          await google.colab.kernel.invokeFunction('convertToInteractive',\n",
              "                                                    [key], {});\n",
              "        if (!dataTable) return;\n",
              "\n",
              "        const docLinkHtml = 'Like what you see? Visit the ' +\n",
              "          '<a target=\"_blank\" href=https://colab.research.google.com/notebooks/data_table.ipynb>data table notebook</a>'\n",
              "          + ' to learn more about interactive tables.';\n",
              "        element.innerHTML = '';\n",
              "        dataTable['output_type'] = 'display_data';\n",
              "        await google.colab.output.renderOutput(dataTable, element);\n",
              "        const docLink = document.createElement('div');\n",
              "        docLink.innerHTML = docLinkHtml;\n",
              "        element.appendChild(docLink);\n",
              "      }\n",
              "    </script>\n",
              "  </div>\n",
              "\n",
              "\n",
              "<div id=\"df-b0180db1-9e40-4ccd-94f6-e728755a5abf\">\n",
              "  <button class=\"colab-df-quickchart\" onclick=\"quickchart('df-b0180db1-9e40-4ccd-94f6-e728755a5abf')\"\n",
              "            title=\"Suggest charts\"\n",
              "            style=\"display:none;\">\n",
              "\n",
              "<svg xmlns=\"http://www.w3.org/2000/svg\" height=\"24px\"viewBox=\"0 0 24 24\"\n",
              "     width=\"24px\">\n",
              "    <g>\n",
              "        <path d=\"M19 3H5c-1.1 0-2 .9-2 2v14c0 1.1.9 2 2 2h14c1.1 0 2-.9 2-2V5c0-1.1-.9-2-2-2zM9 17H7v-7h2v7zm4 0h-2V7h2v10zm4 0h-2v-4h2v4z\"/>\n",
              "    </g>\n",
              "</svg>\n",
              "  </button>\n",
              "\n",
              "<style>\n",
              "  .colab-df-quickchart {\n",
              "      --bg-color: #E8F0FE;\n",
              "      --fill-color: #1967D2;\n",
              "      --hover-bg-color: #E2EBFA;\n",
              "      --hover-fill-color: #174EA6;\n",
              "      --disabled-fill-color: #AAA;\n",
              "      --disabled-bg-color: #DDD;\n",
              "  }\n",
              "\n",
              "  [theme=dark] .colab-df-quickchart {\n",
              "      --bg-color: #3B4455;\n",
              "      --fill-color: #D2E3FC;\n",
              "      --hover-bg-color: #434B5C;\n",
              "      --hover-fill-color: #FFFFFF;\n",
              "      --disabled-bg-color: #3B4455;\n",
              "      --disabled-fill-color: #666;\n",
              "  }\n",
              "\n",
              "  .colab-df-quickchart {\n",
              "    background-color: var(--bg-color);\n",
              "    border: none;\n",
              "    border-radius: 50%;\n",
              "    cursor: pointer;\n",
              "    display: none;\n",
              "    fill: var(--fill-color);\n",
              "    height: 32px;\n",
              "    padding: 0;\n",
              "    width: 32px;\n",
              "  }\n",
              "\n",
              "  .colab-df-quickchart:hover {\n",
              "    background-color: var(--hover-bg-color);\n",
              "    box-shadow: 0 1px 2px rgba(60, 64, 67, 0.3), 0 1px 3px 1px rgba(60, 64, 67, 0.15);\n",
              "    fill: var(--button-hover-fill-color);\n",
              "  }\n",
              "\n",
              "  .colab-df-quickchart-complete:disabled,\n",
              "  .colab-df-quickchart-complete:disabled:hover {\n",
              "    background-color: var(--disabled-bg-color);\n",
              "    fill: var(--disabled-fill-color);\n",
              "    box-shadow: none;\n",
              "  }\n",
              "\n",
              "  .colab-df-spinner {\n",
              "    border: 2px solid var(--fill-color);\n",
              "    border-color: transparent;\n",
              "    border-bottom-color: var(--fill-color);\n",
              "    animation:\n",
              "      spin 1s steps(1) infinite;\n",
              "  }\n",
              "\n",
              "  @keyframes spin {\n",
              "    0% {\n",
              "      border-color: transparent;\n",
              "      border-bottom-color: var(--fill-color);\n",
              "      border-left-color: var(--fill-color);\n",
              "    }\n",
              "    20% {\n",
              "      border-color: transparent;\n",
              "      border-left-color: var(--fill-color);\n",
              "      border-top-color: var(--fill-color);\n",
              "    }\n",
              "    30% {\n",
              "      border-color: transparent;\n",
              "      border-left-color: var(--fill-color);\n",
              "      border-top-color: var(--fill-color);\n",
              "      border-right-color: var(--fill-color);\n",
              "    }\n",
              "    40% {\n",
              "      border-color: transparent;\n",
              "      border-right-color: var(--fill-color);\n",
              "      border-top-color: var(--fill-color);\n",
              "    }\n",
              "    60% {\n",
              "      border-color: transparent;\n",
              "      border-right-color: var(--fill-color);\n",
              "    }\n",
              "    80% {\n",
              "      border-color: transparent;\n",
              "      border-right-color: var(--fill-color);\n",
              "      border-bottom-color: var(--fill-color);\n",
              "    }\n",
              "    90% {\n",
              "      border-color: transparent;\n",
              "      border-bottom-color: var(--fill-color);\n",
              "    }\n",
              "  }\n",
              "</style>\n",
              "\n",
              "  <script>\n",
              "    async function quickchart(key) {\n",
              "      const quickchartButtonEl =\n",
              "        document.querySelector('#' + key + ' button');\n",
              "      quickchartButtonEl.disabled = true;  // To prevent multiple clicks.\n",
              "      quickchartButtonEl.classList.add('colab-df-spinner');\n",
              "      try {\n",
              "        const charts = await google.colab.kernel.invokeFunction(\n",
              "            'suggestCharts', [key], {});\n",
              "      } catch (error) {\n",
              "        console.error('Error during call to suggestCharts:', error);\n",
              "      }\n",
              "      quickchartButtonEl.classList.remove('colab-df-spinner');\n",
              "      quickchartButtonEl.classList.add('colab-df-quickchart-complete');\n",
              "    }\n",
              "    (() => {\n",
              "      let quickchartButtonEl =\n",
              "        document.querySelector('#df-b0180db1-9e40-4ccd-94f6-e728755a5abf button');\n",
              "      quickchartButtonEl.style.display =\n",
              "        google.colab.kernel.accessAllowed ? 'block' : 'none';\n",
              "    })();\n",
              "  </script>\n",
              "</div>\n",
              "    </div>\n",
              "  </div>\n"
            ],
            "application/vnd.google.colaboratory.intrinsic+json": {
              "type": "dataframe",
              "variable_name": "missing_no_of_ratings",
              "summary": "{\n  \"name\": \"missing_no_of_ratings\",\n  \"rows\": 70,\n  \"fields\": [\n    {\n      \"column\": \"name\",\n      \"properties\": {\n        \"dtype\": \"string\",\n        \"num_unique_values\": 69,\n        \"samples\": [\n          \"Samsung Galaxy S21 FE 5G (Lavender, 8GB, 128GB Storage)\",\n          \"Samsung Galaxy M33 5G (Deep Ocean Blue, 6GB, 128GB Storage) | 6000mAh Battery | Upto 12GB RAM with RAM Plus | Travel Adapt...\",\n          \"realme C33 (Aqua Blue, 4GB RAM, 64GB Storage)\"\n        ],\n        \"semantic_type\": \"\",\n        \"description\": \"\"\n      }\n    },\n    {\n      \"column\": \"main_category\",\n      \"properties\": {\n        \"dtype\": \"category\",\n        \"num_unique_values\": 1,\n        \"samples\": [\n          \"tv, audio & cameras\"\n        ],\n        \"semantic_type\": \"\",\n        \"description\": \"\"\n      }\n    },\n    {\n      \"column\": \"sub_category\",\n      \"properties\": {\n        \"dtype\": \"category\",\n        \"num_unique_values\": 1,\n        \"samples\": [\n          \"All Electronics\"\n        ],\n        \"semantic_type\": \"\",\n        \"description\": \"\"\n      }\n    },\n    {\n      \"column\": \"image\",\n      \"properties\": {\n        \"dtype\": \"string\",\n        \"num_unique_values\": 70,\n        \"samples\": [\n          \"https://m.media-amazon.com/images/I/614cir2QNOL._AC_UL320_.jpg\"\n        ],\n        \"semantic_type\": \"\",\n        \"description\": \"\"\n      }\n    },\n    {\n      \"column\": \"link\",\n      \"properties\": {\n        \"dtype\": \"string\",\n        \"num_unique_values\": 70,\n        \"samples\": [\n          \"https://www.amazon.in/Portronics-Ruffpad-Re-Writable-Writing-Battery/dp/B09VC2D2WG/ref=sr_1_3657?qid=1679133881&s=electronics&sr=1-3657\"\n        ],\n        \"semantic_type\": \"\",\n        \"description\": \"\"\n      }\n    },\n    {\n      \"column\": \"ratings\",\n      \"properties\": {\n        \"dtype\": \"number\",\n        \"std\": 0.2814521645164113,\n        \"min\": 2.9,\n        \"max\": 4.5,\n        \"num_unique_values\": 12,\n        \"samples\": [\n          3.0\n        ],\n        \"semantic_type\": \"\",\n        \"description\": \"\"\n      }\n    },\n    {\n      \"column\": \"no_of_ratings\",\n      \"properties\": {\n        \"dtype\": \"number\",\n        \"std\": 23340.57320101115,\n        \"min\": 2.0,\n        \"max\": 132755.0,\n        \"num_unique_values\": 64,\n        \"samples\": [\n          1910.0\n        ],\n        \"semantic_type\": \"\",\n        \"description\": \"\"\n      }\n    },\n    {\n      \"column\": \"discount_price\",\n      \"properties\": {\n        \"dtype\": \"number\",\n        \"std\": null,\n        \"min\": null,\n        \"max\": null,\n        \"num_unique_values\": 0,\n        \"samples\": [],\n        \"semantic_type\": \"\",\n        \"description\": \"\"\n      }\n    },\n    {\n      \"column\": \"actual_price\",\n      \"properties\": {\n        \"dtype\": \"number\",\n        \"std\": null,\n        \"min\": null,\n        \"max\": null,\n        \"num_unique_values\": 0,\n        \"samples\": [],\n        \"semantic_type\": \"\",\n        \"description\": \"\"\n      }\n    },\n    {\n      \"column\": \"correct_no_of_ratings\",\n      \"properties\": {\n        \"dtype\": \"boolean\",\n        \"num_unique_values\": 1,\n        \"samples\": [],\n        \"semantic_type\": \"\",\n        \"description\": \"\"\n      }\n    }\n  ]\n}"
            }
          },
          "metadata": {},
          "execution_count": 22
        }
      ]
    },
    {
      "cell_type": "code",
      "source": [
        "# Since our further analysis is based on the price column so let us drop it.\n",
        "df = mod_df.dropna(subset=['actual_price','discount_price'])\n",
        "df.head()\n"
      ],
      "metadata": {
        "colab": {
          "base_uri": "https://localhost:8080/",
          "height": 484
        },
        "id": "clPe7NNKzg6X",
        "outputId": "fec5e7de-7c41-438a-a291-38154fa605a2"
      },
      "execution_count": 23,
      "outputs": [
        {
          "output_type": "execute_result",
          "data": {
            "text/plain": [
              "                                                                                                                            name  \\\n",
              "0                                                                           Redmi 10 Power (Power Black, 8GB RAM, 128GB Storage)   \n",
              "1                                                                  OnePlus Nord CE 2 Lite 5G (Blue Tide, 6GB RAM, 128GB Storage)   \n",
              "2  OnePlus Bullets Z2 Bluetooth Wireless in Ear Earphones with Mic, Bombastic Bass - 12.4 Mm Drivers, 10 Mins Charge - 20 Hrs...   \n",
              "3  Samsung Galaxy M33 5G (Mystique Green, 6GB, 128GB Storage) | 6000mAh Battery | Upto 12GB RAM with RAM Plus | Travel Adapte...   \n",
              "4                                                                 OnePlus Nord CE 2 Lite 5G (Black Dusk, 6GB RAM, 128GB Storage)   \n",
              "\n",
              "         main_category     sub_category  \\\n",
              "0  tv, audio & cameras  All Electronics   \n",
              "1  tv, audio & cameras  All Electronics   \n",
              "2  tv, audio & cameras  All Electronics   \n",
              "3  tv, audio & cameras  All Electronics   \n",
              "4  tv, audio & cameras  All Electronics   \n",
              "\n",
              "                                                            image  \\\n",
              "0  https://m.media-amazon.com/images/I/81eM15lVcJL._AC_UL320_.jpg   \n",
              "1  https://m.media-amazon.com/images/I/71AvQd3VzqL._AC_UL320_.jpg   \n",
              "2  https://m.media-amazon.com/images/I/51UhwaQXCpL._AC_UL320_.jpg   \n",
              "3  https://m.media-amazon.com/images/I/81I3w4J6yjL._AC_UL320_.jpg   \n",
              "4  https://m.media-amazon.com/images/I/71V--WZVUIL._AC_UL320_.jpg   \n",
              "\n",
              "                                                                                                                                link  \\\n",
              "0                 https://www.amazon.in/Redmi-Power-Black-128GB-Storage/dp/B09Y64H8VS/ref=sr_1_4?qid=1679133649&s=electronics&sr=1-4   \n",
              "1                 https://www.amazon.in/OnePlus-Nord-Lite-128GB-Storage/dp/B09WQYFLRX/ref=sr_1_5?qid=1679133649&s=electronics&sr=1-5   \n",
              "2  https://www.amazon.in/Oneplus-Bluetooth-Wireless-Earphones-Bombastic/dp/B09TVVGXWS/ref=sr_1_6?qid=1679133649&s=electronics&sr=1-6   \n",
              "3   https://www.amazon.in/Samsung-Mystique-Storage-Purchased-Separately/dp/B09TWGDY4W/ref=sr_1_7?qid=1679133649&s=electronics&sr=1-7   \n",
              "4                https://www.amazon.in/OnePlus-Nord-Black-128GB-Storage/dp/B09WQY65HN/ref=sr_1_8?qid=1679133649&s=electronics&sr=1-8   \n",
              "\n",
              "   ratings  no_of_ratings  discount_price  actual_price  correct_no_of_ratings  \n",
              "0      4.0          965.0         10999.0       18999.0                   True  \n",
              "1      4.3       113956.0         18999.0       19999.0                   True  \n",
              "2      4.2        90304.0          1999.0        2299.0                   True  \n",
              "3      4.1        24863.0         15999.0       24999.0                   True  \n",
              "4      4.3       113956.0         18999.0       19999.0                   True  "
            ],
            "text/html": [
              "\n",
              "  <div id=\"df-07de9687-eeb9-4b41-869a-50e79dd68653\" class=\"colab-df-container\">\n",
              "    <div>\n",
              "<style scoped>\n",
              "    .dataframe tbody tr th:only-of-type {\n",
              "        vertical-align: middle;\n",
              "    }\n",
              "\n",
              "    .dataframe tbody tr th {\n",
              "        vertical-align: top;\n",
              "    }\n",
              "\n",
              "    .dataframe thead th {\n",
              "        text-align: right;\n",
              "    }\n",
              "</style>\n",
              "<table border=\"1\" class=\"dataframe\">\n",
              "  <thead>\n",
              "    <tr style=\"text-align: right;\">\n",
              "      <th></th>\n",
              "      <th>name</th>\n",
              "      <th>main_category</th>\n",
              "      <th>sub_category</th>\n",
              "      <th>image</th>\n",
              "      <th>link</th>\n",
              "      <th>ratings</th>\n",
              "      <th>no_of_ratings</th>\n",
              "      <th>discount_price</th>\n",
              "      <th>actual_price</th>\n",
              "      <th>correct_no_of_ratings</th>\n",
              "    </tr>\n",
              "  </thead>\n",
              "  <tbody>\n",
              "    <tr>\n",
              "      <th>0</th>\n",
              "      <td>Redmi 10 Power (Power Black, 8GB RAM, 128GB Storage)</td>\n",
              "      <td>tv, audio &amp; cameras</td>\n",
              "      <td>All Electronics</td>\n",
              "      <td>https://m.media-amazon.com/images/I/81eM15lVcJL._AC_UL320_.jpg</td>\n",
              "      <td>https://www.amazon.in/Redmi-Power-Black-128GB-Storage/dp/B09Y64H8VS/ref=sr_1_4?qid=1679133649&amp;s=electronics&amp;sr=1-4</td>\n",
              "      <td>4.0</td>\n",
              "      <td>965.0</td>\n",
              "      <td>10999.0</td>\n",
              "      <td>18999.0</td>\n",
              "      <td>True</td>\n",
              "    </tr>\n",
              "    <tr>\n",
              "      <th>1</th>\n",
              "      <td>OnePlus Nord CE 2 Lite 5G (Blue Tide, 6GB RAM, 128GB Storage)</td>\n",
              "      <td>tv, audio &amp; cameras</td>\n",
              "      <td>All Electronics</td>\n",
              "      <td>https://m.media-amazon.com/images/I/71AvQd3VzqL._AC_UL320_.jpg</td>\n",
              "      <td>https://www.amazon.in/OnePlus-Nord-Lite-128GB-Storage/dp/B09WQYFLRX/ref=sr_1_5?qid=1679133649&amp;s=electronics&amp;sr=1-5</td>\n",
              "      <td>4.3</td>\n",
              "      <td>113956.0</td>\n",
              "      <td>18999.0</td>\n",
              "      <td>19999.0</td>\n",
              "      <td>True</td>\n",
              "    </tr>\n",
              "    <tr>\n",
              "      <th>2</th>\n",
              "      <td>OnePlus Bullets Z2 Bluetooth Wireless in Ear Earphones with Mic, Bombastic Bass - 12.4 Mm Drivers, 10 Mins Charge - 20 Hrs...</td>\n",
              "      <td>tv, audio &amp; cameras</td>\n",
              "      <td>All Electronics</td>\n",
              "      <td>https://m.media-amazon.com/images/I/51UhwaQXCpL._AC_UL320_.jpg</td>\n",
              "      <td>https://www.amazon.in/Oneplus-Bluetooth-Wireless-Earphones-Bombastic/dp/B09TVVGXWS/ref=sr_1_6?qid=1679133649&amp;s=electronics&amp;sr=1-6</td>\n",
              "      <td>4.2</td>\n",
              "      <td>90304.0</td>\n",
              "      <td>1999.0</td>\n",
              "      <td>2299.0</td>\n",
              "      <td>True</td>\n",
              "    </tr>\n",
              "    <tr>\n",
              "      <th>3</th>\n",
              "      <td>Samsung Galaxy M33 5G (Mystique Green, 6GB, 128GB Storage) | 6000mAh Battery | Upto 12GB RAM with RAM Plus | Travel Adapte...</td>\n",
              "      <td>tv, audio &amp; cameras</td>\n",
              "      <td>All Electronics</td>\n",
              "      <td>https://m.media-amazon.com/images/I/81I3w4J6yjL._AC_UL320_.jpg</td>\n",
              "      <td>https://www.amazon.in/Samsung-Mystique-Storage-Purchased-Separately/dp/B09TWGDY4W/ref=sr_1_7?qid=1679133649&amp;s=electronics&amp;sr=1-7</td>\n",
              "      <td>4.1</td>\n",
              "      <td>24863.0</td>\n",
              "      <td>15999.0</td>\n",
              "      <td>24999.0</td>\n",
              "      <td>True</td>\n",
              "    </tr>\n",
              "    <tr>\n",
              "      <th>4</th>\n",
              "      <td>OnePlus Nord CE 2 Lite 5G (Black Dusk, 6GB RAM, 128GB Storage)</td>\n",
              "      <td>tv, audio &amp; cameras</td>\n",
              "      <td>All Electronics</td>\n",
              "      <td>https://m.media-amazon.com/images/I/71V--WZVUIL._AC_UL320_.jpg</td>\n",
              "      <td>https://www.amazon.in/OnePlus-Nord-Black-128GB-Storage/dp/B09WQY65HN/ref=sr_1_8?qid=1679133649&amp;s=electronics&amp;sr=1-8</td>\n",
              "      <td>4.3</td>\n",
              "      <td>113956.0</td>\n",
              "      <td>18999.0</td>\n",
              "      <td>19999.0</td>\n",
              "      <td>True</td>\n",
              "    </tr>\n",
              "  </tbody>\n",
              "</table>\n",
              "</div>\n",
              "    <div class=\"colab-df-buttons\">\n",
              "\n",
              "  <div class=\"colab-df-container\">\n",
              "    <button class=\"colab-df-convert\" onclick=\"convertToInteractive('df-07de9687-eeb9-4b41-869a-50e79dd68653')\"\n",
              "            title=\"Convert this dataframe to an interactive table.\"\n",
              "            style=\"display:none;\">\n",
              "\n",
              "  <svg xmlns=\"http://www.w3.org/2000/svg\" height=\"24px\" viewBox=\"0 -960 960 960\">\n",
              "    <path d=\"M120-120v-720h720v720H120Zm60-500h600v-160H180v160Zm220 220h160v-160H400v160Zm0 220h160v-160H400v160ZM180-400h160v-160H180v160Zm440 0h160v-160H620v160ZM180-180h160v-160H180v160Zm440 0h160v-160H620v160Z\"/>\n",
              "  </svg>\n",
              "    </button>\n",
              "\n",
              "  <style>\n",
              "    .colab-df-container {\n",
              "      display:flex;\n",
              "      gap: 12px;\n",
              "    }\n",
              "\n",
              "    .colab-df-convert {\n",
              "      background-color: #E8F0FE;\n",
              "      border: none;\n",
              "      border-radius: 50%;\n",
              "      cursor: pointer;\n",
              "      display: none;\n",
              "      fill: #1967D2;\n",
              "      height: 32px;\n",
              "      padding: 0 0 0 0;\n",
              "      width: 32px;\n",
              "    }\n",
              "\n",
              "    .colab-df-convert:hover {\n",
              "      background-color: #E2EBFA;\n",
              "      box-shadow: 0px 1px 2px rgba(60, 64, 67, 0.3), 0px 1px 3px 1px rgba(60, 64, 67, 0.15);\n",
              "      fill: #174EA6;\n",
              "    }\n",
              "\n",
              "    .colab-df-buttons div {\n",
              "      margin-bottom: 4px;\n",
              "    }\n",
              "\n",
              "    [theme=dark] .colab-df-convert {\n",
              "      background-color: #3B4455;\n",
              "      fill: #D2E3FC;\n",
              "    }\n",
              "\n",
              "    [theme=dark] .colab-df-convert:hover {\n",
              "      background-color: #434B5C;\n",
              "      box-shadow: 0px 1px 3px 1px rgba(0, 0, 0, 0.15);\n",
              "      filter: drop-shadow(0px 1px 2px rgba(0, 0, 0, 0.3));\n",
              "      fill: #FFFFFF;\n",
              "    }\n",
              "  </style>\n",
              "\n",
              "    <script>\n",
              "      const buttonEl =\n",
              "        document.querySelector('#df-07de9687-eeb9-4b41-869a-50e79dd68653 button.colab-df-convert');\n",
              "      buttonEl.style.display =\n",
              "        google.colab.kernel.accessAllowed ? 'block' : 'none';\n",
              "\n",
              "      async function convertToInteractive(key) {\n",
              "        const element = document.querySelector('#df-07de9687-eeb9-4b41-869a-50e79dd68653');\n",
              "        const dataTable =\n",
              "          await google.colab.kernel.invokeFunction('convertToInteractive',\n",
              "                                                    [key], {});\n",
              "        if (!dataTable) return;\n",
              "\n",
              "        const docLinkHtml = 'Like what you see? Visit the ' +\n",
              "          '<a target=\"_blank\" href=https://colab.research.google.com/notebooks/data_table.ipynb>data table notebook</a>'\n",
              "          + ' to learn more about interactive tables.';\n",
              "        element.innerHTML = '';\n",
              "        dataTable['output_type'] = 'display_data';\n",
              "        await google.colab.output.renderOutput(dataTable, element);\n",
              "        const docLink = document.createElement('div');\n",
              "        docLink.innerHTML = docLinkHtml;\n",
              "        element.appendChild(docLink);\n",
              "      }\n",
              "    </script>\n",
              "  </div>\n",
              "\n",
              "\n",
              "<div id=\"df-d3f2f670-d5a6-4b22-b2b3-3ea65293f79f\">\n",
              "  <button class=\"colab-df-quickchart\" onclick=\"quickchart('df-d3f2f670-d5a6-4b22-b2b3-3ea65293f79f')\"\n",
              "            title=\"Suggest charts\"\n",
              "            style=\"display:none;\">\n",
              "\n",
              "<svg xmlns=\"http://www.w3.org/2000/svg\" height=\"24px\"viewBox=\"0 0 24 24\"\n",
              "     width=\"24px\">\n",
              "    <g>\n",
              "        <path d=\"M19 3H5c-1.1 0-2 .9-2 2v14c0 1.1.9 2 2 2h14c1.1 0 2-.9 2-2V5c0-1.1-.9-2-2-2zM9 17H7v-7h2v7zm4 0h-2V7h2v10zm4 0h-2v-4h2v4z\"/>\n",
              "    </g>\n",
              "</svg>\n",
              "  </button>\n",
              "\n",
              "<style>\n",
              "  .colab-df-quickchart {\n",
              "      --bg-color: #E8F0FE;\n",
              "      --fill-color: #1967D2;\n",
              "      --hover-bg-color: #E2EBFA;\n",
              "      --hover-fill-color: #174EA6;\n",
              "      --disabled-fill-color: #AAA;\n",
              "      --disabled-bg-color: #DDD;\n",
              "  }\n",
              "\n",
              "  [theme=dark] .colab-df-quickchart {\n",
              "      --bg-color: #3B4455;\n",
              "      --fill-color: #D2E3FC;\n",
              "      --hover-bg-color: #434B5C;\n",
              "      --hover-fill-color: #FFFFFF;\n",
              "      --disabled-bg-color: #3B4455;\n",
              "      --disabled-fill-color: #666;\n",
              "  }\n",
              "\n",
              "  .colab-df-quickchart {\n",
              "    background-color: var(--bg-color);\n",
              "    border: none;\n",
              "    border-radius: 50%;\n",
              "    cursor: pointer;\n",
              "    display: none;\n",
              "    fill: var(--fill-color);\n",
              "    height: 32px;\n",
              "    padding: 0;\n",
              "    width: 32px;\n",
              "  }\n",
              "\n",
              "  .colab-df-quickchart:hover {\n",
              "    background-color: var(--hover-bg-color);\n",
              "    box-shadow: 0 1px 2px rgba(60, 64, 67, 0.3), 0 1px 3px 1px rgba(60, 64, 67, 0.15);\n",
              "    fill: var(--button-hover-fill-color);\n",
              "  }\n",
              "\n",
              "  .colab-df-quickchart-complete:disabled,\n",
              "  .colab-df-quickchart-complete:disabled:hover {\n",
              "    background-color: var(--disabled-bg-color);\n",
              "    fill: var(--disabled-fill-color);\n",
              "    box-shadow: none;\n",
              "  }\n",
              "\n",
              "  .colab-df-spinner {\n",
              "    border: 2px solid var(--fill-color);\n",
              "    border-color: transparent;\n",
              "    border-bottom-color: var(--fill-color);\n",
              "    animation:\n",
              "      spin 1s steps(1) infinite;\n",
              "  }\n",
              "\n",
              "  @keyframes spin {\n",
              "    0% {\n",
              "      border-color: transparent;\n",
              "      border-bottom-color: var(--fill-color);\n",
              "      border-left-color: var(--fill-color);\n",
              "    }\n",
              "    20% {\n",
              "      border-color: transparent;\n",
              "      border-left-color: var(--fill-color);\n",
              "      border-top-color: var(--fill-color);\n",
              "    }\n",
              "    30% {\n",
              "      border-color: transparent;\n",
              "      border-left-color: var(--fill-color);\n",
              "      border-top-color: var(--fill-color);\n",
              "      border-right-color: var(--fill-color);\n",
              "    }\n",
              "    40% {\n",
              "      border-color: transparent;\n",
              "      border-right-color: var(--fill-color);\n",
              "      border-top-color: var(--fill-color);\n",
              "    }\n",
              "    60% {\n",
              "      border-color: transparent;\n",
              "      border-right-color: var(--fill-color);\n",
              "    }\n",
              "    80% {\n",
              "      border-color: transparent;\n",
              "      border-right-color: var(--fill-color);\n",
              "      border-bottom-color: var(--fill-color);\n",
              "    }\n",
              "    90% {\n",
              "      border-color: transparent;\n",
              "      border-bottom-color: var(--fill-color);\n",
              "    }\n",
              "  }\n",
              "</style>\n",
              "\n",
              "  <script>\n",
              "    async function quickchart(key) {\n",
              "      const quickchartButtonEl =\n",
              "        document.querySelector('#' + key + ' button');\n",
              "      quickchartButtonEl.disabled = true;  // To prevent multiple clicks.\n",
              "      quickchartButtonEl.classList.add('colab-df-spinner');\n",
              "      try {\n",
              "        const charts = await google.colab.kernel.invokeFunction(\n",
              "            'suggestCharts', [key], {});\n",
              "      } catch (error) {\n",
              "        console.error('Error during call to suggestCharts:', error);\n",
              "      }\n",
              "      quickchartButtonEl.classList.remove('colab-df-spinner');\n",
              "      quickchartButtonEl.classList.add('colab-df-quickchart-complete');\n",
              "    }\n",
              "    (() => {\n",
              "      let quickchartButtonEl =\n",
              "        document.querySelector('#df-d3f2f670-d5a6-4b22-b2b3-3ea65293f79f button');\n",
              "      quickchartButtonEl.style.display =\n",
              "        google.colab.kernel.accessAllowed ? 'block' : 'none';\n",
              "    })();\n",
              "  </script>\n",
              "</div>\n",
              "    </div>\n",
              "  </div>\n"
            ],
            "application/vnd.google.colaboratory.intrinsic+json": {
              "type": "dataframe",
              "variable_name": "df",
              "summary": "{\n  \"name\": \"df\",\n  \"rows\": 9002,\n  \"fields\": [\n    {\n      \"column\": \"name\",\n      \"properties\": {\n        \"dtype\": \"string\",\n        \"num_unique_values\": 8233,\n        \"samples\": [\n          \"rts All in One Combo Card Reader for Pen Drive/Cameras/mobiles/PC/Laptop/Notebook/Tablet/or Docking Station/MP3s/PDAs,Colo...\",\n          \"VIHM 7 in 1 Electronic Cleaner kit, Cleaning Kit for Monitor Keyboard Airpods MacBook iPad iPhone iPod, Screen Dust Brush ...\",\n          \"Sounce Telescope Zoom 90X HD Focus Astronomical Refractor with Portable Tripod Stand. High-Power Telescope and Beginners t...\"\n        ],\n        \"semantic_type\": \"\",\n        \"description\": \"\"\n      }\n    },\n    {\n      \"column\": \"main_category\",\n      \"properties\": {\n        \"dtype\": \"category\",\n        \"num_unique_values\": 1,\n        \"samples\": [\n          \"tv, audio & cameras\"\n        ],\n        \"semantic_type\": \"\",\n        \"description\": \"\"\n      }\n    },\n    {\n      \"column\": \"sub_category\",\n      \"properties\": {\n        \"dtype\": \"category\",\n        \"num_unique_values\": 1,\n        \"samples\": [\n          \"All Electronics\"\n        ],\n        \"semantic_type\": \"\",\n        \"description\": \"\"\n      }\n    },\n    {\n      \"column\": \"image\",\n      \"properties\": {\n        \"dtype\": \"string\",\n        \"num_unique_values\": 8745,\n        \"samples\": [\n          \"https://m.media-amazon.com/images/I/41VQBioa2FL._AC_UL320_.jpg\"\n        ],\n        \"semantic_type\": \"\",\n        \"description\": \"\"\n      }\n    },\n    {\n      \"column\": \"link\",\n      \"properties\": {\n        \"dtype\": \"string\",\n        \"num_unique_values\": 9002,\n        \"samples\": [\n          \"https://www.amazon.in/LS-LAPSTER-Quality-Assured-Powerbook/dp/B07WQJBPZC/ref=sr_1_3713?qid=1679133885&s=electronics&sr=1-3713\"\n        ],\n        \"semantic_type\": \"\",\n        \"description\": \"\"\n      }\n    },\n    {\n      \"column\": \"ratings\",\n      \"properties\": {\n        \"dtype\": \"number\",\n        \"std\": 0.38062134775599593,\n        \"min\": 1.0,\n        \"max\": 5.0,\n        \"num_unique_values\": 38,\n        \"samples\": [\n          1.9\n        ],\n        \"semantic_type\": \"\",\n        \"description\": \"\"\n      }\n    },\n    {\n      \"column\": \"no_of_ratings\",\n      \"properties\": {\n        \"dtype\": \"number\",\n        \"std\": 28665.89784219256,\n        \"min\": 1.0,\n        \"max\": 437651.0,\n        \"num_unique_values\": 3293,\n        \"samples\": [\n          1617.0\n        ],\n        \"semantic_type\": \"\",\n        \"description\": \"\"\n      }\n    },\n    {\n      \"column\": \"discount_price\",\n      \"properties\": {\n        \"dtype\": \"number\",\n        \"std\": 8824.28494710569,\n        \"min\": 10.0,\n        \"max\": 134999.0,\n        \"num_unique_values\": 1601,\n        \"samples\": [\n          173.0\n        ],\n        \"semantic_type\": \"\",\n        \"description\": \"\"\n      }\n    },\n    {\n      \"column\": \"actual_price\",\n      \"properties\": {\n        \"dtype\": \"number\",\n        \"std\": 12128.426257439032,\n        \"min\": 30.0,\n        \"max\": 161999.0,\n        \"num_unique_values\": 986,\n        \"samples\": [\n          1422.0\n        ],\n        \"semantic_type\": \"\",\n        \"description\": \"\"\n      }\n    },\n    {\n      \"column\": \"correct_no_of_ratings\",\n      \"properties\": {\n        \"dtype\": \"boolean\",\n        \"num_unique_values\": 1,\n        \"samples\": [\n          true\n        ],\n        \"semantic_type\": \"\",\n        \"description\": \"\"\n      }\n    }\n  ]\n}"
            }
          },
          "metadata": {},
          "execution_count": 23
        }
      ]
    },
    {
      "cell_type": "code",
      "source": [
        "# Detail of the maximum price row\n",
        "df[df[\"actual_price\"] == df[\"actual_price\"].max()]"
      ],
      "metadata": {
        "colab": {
          "base_uri": "https://localhost:8080/",
          "height": 115
        },
        "id": "6eUQR6BLzgyy",
        "outputId": "b18804d0-37a2-4302-e1e1-66a0f8c7672a"
      },
      "execution_count": 24,
      "outputs": [
        {
          "output_type": "execute_result",
          "data": {
            "text/plain": [
              "                                                          name  \\\n",
              "6027  Samsung Galaxy S23 Ultra 5G (Green, 12GB, 512GB Storage)   \n",
              "\n",
              "            main_category     sub_category  \\\n",
              "6027  tv, audio & cameras  All Electronics   \n",
              "\n",
              "                                                               image  \\\n",
              "6027  https://m.media-amazon.com/images/I/61VfL-aiToL._AC_UL320_.jpg   \n",
              "\n",
              "                                                                                                                             link  \\\n",
              "6027  https://www.amazon.in/Samsung-Galaxy-Ultra-Green-Storage/dp/B0BT9G7RYH/ref=sr_1_6030?qid=1679134028&s=electronics&sr=1-6030   \n",
              "\n",
              "      ratings  no_of_ratings  discount_price  actual_price  \\\n",
              "6027      4.4           91.0        134999.0      161999.0   \n",
              "\n",
              "      correct_no_of_ratings  \n",
              "6027                   True  "
            ],
            "text/html": [
              "\n",
              "  <div id=\"df-c99fbf34-fa13-4524-bb02-8a4dfa5172cc\" class=\"colab-df-container\">\n",
              "    <div>\n",
              "<style scoped>\n",
              "    .dataframe tbody tr th:only-of-type {\n",
              "        vertical-align: middle;\n",
              "    }\n",
              "\n",
              "    .dataframe tbody tr th {\n",
              "        vertical-align: top;\n",
              "    }\n",
              "\n",
              "    .dataframe thead th {\n",
              "        text-align: right;\n",
              "    }\n",
              "</style>\n",
              "<table border=\"1\" class=\"dataframe\">\n",
              "  <thead>\n",
              "    <tr style=\"text-align: right;\">\n",
              "      <th></th>\n",
              "      <th>name</th>\n",
              "      <th>main_category</th>\n",
              "      <th>sub_category</th>\n",
              "      <th>image</th>\n",
              "      <th>link</th>\n",
              "      <th>ratings</th>\n",
              "      <th>no_of_ratings</th>\n",
              "      <th>discount_price</th>\n",
              "      <th>actual_price</th>\n",
              "      <th>correct_no_of_ratings</th>\n",
              "    </tr>\n",
              "  </thead>\n",
              "  <tbody>\n",
              "    <tr>\n",
              "      <th>6027</th>\n",
              "      <td>Samsung Galaxy S23 Ultra 5G (Green, 12GB, 512GB Storage)</td>\n",
              "      <td>tv, audio &amp; cameras</td>\n",
              "      <td>All Electronics</td>\n",
              "      <td>https://m.media-amazon.com/images/I/61VfL-aiToL._AC_UL320_.jpg</td>\n",
              "      <td>https://www.amazon.in/Samsung-Galaxy-Ultra-Green-Storage/dp/B0BT9G7RYH/ref=sr_1_6030?qid=1679134028&amp;s=electronics&amp;sr=1-6030</td>\n",
              "      <td>4.4</td>\n",
              "      <td>91.0</td>\n",
              "      <td>134999.0</td>\n",
              "      <td>161999.0</td>\n",
              "      <td>True</td>\n",
              "    </tr>\n",
              "  </tbody>\n",
              "</table>\n",
              "</div>\n",
              "    <div class=\"colab-df-buttons\">\n",
              "\n",
              "  <div class=\"colab-df-container\">\n",
              "    <button class=\"colab-df-convert\" onclick=\"convertToInteractive('df-c99fbf34-fa13-4524-bb02-8a4dfa5172cc')\"\n",
              "            title=\"Convert this dataframe to an interactive table.\"\n",
              "            style=\"display:none;\">\n",
              "\n",
              "  <svg xmlns=\"http://www.w3.org/2000/svg\" height=\"24px\" viewBox=\"0 -960 960 960\">\n",
              "    <path d=\"M120-120v-720h720v720H120Zm60-500h600v-160H180v160Zm220 220h160v-160H400v160Zm0 220h160v-160H400v160ZM180-400h160v-160H180v160Zm440 0h160v-160H620v160ZM180-180h160v-160H180v160Zm440 0h160v-160H620v160Z\"/>\n",
              "  </svg>\n",
              "    </button>\n",
              "\n",
              "  <style>\n",
              "    .colab-df-container {\n",
              "      display:flex;\n",
              "      gap: 12px;\n",
              "    }\n",
              "\n",
              "    .colab-df-convert {\n",
              "      background-color: #E8F0FE;\n",
              "      border: none;\n",
              "      border-radius: 50%;\n",
              "      cursor: pointer;\n",
              "      display: none;\n",
              "      fill: #1967D2;\n",
              "      height: 32px;\n",
              "      padding: 0 0 0 0;\n",
              "      width: 32px;\n",
              "    }\n",
              "\n",
              "    .colab-df-convert:hover {\n",
              "      background-color: #E2EBFA;\n",
              "      box-shadow: 0px 1px 2px rgba(60, 64, 67, 0.3), 0px 1px 3px 1px rgba(60, 64, 67, 0.15);\n",
              "      fill: #174EA6;\n",
              "    }\n",
              "\n",
              "    .colab-df-buttons div {\n",
              "      margin-bottom: 4px;\n",
              "    }\n",
              "\n",
              "    [theme=dark] .colab-df-convert {\n",
              "      background-color: #3B4455;\n",
              "      fill: #D2E3FC;\n",
              "    }\n",
              "\n",
              "    [theme=dark] .colab-df-convert:hover {\n",
              "      background-color: #434B5C;\n",
              "      box-shadow: 0px 1px 3px 1px rgba(0, 0, 0, 0.15);\n",
              "      filter: drop-shadow(0px 1px 2px rgba(0, 0, 0, 0.3));\n",
              "      fill: #FFFFFF;\n",
              "    }\n",
              "  </style>\n",
              "\n",
              "    <script>\n",
              "      const buttonEl =\n",
              "        document.querySelector('#df-c99fbf34-fa13-4524-bb02-8a4dfa5172cc button.colab-df-convert');\n",
              "      buttonEl.style.display =\n",
              "        google.colab.kernel.accessAllowed ? 'block' : 'none';\n",
              "\n",
              "      async function convertToInteractive(key) {\n",
              "        const element = document.querySelector('#df-c99fbf34-fa13-4524-bb02-8a4dfa5172cc');\n",
              "        const dataTable =\n",
              "          await google.colab.kernel.invokeFunction('convertToInteractive',\n",
              "                                                    [key], {});\n",
              "        if (!dataTable) return;\n",
              "\n",
              "        const docLinkHtml = 'Like what you see? Visit the ' +\n",
              "          '<a target=\"_blank\" href=https://colab.research.google.com/notebooks/data_table.ipynb>data table notebook</a>'\n",
              "          + ' to learn more about interactive tables.';\n",
              "        element.innerHTML = '';\n",
              "        dataTable['output_type'] = 'display_data';\n",
              "        await google.colab.output.renderOutput(dataTable, element);\n",
              "        const docLink = document.createElement('div');\n",
              "        docLink.innerHTML = docLinkHtml;\n",
              "        element.appendChild(docLink);\n",
              "      }\n",
              "    </script>\n",
              "  </div>\n",
              "\n",
              "    </div>\n",
              "  </div>\n"
            ],
            "application/vnd.google.colaboratory.intrinsic+json": {
              "type": "dataframe",
              "summary": "{\n  \"name\": \"df[df[\\\"actual_price\\\"] == df[\\\"actual_price\\\"]\",\n  \"rows\": 1,\n  \"fields\": [\n    {\n      \"column\": \"name\",\n      \"properties\": {\n        \"dtype\": \"string\",\n        \"num_unique_values\": 1,\n        \"samples\": [\n          \"Samsung Galaxy S23 Ultra 5G (Green, 12GB, 512GB Storage)\"\n        ],\n        \"semantic_type\": \"\",\n        \"description\": \"\"\n      }\n    },\n    {\n      \"column\": \"main_category\",\n      \"properties\": {\n        \"dtype\": \"string\",\n        \"num_unique_values\": 1,\n        \"samples\": [\n          \"tv, audio & cameras\"\n        ],\n        \"semantic_type\": \"\",\n        \"description\": \"\"\n      }\n    },\n    {\n      \"column\": \"sub_category\",\n      \"properties\": {\n        \"dtype\": \"string\",\n        \"num_unique_values\": 1,\n        \"samples\": [\n          \"All Electronics\"\n        ],\n        \"semantic_type\": \"\",\n        \"description\": \"\"\n      }\n    },\n    {\n      \"column\": \"image\",\n      \"properties\": {\n        \"dtype\": \"string\",\n        \"num_unique_values\": 1,\n        \"samples\": [\n          \"https://m.media-amazon.com/images/I/61VfL-aiToL._AC_UL320_.jpg\"\n        ],\n        \"semantic_type\": \"\",\n        \"description\": \"\"\n      }\n    },\n    {\n      \"column\": \"link\",\n      \"properties\": {\n        \"dtype\": \"string\",\n        \"num_unique_values\": 1,\n        \"samples\": [\n          \"https://www.amazon.in/Samsung-Galaxy-Ultra-Green-Storage/dp/B0BT9G7RYH/ref=sr_1_6030?qid=1679134028&s=electronics&sr=1-6030\"\n        ],\n        \"semantic_type\": \"\",\n        \"description\": \"\"\n      }\n    },\n    {\n      \"column\": \"ratings\",\n      \"properties\": {\n        \"dtype\": \"number\",\n        \"std\": null,\n        \"min\": 4.4,\n        \"max\": 4.4,\n        \"num_unique_values\": 1,\n        \"samples\": [\n          4.4\n        ],\n        \"semantic_type\": \"\",\n        \"description\": \"\"\n      }\n    },\n    {\n      \"column\": \"no_of_ratings\",\n      \"properties\": {\n        \"dtype\": \"number\",\n        \"std\": null,\n        \"min\": 91.0,\n        \"max\": 91.0,\n        \"num_unique_values\": 1,\n        \"samples\": [\n          91.0\n        ],\n        \"semantic_type\": \"\",\n        \"description\": \"\"\n      }\n    },\n    {\n      \"column\": \"discount_price\",\n      \"properties\": {\n        \"dtype\": \"number\",\n        \"std\": null,\n        \"min\": 134999.0,\n        \"max\": 134999.0,\n        \"num_unique_values\": 1,\n        \"samples\": [\n          134999.0\n        ],\n        \"semantic_type\": \"\",\n        \"description\": \"\"\n      }\n    },\n    {\n      \"column\": \"actual_price\",\n      \"properties\": {\n        \"dtype\": \"number\",\n        \"std\": null,\n        \"min\": 161999.0,\n        \"max\": 161999.0,\n        \"num_unique_values\": 1,\n        \"samples\": [\n          161999.0\n        ],\n        \"semantic_type\": \"\",\n        \"description\": \"\"\n      }\n    },\n    {\n      \"column\": \"correct_no_of_ratings\",\n      \"properties\": {\n        \"dtype\": \"boolean\",\n        \"num_unique_values\": 1,\n        \"samples\": [\n          true\n        ],\n        \"semantic_type\": \"\",\n        \"description\": \"\"\n      }\n    }\n  ]\n}"
            }
          },
          "metadata": {},
          "execution_count": 24
        }
      ]
    },
    {
      "cell_type": "code",
      "source": [
        "#make  column with discount net value and discounting percent\n",
        "\n",
        "df[\"discount_value\"] = df[\"actual_price\"] - df[\"discount_price\"]\n",
        "df['discounting_percent'] = 1 - df['discount_price']/df['actual_price']\n"
      ],
      "metadata": {
        "colab": {
          "base_uri": "https://localhost:8080/"
        },
        "id": "6-gVXaee2MUl",
        "outputId": "3214660f-ef6a-4275-ddb9-2780df20796e"
      },
      "execution_count": 25,
      "outputs": [
        {
          "output_type": "stream",
          "name": "stderr",
          "text": [
            "<ipython-input-25-80ba3ea9e46c>:3: SettingWithCopyWarning:\n",
            "\n",
            "\n",
            "A value is trying to be set on a copy of a slice from a DataFrame.\n",
            "Try using .loc[row_indexer,col_indexer] = value instead\n",
            "\n",
            "See the caveats in the documentation: https://pandas.pydata.org/pandas-docs/stable/user_guide/indexing.html#returning-a-view-versus-a-copy\n",
            "\n",
            "<ipython-input-25-80ba3ea9e46c>:4: SettingWithCopyWarning:\n",
            "\n",
            "\n",
            "A value is trying to be set on a copy of a slice from a DataFrame.\n",
            "Try using .loc[row_indexer,col_indexer] = value instead\n",
            "\n",
            "See the caveats in the documentation: https://pandas.pydata.org/pandas-docs/stable/user_guide/indexing.html#returning-a-view-versus-a-copy\n",
            "\n"
          ]
        }
      ]
    },
    {
      "cell_type": "code",
      "source": [
        "# Detail of the minimum price row\n",
        "df[df[\"discount_value\"] == df[\"discount_value\"].min()]"
      ],
      "metadata": {
        "colab": {
          "base_uri": "https://localhost:8080/",
          "height": 188
        },
        "id": "r7mabyoQzgrz",
        "outputId": "57650b5f-f7e6-4e57-c4b9-53f634cbca6e"
      },
      "execution_count": 26,
      "outputs": [
        {
          "output_type": "execute_result",
          "data": {
            "text/plain": [
              "                                                                name  \\\n",
              "4431  HP Laserjet Pro M126nw Multi-Function Monochrome Laser Printer   \n",
              "\n",
              "            main_category     sub_category  \\\n",
              "4431  tv, audio & cameras  All Electronics   \n",
              "\n",
              "                                                               image  \\\n",
              "4431  https://m.media-amazon.com/images/I/61d9Rb8EDZL._AC_UL320_.jpg   \n",
              "\n",
              "                                                                                                                                       link  \\\n",
              "4431  https://www.amazon.in/HP-LaserJet-M126nw-Multi-Function-Monochrome/dp/B00LO3NQYY/ref=sr_1_4433?qid=1679133930&s=electronics&sr=1-4433   \n",
              "\n",
              "      ratings  no_of_ratings  discount_price  actual_price  \\\n",
              "4431      4.2         5256.0         21328.0      21328.88   \n",
              "\n",
              "      correct_no_of_ratings  discount_value  discounting_percent  \n",
              "4431                   True            0.88             0.000041  "
            ],
            "text/html": [
              "\n",
              "  <div id=\"df-c36e7e7b-c7b4-459e-9014-b7a0ce91fdd2\" class=\"colab-df-container\">\n",
              "    <div>\n",
              "<style scoped>\n",
              "    .dataframe tbody tr th:only-of-type {\n",
              "        vertical-align: middle;\n",
              "    }\n",
              "\n",
              "    .dataframe tbody tr th {\n",
              "        vertical-align: top;\n",
              "    }\n",
              "\n",
              "    .dataframe thead th {\n",
              "        text-align: right;\n",
              "    }\n",
              "</style>\n",
              "<table border=\"1\" class=\"dataframe\">\n",
              "  <thead>\n",
              "    <tr style=\"text-align: right;\">\n",
              "      <th></th>\n",
              "      <th>name</th>\n",
              "      <th>main_category</th>\n",
              "      <th>sub_category</th>\n",
              "      <th>image</th>\n",
              "      <th>link</th>\n",
              "      <th>ratings</th>\n",
              "      <th>no_of_ratings</th>\n",
              "      <th>discount_price</th>\n",
              "      <th>actual_price</th>\n",
              "      <th>correct_no_of_ratings</th>\n",
              "      <th>discount_value</th>\n",
              "      <th>discounting_percent</th>\n",
              "    </tr>\n",
              "  </thead>\n",
              "  <tbody>\n",
              "    <tr>\n",
              "      <th>4431</th>\n",
              "      <td>HP Laserjet Pro M126nw Multi-Function Monochrome Laser Printer</td>\n",
              "      <td>tv, audio &amp; cameras</td>\n",
              "      <td>All Electronics</td>\n",
              "      <td>https://m.media-amazon.com/images/I/61d9Rb8EDZL._AC_UL320_.jpg</td>\n",
              "      <td>https://www.amazon.in/HP-LaserJet-M126nw-Multi-Function-Monochrome/dp/B00LO3NQYY/ref=sr_1_4433?qid=1679133930&amp;s=electronics&amp;sr=1-4433</td>\n",
              "      <td>4.2</td>\n",
              "      <td>5256.0</td>\n",
              "      <td>21328.0</td>\n",
              "      <td>21328.88</td>\n",
              "      <td>True</td>\n",
              "      <td>0.88</td>\n",
              "      <td>0.000041</td>\n",
              "    </tr>\n",
              "  </tbody>\n",
              "</table>\n",
              "</div>\n",
              "    <div class=\"colab-df-buttons\">\n",
              "\n",
              "  <div class=\"colab-df-container\">\n",
              "    <button class=\"colab-df-convert\" onclick=\"convertToInteractive('df-c36e7e7b-c7b4-459e-9014-b7a0ce91fdd2')\"\n",
              "            title=\"Convert this dataframe to an interactive table.\"\n",
              "            style=\"display:none;\">\n",
              "\n",
              "  <svg xmlns=\"http://www.w3.org/2000/svg\" height=\"24px\" viewBox=\"0 -960 960 960\">\n",
              "    <path d=\"M120-120v-720h720v720H120Zm60-500h600v-160H180v160Zm220 220h160v-160H400v160Zm0 220h160v-160H400v160ZM180-400h160v-160H180v160Zm440 0h160v-160H620v160ZM180-180h160v-160H180v160Zm440 0h160v-160H620v160Z\"/>\n",
              "  </svg>\n",
              "    </button>\n",
              "\n",
              "  <style>\n",
              "    .colab-df-container {\n",
              "      display:flex;\n",
              "      gap: 12px;\n",
              "    }\n",
              "\n",
              "    .colab-df-convert {\n",
              "      background-color: #E8F0FE;\n",
              "      border: none;\n",
              "      border-radius: 50%;\n",
              "      cursor: pointer;\n",
              "      display: none;\n",
              "      fill: #1967D2;\n",
              "      height: 32px;\n",
              "      padding: 0 0 0 0;\n",
              "      width: 32px;\n",
              "    }\n",
              "\n",
              "    .colab-df-convert:hover {\n",
              "      background-color: #E2EBFA;\n",
              "      box-shadow: 0px 1px 2px rgba(60, 64, 67, 0.3), 0px 1px 3px 1px rgba(60, 64, 67, 0.15);\n",
              "      fill: #174EA6;\n",
              "    }\n",
              "\n",
              "    .colab-df-buttons div {\n",
              "      margin-bottom: 4px;\n",
              "    }\n",
              "\n",
              "    [theme=dark] .colab-df-convert {\n",
              "      background-color: #3B4455;\n",
              "      fill: #D2E3FC;\n",
              "    }\n",
              "\n",
              "    [theme=dark] .colab-df-convert:hover {\n",
              "      background-color: #434B5C;\n",
              "      box-shadow: 0px 1px 3px 1px rgba(0, 0, 0, 0.15);\n",
              "      filter: drop-shadow(0px 1px 2px rgba(0, 0, 0, 0.3));\n",
              "      fill: #FFFFFF;\n",
              "    }\n",
              "  </style>\n",
              "\n",
              "    <script>\n",
              "      const buttonEl =\n",
              "        document.querySelector('#df-c36e7e7b-c7b4-459e-9014-b7a0ce91fdd2 button.colab-df-convert');\n",
              "      buttonEl.style.display =\n",
              "        google.colab.kernel.accessAllowed ? 'block' : 'none';\n",
              "\n",
              "      async function convertToInteractive(key) {\n",
              "        const element = document.querySelector('#df-c36e7e7b-c7b4-459e-9014-b7a0ce91fdd2');\n",
              "        const dataTable =\n",
              "          await google.colab.kernel.invokeFunction('convertToInteractive',\n",
              "                                                    [key], {});\n",
              "        if (!dataTable) return;\n",
              "\n",
              "        const docLinkHtml = 'Like what you see? Visit the ' +\n",
              "          '<a target=\"_blank\" href=https://colab.research.google.com/notebooks/data_table.ipynb>data table notebook</a>'\n",
              "          + ' to learn more about interactive tables.';\n",
              "        element.innerHTML = '';\n",
              "        dataTable['output_type'] = 'display_data';\n",
              "        await google.colab.output.renderOutput(dataTable, element);\n",
              "        const docLink = document.createElement('div');\n",
              "        docLink.innerHTML = docLinkHtml;\n",
              "        element.appendChild(docLink);\n",
              "      }\n",
              "    </script>\n",
              "  </div>\n",
              "\n",
              "    </div>\n",
              "  </div>\n"
            ],
            "application/vnd.google.colaboratory.intrinsic+json": {
              "type": "dataframe",
              "summary": "{\n  \"name\": \"df[df[\\\"discount_value\\\"] == df[\\\"discount_value\\\"]\",\n  \"rows\": 1,\n  \"fields\": [\n    {\n      \"column\": \"name\",\n      \"properties\": {\n        \"dtype\": \"string\",\n        \"num_unique_values\": 1,\n        \"samples\": [\n          \"HP Laserjet Pro M126nw Multi-Function Monochrome Laser Printer\"\n        ],\n        \"semantic_type\": \"\",\n        \"description\": \"\"\n      }\n    },\n    {\n      \"column\": \"main_category\",\n      \"properties\": {\n        \"dtype\": \"string\",\n        \"num_unique_values\": 1,\n        \"samples\": [\n          \"tv, audio & cameras\"\n        ],\n        \"semantic_type\": \"\",\n        \"description\": \"\"\n      }\n    },\n    {\n      \"column\": \"sub_category\",\n      \"properties\": {\n        \"dtype\": \"string\",\n        \"num_unique_values\": 1,\n        \"samples\": [\n          \"All Electronics\"\n        ],\n        \"semantic_type\": \"\",\n        \"description\": \"\"\n      }\n    },\n    {\n      \"column\": \"image\",\n      \"properties\": {\n        \"dtype\": \"string\",\n        \"num_unique_values\": 1,\n        \"samples\": [\n          \"https://m.media-amazon.com/images/I/61d9Rb8EDZL._AC_UL320_.jpg\"\n        ],\n        \"semantic_type\": \"\",\n        \"description\": \"\"\n      }\n    },\n    {\n      \"column\": \"link\",\n      \"properties\": {\n        \"dtype\": \"string\",\n        \"num_unique_values\": 1,\n        \"samples\": [\n          \"https://www.amazon.in/HP-LaserJet-M126nw-Multi-Function-Monochrome/dp/B00LO3NQYY/ref=sr_1_4433?qid=1679133930&s=electronics&sr=1-4433\"\n        ],\n        \"semantic_type\": \"\",\n        \"description\": \"\"\n      }\n    },\n    {\n      \"column\": \"ratings\",\n      \"properties\": {\n        \"dtype\": \"number\",\n        \"std\": null,\n        \"min\": 4.2,\n        \"max\": 4.2,\n        \"num_unique_values\": 1,\n        \"samples\": [\n          4.2\n        ],\n        \"semantic_type\": \"\",\n        \"description\": \"\"\n      }\n    },\n    {\n      \"column\": \"no_of_ratings\",\n      \"properties\": {\n        \"dtype\": \"number\",\n        \"std\": null,\n        \"min\": 5256.0,\n        \"max\": 5256.0,\n        \"num_unique_values\": 1,\n        \"samples\": [\n          5256.0\n        ],\n        \"semantic_type\": \"\",\n        \"description\": \"\"\n      }\n    },\n    {\n      \"column\": \"discount_price\",\n      \"properties\": {\n        \"dtype\": \"number\",\n        \"std\": null,\n        \"min\": 21328.0,\n        \"max\": 21328.0,\n        \"num_unique_values\": 1,\n        \"samples\": [\n          21328.0\n        ],\n        \"semantic_type\": \"\",\n        \"description\": \"\"\n      }\n    },\n    {\n      \"column\": \"actual_price\",\n      \"properties\": {\n        \"dtype\": \"number\",\n        \"std\": null,\n        \"min\": 21328.88,\n        \"max\": 21328.88,\n        \"num_unique_values\": 1,\n        \"samples\": [\n          21328.88\n        ],\n        \"semantic_type\": \"\",\n        \"description\": \"\"\n      }\n    },\n    {\n      \"column\": \"correct_no_of_ratings\",\n      \"properties\": {\n        \"dtype\": \"boolean\",\n        \"num_unique_values\": 1,\n        \"samples\": [\n          true\n        ],\n        \"semantic_type\": \"\",\n        \"description\": \"\"\n      }\n    },\n    {\n      \"column\": \"discount_value\",\n      \"properties\": {\n        \"dtype\": \"number\",\n        \"std\": null,\n        \"min\": 0.8800000000010186,\n        \"max\": 0.8800000000010186,\n        \"num_unique_values\": 1,\n        \"samples\": [\n          0.8800000000010186\n        ],\n        \"semantic_type\": \"\",\n        \"description\": \"\"\n      }\n    },\n    {\n      \"column\": \"discounting_percent\",\n      \"properties\": {\n        \"dtype\": \"number\",\n        \"std\": null,\n        \"min\": 4.125861273540643e-05,\n        \"max\": 4.125861273540643e-05,\n        \"num_unique_values\": 1,\n        \"samples\": [\n          4.125861273540643e-05\n        ],\n        \"semantic_type\": \"\",\n        \"description\": \"\"\n      }\n    }\n  ]\n}"
            }
          },
          "metadata": {},
          "execution_count": 26
        }
      ]
    },
    {
      "cell_type": "code",
      "source": [
        "# Detail of the minimum price row\n",
        "df[df[\"discount_value\"] == df[\"discount_value\"].min()]"
      ],
      "metadata": {
        "colab": {
          "base_uri": "https://localhost:8080/",
          "height": 188
        },
        "id": "LviXmb24zgic",
        "outputId": "640c6eef-7b48-46ee-9317-357bc77d9f0c"
      },
      "execution_count": 27,
      "outputs": [
        {
          "output_type": "execute_result",
          "data": {
            "text/plain": [
              "                                                                name  \\\n",
              "4431  HP Laserjet Pro M126nw Multi-Function Monochrome Laser Printer   \n",
              "\n",
              "            main_category     sub_category  \\\n",
              "4431  tv, audio & cameras  All Electronics   \n",
              "\n",
              "                                                               image  \\\n",
              "4431  https://m.media-amazon.com/images/I/61d9Rb8EDZL._AC_UL320_.jpg   \n",
              "\n",
              "                                                                                                                                       link  \\\n",
              "4431  https://www.amazon.in/HP-LaserJet-M126nw-Multi-Function-Monochrome/dp/B00LO3NQYY/ref=sr_1_4433?qid=1679133930&s=electronics&sr=1-4433   \n",
              "\n",
              "      ratings  no_of_ratings  discount_price  actual_price  \\\n",
              "4431      4.2         5256.0         21328.0      21328.88   \n",
              "\n",
              "      correct_no_of_ratings  discount_value  discounting_percent  \n",
              "4431                   True            0.88             0.000041  "
            ],
            "text/html": [
              "\n",
              "  <div id=\"df-65b5ea58-087c-4832-802a-119c507c8665\" class=\"colab-df-container\">\n",
              "    <div>\n",
              "<style scoped>\n",
              "    .dataframe tbody tr th:only-of-type {\n",
              "        vertical-align: middle;\n",
              "    }\n",
              "\n",
              "    .dataframe tbody tr th {\n",
              "        vertical-align: top;\n",
              "    }\n",
              "\n",
              "    .dataframe thead th {\n",
              "        text-align: right;\n",
              "    }\n",
              "</style>\n",
              "<table border=\"1\" class=\"dataframe\">\n",
              "  <thead>\n",
              "    <tr style=\"text-align: right;\">\n",
              "      <th></th>\n",
              "      <th>name</th>\n",
              "      <th>main_category</th>\n",
              "      <th>sub_category</th>\n",
              "      <th>image</th>\n",
              "      <th>link</th>\n",
              "      <th>ratings</th>\n",
              "      <th>no_of_ratings</th>\n",
              "      <th>discount_price</th>\n",
              "      <th>actual_price</th>\n",
              "      <th>correct_no_of_ratings</th>\n",
              "      <th>discount_value</th>\n",
              "      <th>discounting_percent</th>\n",
              "    </tr>\n",
              "  </thead>\n",
              "  <tbody>\n",
              "    <tr>\n",
              "      <th>4431</th>\n",
              "      <td>HP Laserjet Pro M126nw Multi-Function Monochrome Laser Printer</td>\n",
              "      <td>tv, audio &amp; cameras</td>\n",
              "      <td>All Electronics</td>\n",
              "      <td>https://m.media-amazon.com/images/I/61d9Rb8EDZL._AC_UL320_.jpg</td>\n",
              "      <td>https://www.amazon.in/HP-LaserJet-M126nw-Multi-Function-Monochrome/dp/B00LO3NQYY/ref=sr_1_4433?qid=1679133930&amp;s=electronics&amp;sr=1-4433</td>\n",
              "      <td>4.2</td>\n",
              "      <td>5256.0</td>\n",
              "      <td>21328.0</td>\n",
              "      <td>21328.88</td>\n",
              "      <td>True</td>\n",
              "      <td>0.88</td>\n",
              "      <td>0.000041</td>\n",
              "    </tr>\n",
              "  </tbody>\n",
              "</table>\n",
              "</div>\n",
              "    <div class=\"colab-df-buttons\">\n",
              "\n",
              "  <div class=\"colab-df-container\">\n",
              "    <button class=\"colab-df-convert\" onclick=\"convertToInteractive('df-65b5ea58-087c-4832-802a-119c507c8665')\"\n",
              "            title=\"Convert this dataframe to an interactive table.\"\n",
              "            style=\"display:none;\">\n",
              "\n",
              "  <svg xmlns=\"http://www.w3.org/2000/svg\" height=\"24px\" viewBox=\"0 -960 960 960\">\n",
              "    <path d=\"M120-120v-720h720v720H120Zm60-500h600v-160H180v160Zm220 220h160v-160H400v160Zm0 220h160v-160H400v160ZM180-400h160v-160H180v160Zm440 0h160v-160H620v160ZM180-180h160v-160H180v160Zm440 0h160v-160H620v160Z\"/>\n",
              "  </svg>\n",
              "    </button>\n",
              "\n",
              "  <style>\n",
              "    .colab-df-container {\n",
              "      display:flex;\n",
              "      gap: 12px;\n",
              "    }\n",
              "\n",
              "    .colab-df-convert {\n",
              "      background-color: #E8F0FE;\n",
              "      border: none;\n",
              "      border-radius: 50%;\n",
              "      cursor: pointer;\n",
              "      display: none;\n",
              "      fill: #1967D2;\n",
              "      height: 32px;\n",
              "      padding: 0 0 0 0;\n",
              "      width: 32px;\n",
              "    }\n",
              "\n",
              "    .colab-df-convert:hover {\n",
              "      background-color: #E2EBFA;\n",
              "      box-shadow: 0px 1px 2px rgba(60, 64, 67, 0.3), 0px 1px 3px 1px rgba(60, 64, 67, 0.15);\n",
              "      fill: #174EA6;\n",
              "    }\n",
              "\n",
              "    .colab-df-buttons div {\n",
              "      margin-bottom: 4px;\n",
              "    }\n",
              "\n",
              "    [theme=dark] .colab-df-convert {\n",
              "      background-color: #3B4455;\n",
              "      fill: #D2E3FC;\n",
              "    }\n",
              "\n",
              "    [theme=dark] .colab-df-convert:hover {\n",
              "      background-color: #434B5C;\n",
              "      box-shadow: 0px 1px 3px 1px rgba(0, 0, 0, 0.15);\n",
              "      filter: drop-shadow(0px 1px 2px rgba(0, 0, 0, 0.3));\n",
              "      fill: #FFFFFF;\n",
              "    }\n",
              "  </style>\n",
              "\n",
              "    <script>\n",
              "      const buttonEl =\n",
              "        document.querySelector('#df-65b5ea58-087c-4832-802a-119c507c8665 button.colab-df-convert');\n",
              "      buttonEl.style.display =\n",
              "        google.colab.kernel.accessAllowed ? 'block' : 'none';\n",
              "\n",
              "      async function convertToInteractive(key) {\n",
              "        const element = document.querySelector('#df-65b5ea58-087c-4832-802a-119c507c8665');\n",
              "        const dataTable =\n",
              "          await google.colab.kernel.invokeFunction('convertToInteractive',\n",
              "                                                    [key], {});\n",
              "        if (!dataTable) return;\n",
              "\n",
              "        const docLinkHtml = 'Like what you see? Visit the ' +\n",
              "          '<a target=\"_blank\" href=https://colab.research.google.com/notebooks/data_table.ipynb>data table notebook</a>'\n",
              "          + ' to learn more about interactive tables.';\n",
              "        element.innerHTML = '';\n",
              "        dataTable['output_type'] = 'display_data';\n",
              "        await google.colab.output.renderOutput(dataTable, element);\n",
              "        const docLink = document.createElement('div');\n",
              "        docLink.innerHTML = docLinkHtml;\n",
              "        element.appendChild(docLink);\n",
              "      }\n",
              "    </script>\n",
              "  </div>\n",
              "\n",
              "    </div>\n",
              "  </div>\n"
            ],
            "application/vnd.google.colaboratory.intrinsic+json": {
              "type": "dataframe",
              "summary": "{\n  \"name\": \"df[df[\\\"discount_value\\\"] == df[\\\"discount_value\\\"]\",\n  \"rows\": 1,\n  \"fields\": [\n    {\n      \"column\": \"name\",\n      \"properties\": {\n        \"dtype\": \"string\",\n        \"num_unique_values\": 1,\n        \"samples\": [\n          \"HP Laserjet Pro M126nw Multi-Function Monochrome Laser Printer\"\n        ],\n        \"semantic_type\": \"\",\n        \"description\": \"\"\n      }\n    },\n    {\n      \"column\": \"main_category\",\n      \"properties\": {\n        \"dtype\": \"string\",\n        \"num_unique_values\": 1,\n        \"samples\": [\n          \"tv, audio & cameras\"\n        ],\n        \"semantic_type\": \"\",\n        \"description\": \"\"\n      }\n    },\n    {\n      \"column\": \"sub_category\",\n      \"properties\": {\n        \"dtype\": \"string\",\n        \"num_unique_values\": 1,\n        \"samples\": [\n          \"All Electronics\"\n        ],\n        \"semantic_type\": \"\",\n        \"description\": \"\"\n      }\n    },\n    {\n      \"column\": \"image\",\n      \"properties\": {\n        \"dtype\": \"string\",\n        \"num_unique_values\": 1,\n        \"samples\": [\n          \"https://m.media-amazon.com/images/I/61d9Rb8EDZL._AC_UL320_.jpg\"\n        ],\n        \"semantic_type\": \"\",\n        \"description\": \"\"\n      }\n    },\n    {\n      \"column\": \"link\",\n      \"properties\": {\n        \"dtype\": \"string\",\n        \"num_unique_values\": 1,\n        \"samples\": [\n          \"https://www.amazon.in/HP-LaserJet-M126nw-Multi-Function-Monochrome/dp/B00LO3NQYY/ref=sr_1_4433?qid=1679133930&s=electronics&sr=1-4433\"\n        ],\n        \"semantic_type\": \"\",\n        \"description\": \"\"\n      }\n    },\n    {\n      \"column\": \"ratings\",\n      \"properties\": {\n        \"dtype\": \"number\",\n        \"std\": null,\n        \"min\": 4.2,\n        \"max\": 4.2,\n        \"num_unique_values\": 1,\n        \"samples\": [\n          4.2\n        ],\n        \"semantic_type\": \"\",\n        \"description\": \"\"\n      }\n    },\n    {\n      \"column\": \"no_of_ratings\",\n      \"properties\": {\n        \"dtype\": \"number\",\n        \"std\": null,\n        \"min\": 5256.0,\n        \"max\": 5256.0,\n        \"num_unique_values\": 1,\n        \"samples\": [\n          5256.0\n        ],\n        \"semantic_type\": \"\",\n        \"description\": \"\"\n      }\n    },\n    {\n      \"column\": \"discount_price\",\n      \"properties\": {\n        \"dtype\": \"number\",\n        \"std\": null,\n        \"min\": 21328.0,\n        \"max\": 21328.0,\n        \"num_unique_values\": 1,\n        \"samples\": [\n          21328.0\n        ],\n        \"semantic_type\": \"\",\n        \"description\": \"\"\n      }\n    },\n    {\n      \"column\": \"actual_price\",\n      \"properties\": {\n        \"dtype\": \"number\",\n        \"std\": null,\n        \"min\": 21328.88,\n        \"max\": 21328.88,\n        \"num_unique_values\": 1,\n        \"samples\": [\n          21328.88\n        ],\n        \"semantic_type\": \"\",\n        \"description\": \"\"\n      }\n    },\n    {\n      \"column\": \"correct_no_of_ratings\",\n      \"properties\": {\n        \"dtype\": \"boolean\",\n        \"num_unique_values\": 1,\n        \"samples\": [\n          true\n        ],\n        \"semantic_type\": \"\",\n        \"description\": \"\"\n      }\n    },\n    {\n      \"column\": \"discount_value\",\n      \"properties\": {\n        \"dtype\": \"number\",\n        \"std\": null,\n        \"min\": 0.8800000000010186,\n        \"max\": 0.8800000000010186,\n        \"num_unique_values\": 1,\n        \"samples\": [\n          0.8800000000010186\n        ],\n        \"semantic_type\": \"\",\n        \"description\": \"\"\n      }\n    },\n    {\n      \"column\": \"discounting_percent\",\n      \"properties\": {\n        \"dtype\": \"number\",\n        \"std\": null,\n        \"min\": 4.125861273540643e-05,\n        \"max\": 4.125861273540643e-05,\n        \"num_unique_values\": 1,\n        \"samples\": [\n          4.125861273540643e-05\n        ],\n        \"semantic_type\": \"\",\n        \"description\": \"\"\n      }\n    }\n  ]\n}"
            }
          },
          "metadata": {},
          "execution_count": 27
        }
      ]
    },
    {
      "cell_type": "code",
      "source": [
        "df['manufacturer'] = df['name'].str.split(' ').str[0]"
      ],
      "metadata": {
        "colab": {
          "base_uri": "https://localhost:8080/"
        },
        "id": "6_GhvUro3U6d",
        "outputId": "3fe5c28d-b07e-4b24-c124-64a9a1b913ad"
      },
      "execution_count": 28,
      "outputs": [
        {
          "output_type": "stream",
          "name": "stderr",
          "text": [
            "<ipython-input-28-96310f9b4b91>:1: SettingWithCopyWarning:\n",
            "\n",
            "\n",
            "A value is trying to be set on a copy of a slice from a DataFrame.\n",
            "Try using .loc[row_indexer,col_indexer] = value instead\n",
            "\n",
            "See the caveats in the documentation: https://pandas.pydata.org/pandas-docs/stable/user_guide/indexing.html#returning-a-view-versus-a-copy\n",
            "\n"
          ]
        }
      ]
    },
    {
      "cell_type": "code",
      "source": [
        "# Let us check the common manufacture\n",
        "values = df[\"manufacturer\"].value_counts().keys().tolist()[:10]\n",
        "counts = df[\"manufacturer\"].value_counts().tolist()[:10]\n"
      ],
      "metadata": {
        "id": "WHJDsvKYzgQO"
      },
      "execution_count": 29,
      "outputs": []
    },
    {
      "cell_type": "code",
      "source": [
        "fig = px.bar(df, y = counts, x = values,\n",
        "            color_discrete_sequence = [\"#EC2781\"] * len(df))\n",
        "\n",
        "\n",
        "fig.update_layout(\n",
        "                 plot_bgcolor = \"#ECECEC\",\n",
        "                  yaxis_title = \"Count\",\n",
        "                xaxis_title = \"Name of Manufacturers\",\n",
        "                  title = \"<b>Popular Manufacturers Category</b>\"\n",
        "                 )\n",
        "fig.show()"
      ],
      "metadata": {
        "colab": {
          "base_uri": "https://localhost:8080/",
          "height": 542
        },
        "id": "hjFSZXBE3fGO",
        "outputId": "54497366-ac74-47a1-ba8b-90278982dad2"
      },
      "execution_count": 30,
      "outputs": [
        {
          "output_type": "display_data",
          "data": {
            "text/html": [
              "<html>\n",
              "<head><meta charset=\"utf-8\" /></head>\n",
              "<body>\n",
              "    <div>            <script src=\"https://cdnjs.cloudflare.com/ajax/libs/mathjax/2.7.5/MathJax.js?config=TeX-AMS-MML_SVG\"></script><script type=\"text/javascript\">if (window.MathJax && window.MathJax.Hub && window.MathJax.Hub.Config) {window.MathJax.Hub.Config({SVG: {font: \"STIX-Web\"}});}</script>                <script type=\"text/javascript\">window.PlotlyConfig = {MathJaxConfig: 'local'};</script>\n",
              "        <script charset=\"utf-8\" src=\"https://cdn.plot.ly/plotly-2.24.1.min.js\"></script>                <div id=\"38319afa-1f0d-4fe6-bf1e-938ac103ebf3\" class=\"plotly-graph-div\" style=\"height:525px; width:100%;\"></div>            <script type=\"text/javascript\">                                    window.PLOTLYENV=window.PLOTLYENV || {};                                    if (document.getElementById(\"38319afa-1f0d-4fe6-bf1e-938ac103ebf3\")) {                    Plotly.newPlot(                        \"38319afa-1f0d-4fe6-bf1e-938ac103ebf3\",                        [{\"alignmentgroup\":\"True\",\"hovertemplate\":\"x=%{x}\\u003cbr\\u003ey=%{y}\\u003cextra\\u003e\\u003c\\u002fextra\\u003e\",\"legendgroup\":\"\",\"marker\":{\"color\":\"#EC2781\",\"pattern\":{\"shape\":\"\"}},\"name\":\"\",\"offsetgroup\":\"\",\"orientation\":\"v\",\"showlegend\":false,\"textposition\":\"auto\",\"x\":[\"TheGiftKart\",\"boAt\",\"Amazon\",\"Spigen\",\"Samsung\",\"ZEBRONICS\",\"Portronics\",\"HP\",\"AmazonBasics\",\"SanDisk\"],\"xaxis\":\"x\",\"y\":[271,239,230,203,141,137,128,125,116,103],\"yaxis\":\"y\",\"type\":\"bar\"}],                        {\"template\":{\"data\":{\"histogram2dcontour\":[{\"type\":\"histogram2dcontour\",\"colorbar\":{\"outlinewidth\":0,\"ticks\":\"\"},\"colorscale\":[[0.0,\"#0d0887\"],[0.1111111111111111,\"#46039f\"],[0.2222222222222222,\"#7201a8\"],[0.3333333333333333,\"#9c179e\"],[0.4444444444444444,\"#bd3786\"],[0.5555555555555556,\"#d8576b\"],[0.6666666666666666,\"#ed7953\"],[0.7777777777777778,\"#fb9f3a\"],[0.8888888888888888,\"#fdca26\"],[1.0,\"#f0f921\"]]}],\"choropleth\":[{\"type\":\"choropleth\",\"colorbar\":{\"outlinewidth\":0,\"ticks\":\"\"}}],\"histogram2d\":[{\"type\":\"histogram2d\",\"colorbar\":{\"outlinewidth\":0,\"ticks\":\"\"},\"colorscale\":[[0.0,\"#0d0887\"],[0.1111111111111111,\"#46039f\"],[0.2222222222222222,\"#7201a8\"],[0.3333333333333333,\"#9c179e\"],[0.4444444444444444,\"#bd3786\"],[0.5555555555555556,\"#d8576b\"],[0.6666666666666666,\"#ed7953\"],[0.7777777777777778,\"#fb9f3a\"],[0.8888888888888888,\"#fdca26\"],[1.0,\"#f0f921\"]]}],\"heatmap\":[{\"type\":\"heatmap\",\"colorbar\":{\"outlinewidth\":0,\"ticks\":\"\"},\"colorscale\":[[0.0,\"#0d0887\"],[0.1111111111111111,\"#46039f\"],[0.2222222222222222,\"#7201a8\"],[0.3333333333333333,\"#9c179e\"],[0.4444444444444444,\"#bd3786\"],[0.5555555555555556,\"#d8576b\"],[0.6666666666666666,\"#ed7953\"],[0.7777777777777778,\"#fb9f3a\"],[0.8888888888888888,\"#fdca26\"],[1.0,\"#f0f921\"]]}],\"heatmapgl\":[{\"type\":\"heatmapgl\",\"colorbar\":{\"outlinewidth\":0,\"ticks\":\"\"},\"colorscale\":[[0.0,\"#0d0887\"],[0.1111111111111111,\"#46039f\"],[0.2222222222222222,\"#7201a8\"],[0.3333333333333333,\"#9c179e\"],[0.4444444444444444,\"#bd3786\"],[0.5555555555555556,\"#d8576b\"],[0.6666666666666666,\"#ed7953\"],[0.7777777777777778,\"#fb9f3a\"],[0.8888888888888888,\"#fdca26\"],[1.0,\"#f0f921\"]]}],\"contourcarpet\":[{\"type\":\"contourcarpet\",\"colorbar\":{\"outlinewidth\":0,\"ticks\":\"\"}}],\"contour\":[{\"type\":\"contour\",\"colorbar\":{\"outlinewidth\":0,\"ticks\":\"\"},\"colorscale\":[[0.0,\"#0d0887\"],[0.1111111111111111,\"#46039f\"],[0.2222222222222222,\"#7201a8\"],[0.3333333333333333,\"#9c179e\"],[0.4444444444444444,\"#bd3786\"],[0.5555555555555556,\"#d8576b\"],[0.6666666666666666,\"#ed7953\"],[0.7777777777777778,\"#fb9f3a\"],[0.8888888888888888,\"#fdca26\"],[1.0,\"#f0f921\"]]}],\"surface\":[{\"type\":\"surface\",\"colorbar\":{\"outlinewidth\":0,\"ticks\":\"\"},\"colorscale\":[[0.0,\"#0d0887\"],[0.1111111111111111,\"#46039f\"],[0.2222222222222222,\"#7201a8\"],[0.3333333333333333,\"#9c179e\"],[0.4444444444444444,\"#bd3786\"],[0.5555555555555556,\"#d8576b\"],[0.6666666666666666,\"#ed7953\"],[0.7777777777777778,\"#fb9f3a\"],[0.8888888888888888,\"#fdca26\"],[1.0,\"#f0f921\"]]}],\"mesh3d\":[{\"type\":\"mesh3d\",\"colorbar\":{\"outlinewidth\":0,\"ticks\":\"\"}}],\"scatter\":[{\"fillpattern\":{\"fillmode\":\"overlay\",\"size\":10,\"solidity\":0.2},\"type\":\"scatter\"}],\"parcoords\":[{\"type\":\"parcoords\",\"line\":{\"colorbar\":{\"outlinewidth\":0,\"ticks\":\"\"}}}],\"scatterpolargl\":[{\"type\":\"scatterpolargl\",\"marker\":{\"colorbar\":{\"outlinewidth\":0,\"ticks\":\"\"}}}],\"bar\":[{\"error_x\":{\"color\":\"#2a3f5f\"},\"error_y\":{\"color\":\"#2a3f5f\"},\"marker\":{\"line\":{\"color\":\"#E5ECF6\",\"width\":0.5},\"pattern\":{\"fillmode\":\"overlay\",\"size\":10,\"solidity\":0.2}},\"type\":\"bar\"}],\"scattergeo\":[{\"type\":\"scattergeo\",\"marker\":{\"colorbar\":{\"outlinewidth\":0,\"ticks\":\"\"}}}],\"scatterpolar\":[{\"type\":\"scatterpolar\",\"marker\":{\"colorbar\":{\"outlinewidth\":0,\"ticks\":\"\"}}}],\"histogram\":[{\"marker\":{\"pattern\":{\"fillmode\":\"overlay\",\"size\":10,\"solidity\":0.2}},\"type\":\"histogram\"}],\"scattergl\":[{\"type\":\"scattergl\",\"marker\":{\"colorbar\":{\"outlinewidth\":0,\"ticks\":\"\"}}}],\"scatter3d\":[{\"type\":\"scatter3d\",\"line\":{\"colorbar\":{\"outlinewidth\":0,\"ticks\":\"\"}},\"marker\":{\"colorbar\":{\"outlinewidth\":0,\"ticks\":\"\"}}}],\"scattermapbox\":[{\"type\":\"scattermapbox\",\"marker\":{\"colorbar\":{\"outlinewidth\":0,\"ticks\":\"\"}}}],\"scatterternary\":[{\"type\":\"scatterternary\",\"marker\":{\"colorbar\":{\"outlinewidth\":0,\"ticks\":\"\"}}}],\"scattercarpet\":[{\"type\":\"scattercarpet\",\"marker\":{\"colorbar\":{\"outlinewidth\":0,\"ticks\":\"\"}}}],\"carpet\":[{\"aaxis\":{\"endlinecolor\":\"#2a3f5f\",\"gridcolor\":\"white\",\"linecolor\":\"white\",\"minorgridcolor\":\"white\",\"startlinecolor\":\"#2a3f5f\"},\"baxis\":{\"endlinecolor\":\"#2a3f5f\",\"gridcolor\":\"white\",\"linecolor\":\"white\",\"minorgridcolor\":\"white\",\"startlinecolor\":\"#2a3f5f\"},\"type\":\"carpet\"}],\"table\":[{\"cells\":{\"fill\":{\"color\":\"#EBF0F8\"},\"line\":{\"color\":\"white\"}},\"header\":{\"fill\":{\"color\":\"#C8D4E3\"},\"line\":{\"color\":\"white\"}},\"type\":\"table\"}],\"barpolar\":[{\"marker\":{\"line\":{\"color\":\"#E5ECF6\",\"width\":0.5},\"pattern\":{\"fillmode\":\"overlay\",\"size\":10,\"solidity\":0.2}},\"type\":\"barpolar\"}],\"pie\":[{\"automargin\":true,\"type\":\"pie\"}]},\"layout\":{\"autotypenumbers\":\"strict\",\"colorway\":[\"#636efa\",\"#EF553B\",\"#00cc96\",\"#ab63fa\",\"#FFA15A\",\"#19d3f3\",\"#FF6692\",\"#B6E880\",\"#FF97FF\",\"#FECB52\"],\"font\":{\"color\":\"#2a3f5f\"},\"hovermode\":\"closest\",\"hoverlabel\":{\"align\":\"left\"},\"paper_bgcolor\":\"white\",\"plot_bgcolor\":\"#E5ECF6\",\"polar\":{\"bgcolor\":\"#E5ECF6\",\"angularaxis\":{\"gridcolor\":\"white\",\"linecolor\":\"white\",\"ticks\":\"\"},\"radialaxis\":{\"gridcolor\":\"white\",\"linecolor\":\"white\",\"ticks\":\"\"}},\"ternary\":{\"bgcolor\":\"#E5ECF6\",\"aaxis\":{\"gridcolor\":\"white\",\"linecolor\":\"white\",\"ticks\":\"\"},\"baxis\":{\"gridcolor\":\"white\",\"linecolor\":\"white\",\"ticks\":\"\"},\"caxis\":{\"gridcolor\":\"white\",\"linecolor\":\"white\",\"ticks\":\"\"}},\"coloraxis\":{\"colorbar\":{\"outlinewidth\":0,\"ticks\":\"\"}},\"colorscale\":{\"sequential\":[[0.0,\"#0d0887\"],[0.1111111111111111,\"#46039f\"],[0.2222222222222222,\"#7201a8\"],[0.3333333333333333,\"#9c179e\"],[0.4444444444444444,\"#bd3786\"],[0.5555555555555556,\"#d8576b\"],[0.6666666666666666,\"#ed7953\"],[0.7777777777777778,\"#fb9f3a\"],[0.8888888888888888,\"#fdca26\"],[1.0,\"#f0f921\"]],\"sequentialminus\":[[0.0,\"#0d0887\"],[0.1111111111111111,\"#46039f\"],[0.2222222222222222,\"#7201a8\"],[0.3333333333333333,\"#9c179e\"],[0.4444444444444444,\"#bd3786\"],[0.5555555555555556,\"#d8576b\"],[0.6666666666666666,\"#ed7953\"],[0.7777777777777778,\"#fb9f3a\"],[0.8888888888888888,\"#fdca26\"],[1.0,\"#f0f921\"]],\"diverging\":[[0,\"#8e0152\"],[0.1,\"#c51b7d\"],[0.2,\"#de77ae\"],[0.3,\"#f1b6da\"],[0.4,\"#fde0ef\"],[0.5,\"#f7f7f7\"],[0.6,\"#e6f5d0\"],[0.7,\"#b8e186\"],[0.8,\"#7fbc41\"],[0.9,\"#4d9221\"],[1,\"#276419\"]]},\"xaxis\":{\"gridcolor\":\"white\",\"linecolor\":\"white\",\"ticks\":\"\",\"title\":{\"standoff\":15},\"zerolinecolor\":\"white\",\"automargin\":true,\"zerolinewidth\":2},\"yaxis\":{\"gridcolor\":\"white\",\"linecolor\":\"white\",\"ticks\":\"\",\"title\":{\"standoff\":15},\"zerolinecolor\":\"white\",\"automargin\":true,\"zerolinewidth\":2},\"scene\":{\"xaxis\":{\"backgroundcolor\":\"#E5ECF6\",\"gridcolor\":\"white\",\"linecolor\":\"white\",\"showbackground\":true,\"ticks\":\"\",\"zerolinecolor\":\"white\",\"gridwidth\":2},\"yaxis\":{\"backgroundcolor\":\"#E5ECF6\",\"gridcolor\":\"white\",\"linecolor\":\"white\",\"showbackground\":true,\"ticks\":\"\",\"zerolinecolor\":\"white\",\"gridwidth\":2},\"zaxis\":{\"backgroundcolor\":\"#E5ECF6\",\"gridcolor\":\"white\",\"linecolor\":\"white\",\"showbackground\":true,\"ticks\":\"\",\"zerolinecolor\":\"white\",\"gridwidth\":2}},\"shapedefaults\":{\"line\":{\"color\":\"#2a3f5f\"}},\"annotationdefaults\":{\"arrowcolor\":\"#2a3f5f\",\"arrowhead\":0,\"arrowwidth\":1},\"geo\":{\"bgcolor\":\"white\",\"landcolor\":\"#E5ECF6\",\"subunitcolor\":\"white\",\"showland\":true,\"showlakes\":true,\"lakecolor\":\"white\"},\"title\":{\"x\":0.05},\"mapbox\":{\"style\":\"light\"}}},\"xaxis\":{\"anchor\":\"y\",\"domain\":[0.0,1.0],\"title\":{\"text\":\"Name of Manufacturers\"}},\"yaxis\":{\"anchor\":\"x\",\"domain\":[0.0,1.0],\"title\":{\"text\":\"Count\"}},\"legend\":{\"tracegroupgap\":0},\"margin\":{\"t\":60},\"barmode\":\"relative\",\"plot_bgcolor\":\"#ECECEC\",\"title\":{\"text\":\"\\u003cb\\u003ePopular Manufacturers Category\\u003c\\u002fb\\u003e\"}},                        {\"responsive\": true}                    ).then(function(){\n",
              "                            \n",
              "var gd = document.getElementById('38319afa-1f0d-4fe6-bf1e-938ac103ebf3');\n",
              "var x = new MutationObserver(function (mutations, observer) {{\n",
              "        var display = window.getComputedStyle(gd).display;\n",
              "        if (!display || display === 'none') {{\n",
              "            console.log([gd, 'removed!']);\n",
              "            Plotly.purge(gd);\n",
              "            observer.disconnect();\n",
              "        }}\n",
              "}});\n",
              "\n",
              "// Listen for the removal of the full notebook cells\n",
              "var notebookContainer = gd.closest('#notebook-container');\n",
              "if (notebookContainer) {{\n",
              "    x.observe(notebookContainer, {childList: true});\n",
              "}}\n",
              "\n",
              "// Listen for the clearing of the current output cell\n",
              "var outputEl = gd.closest('.output');\n",
              "if (outputEl) {{\n",
              "    x.observe(outputEl, {childList: true});\n",
              "}}\n",
              "\n",
              "                        })                };                            </script>        </div>\n",
              "</body>\n",
              "</html>"
            ]
          },
          "metadata": {}
        }
      ]
    },
    {
      "cell_type": "code",
      "source": [
        "# Creating the dataframe of top 10 manufacturer\n",
        "df_list = []\n",
        "for i in values:\n",
        "    x = df[df[\"manufacturer\"] == i]\n",
        "    df_list.append(x)\n",
        "frame = pd.concat(df_list)\n",
        "frame.head(2)\n"
      ],
      "metadata": {
        "colab": {
          "base_uri": "https://localhost:8080/",
          "height": 618
        },
        "id": "DhE3h4Ra4PKu",
        "outputId": "726aae91-a9f4-4f23-c32e-4f5c487688ac"
      },
      "execution_count": 31,
      "outputs": [
        {
          "output_type": "execute_result",
          "data": {
            "text/plain": [
              "                                                                                                                              name  \\\n",
              "711  TheGiftKart Crystal Clear Back Cover Case for OnePlus Nord CE 2 LITE 5G | 360 Degree Protection | Shock Proof Design | Tra...   \n",
              "977  TheGiftKart Ultra-Hybrid Clear Back Case Cover for iPhone 12/12 PRO | Shockproof Design | Camera Protection Bump | Hard Ba...   \n",
              "\n",
              "           main_category     sub_category  \\\n",
              "711  tv, audio & cameras  All Electronics   \n",
              "977  tv, audio & cameras  All Electronics   \n",
              "\n",
              "                                                              image  \\\n",
              "711  https://m.media-amazon.com/images/I/51iDlP9QM9L._AC_UL320_.jpg   \n",
              "977  https://m.media-amazon.com/images/I/61Xur-hMp3L._AC_UL320_.jpg   \n",
              "\n",
              "                                                                                                                                                  link  \\\n",
              "711          https://www.amazon.in/TheGiftKart-Crystal-OnePlus-Protection-Transparent/dp/B09Z6KB833/ref=sr_1_714?qid=1679133693&s=electronics&sr=1-714   \n",
              "977  https://www.amazon.in/TheGiftKart-Ultra-Hybrid-Shockproof-Protection-Transparent/dp/B0BG8R73CD/ref=sr_1_980?qid=1679133709&s=electronics&sr=1-980   \n",
              "\n",
              "     ratings  no_of_ratings  discount_price  actual_price  \\\n",
              "711      4.2         1172.0           251.0         999.0   \n",
              "977      4.3          369.0           284.0         999.0   \n",
              "\n",
              "     correct_no_of_ratings  discount_value  discounting_percent manufacturer  \n",
              "711                   True           748.0             0.748749  TheGiftKart  \n",
              "977                   True           715.0             0.715716  TheGiftKart  "
            ],
            "text/html": [
              "\n",
              "  <div id=\"df-c4b0d431-1a84-4005-a2ec-c875756c7eb1\" class=\"colab-df-container\">\n",
              "    <div>\n",
              "<style scoped>\n",
              "    .dataframe tbody tr th:only-of-type {\n",
              "        vertical-align: middle;\n",
              "    }\n",
              "\n",
              "    .dataframe tbody tr th {\n",
              "        vertical-align: top;\n",
              "    }\n",
              "\n",
              "    .dataframe thead th {\n",
              "        text-align: right;\n",
              "    }\n",
              "</style>\n",
              "<table border=\"1\" class=\"dataframe\">\n",
              "  <thead>\n",
              "    <tr style=\"text-align: right;\">\n",
              "      <th></th>\n",
              "      <th>name</th>\n",
              "      <th>main_category</th>\n",
              "      <th>sub_category</th>\n",
              "      <th>image</th>\n",
              "      <th>link</th>\n",
              "      <th>ratings</th>\n",
              "      <th>no_of_ratings</th>\n",
              "      <th>discount_price</th>\n",
              "      <th>actual_price</th>\n",
              "      <th>correct_no_of_ratings</th>\n",
              "      <th>discount_value</th>\n",
              "      <th>discounting_percent</th>\n",
              "      <th>manufacturer</th>\n",
              "    </tr>\n",
              "  </thead>\n",
              "  <tbody>\n",
              "    <tr>\n",
              "      <th>711</th>\n",
              "      <td>TheGiftKart Crystal Clear Back Cover Case for OnePlus Nord CE 2 LITE 5G | 360 Degree Protection | Shock Proof Design | Tra...</td>\n",
              "      <td>tv, audio &amp; cameras</td>\n",
              "      <td>All Electronics</td>\n",
              "      <td>https://m.media-amazon.com/images/I/51iDlP9QM9L._AC_UL320_.jpg</td>\n",
              "      <td>https://www.amazon.in/TheGiftKart-Crystal-OnePlus-Protection-Transparent/dp/B09Z6KB833/ref=sr_1_714?qid=1679133693&amp;s=electronics&amp;sr=1-714</td>\n",
              "      <td>4.2</td>\n",
              "      <td>1172.0</td>\n",
              "      <td>251.0</td>\n",
              "      <td>999.0</td>\n",
              "      <td>True</td>\n",
              "      <td>748.0</td>\n",
              "      <td>0.748749</td>\n",
              "      <td>TheGiftKart</td>\n",
              "    </tr>\n",
              "    <tr>\n",
              "      <th>977</th>\n",
              "      <td>TheGiftKart Ultra-Hybrid Clear Back Case Cover for iPhone 12/12 PRO | Shockproof Design | Camera Protection Bump | Hard Ba...</td>\n",
              "      <td>tv, audio &amp; cameras</td>\n",
              "      <td>All Electronics</td>\n",
              "      <td>https://m.media-amazon.com/images/I/61Xur-hMp3L._AC_UL320_.jpg</td>\n",
              "      <td>https://www.amazon.in/TheGiftKart-Ultra-Hybrid-Shockproof-Protection-Transparent/dp/B0BG8R73CD/ref=sr_1_980?qid=1679133709&amp;s=electronics&amp;sr=1-980</td>\n",
              "      <td>4.3</td>\n",
              "      <td>369.0</td>\n",
              "      <td>284.0</td>\n",
              "      <td>999.0</td>\n",
              "      <td>True</td>\n",
              "      <td>715.0</td>\n",
              "      <td>0.715716</td>\n",
              "      <td>TheGiftKart</td>\n",
              "    </tr>\n",
              "  </tbody>\n",
              "</table>\n",
              "</div>\n",
              "    <div class=\"colab-df-buttons\">\n",
              "\n",
              "  <div class=\"colab-df-container\">\n",
              "    <button class=\"colab-df-convert\" onclick=\"convertToInteractive('df-c4b0d431-1a84-4005-a2ec-c875756c7eb1')\"\n",
              "            title=\"Convert this dataframe to an interactive table.\"\n",
              "            style=\"display:none;\">\n",
              "\n",
              "  <svg xmlns=\"http://www.w3.org/2000/svg\" height=\"24px\" viewBox=\"0 -960 960 960\">\n",
              "    <path d=\"M120-120v-720h720v720H120Zm60-500h600v-160H180v160Zm220 220h160v-160H400v160Zm0 220h160v-160H400v160ZM180-400h160v-160H180v160Zm440 0h160v-160H620v160ZM180-180h160v-160H180v160Zm440 0h160v-160H620v160Z\"/>\n",
              "  </svg>\n",
              "    </button>\n",
              "\n",
              "  <style>\n",
              "    .colab-df-container {\n",
              "      display:flex;\n",
              "      gap: 12px;\n",
              "    }\n",
              "\n",
              "    .colab-df-convert {\n",
              "      background-color: #E8F0FE;\n",
              "      border: none;\n",
              "      border-radius: 50%;\n",
              "      cursor: pointer;\n",
              "      display: none;\n",
              "      fill: #1967D2;\n",
              "      height: 32px;\n",
              "      padding: 0 0 0 0;\n",
              "      width: 32px;\n",
              "    }\n",
              "\n",
              "    .colab-df-convert:hover {\n",
              "      background-color: #E2EBFA;\n",
              "      box-shadow: 0px 1px 2px rgba(60, 64, 67, 0.3), 0px 1px 3px 1px rgba(60, 64, 67, 0.15);\n",
              "      fill: #174EA6;\n",
              "    }\n",
              "\n",
              "    .colab-df-buttons div {\n",
              "      margin-bottom: 4px;\n",
              "    }\n",
              "\n",
              "    [theme=dark] .colab-df-convert {\n",
              "      background-color: #3B4455;\n",
              "      fill: #D2E3FC;\n",
              "    }\n",
              "\n",
              "    [theme=dark] .colab-df-convert:hover {\n",
              "      background-color: #434B5C;\n",
              "      box-shadow: 0px 1px 3px 1px rgba(0, 0, 0, 0.15);\n",
              "      filter: drop-shadow(0px 1px 2px rgba(0, 0, 0, 0.3));\n",
              "      fill: #FFFFFF;\n",
              "    }\n",
              "  </style>\n",
              "\n",
              "    <script>\n",
              "      const buttonEl =\n",
              "        document.querySelector('#df-c4b0d431-1a84-4005-a2ec-c875756c7eb1 button.colab-df-convert');\n",
              "      buttonEl.style.display =\n",
              "        google.colab.kernel.accessAllowed ? 'block' : 'none';\n",
              "\n",
              "      async function convertToInteractive(key) {\n",
              "        const element = document.querySelector('#df-c4b0d431-1a84-4005-a2ec-c875756c7eb1');\n",
              "        const dataTable =\n",
              "          await google.colab.kernel.invokeFunction('convertToInteractive',\n",
              "                                                    [key], {});\n",
              "        if (!dataTable) return;\n",
              "\n",
              "        const docLinkHtml = 'Like what you see? Visit the ' +\n",
              "          '<a target=\"_blank\" href=https://colab.research.google.com/notebooks/data_table.ipynb>data table notebook</a>'\n",
              "          + ' to learn more about interactive tables.';\n",
              "        element.innerHTML = '';\n",
              "        dataTable['output_type'] = 'display_data';\n",
              "        await google.colab.output.renderOutput(dataTable, element);\n",
              "        const docLink = document.createElement('div');\n",
              "        docLink.innerHTML = docLinkHtml;\n",
              "        element.appendChild(docLink);\n",
              "      }\n",
              "    </script>\n",
              "  </div>\n",
              "\n",
              "\n",
              "<div id=\"df-b3bcc055-08c8-47d4-a530-5b43051d5a41\">\n",
              "  <button class=\"colab-df-quickchart\" onclick=\"quickchart('df-b3bcc055-08c8-47d4-a530-5b43051d5a41')\"\n",
              "            title=\"Suggest charts\"\n",
              "            style=\"display:none;\">\n",
              "\n",
              "<svg xmlns=\"http://www.w3.org/2000/svg\" height=\"24px\"viewBox=\"0 0 24 24\"\n",
              "     width=\"24px\">\n",
              "    <g>\n",
              "        <path d=\"M19 3H5c-1.1 0-2 .9-2 2v14c0 1.1.9 2 2 2h14c1.1 0 2-.9 2-2V5c0-1.1-.9-2-2-2zM9 17H7v-7h2v7zm4 0h-2V7h2v10zm4 0h-2v-4h2v4z\"/>\n",
              "    </g>\n",
              "</svg>\n",
              "  </button>\n",
              "\n",
              "<style>\n",
              "  .colab-df-quickchart {\n",
              "      --bg-color: #E8F0FE;\n",
              "      --fill-color: #1967D2;\n",
              "      --hover-bg-color: #E2EBFA;\n",
              "      --hover-fill-color: #174EA6;\n",
              "      --disabled-fill-color: #AAA;\n",
              "      --disabled-bg-color: #DDD;\n",
              "  }\n",
              "\n",
              "  [theme=dark] .colab-df-quickchart {\n",
              "      --bg-color: #3B4455;\n",
              "      --fill-color: #D2E3FC;\n",
              "      --hover-bg-color: #434B5C;\n",
              "      --hover-fill-color: #FFFFFF;\n",
              "      --disabled-bg-color: #3B4455;\n",
              "      --disabled-fill-color: #666;\n",
              "  }\n",
              "\n",
              "  .colab-df-quickchart {\n",
              "    background-color: var(--bg-color);\n",
              "    border: none;\n",
              "    border-radius: 50%;\n",
              "    cursor: pointer;\n",
              "    display: none;\n",
              "    fill: var(--fill-color);\n",
              "    height: 32px;\n",
              "    padding: 0;\n",
              "    width: 32px;\n",
              "  }\n",
              "\n",
              "  .colab-df-quickchart:hover {\n",
              "    background-color: var(--hover-bg-color);\n",
              "    box-shadow: 0 1px 2px rgba(60, 64, 67, 0.3), 0 1px 3px 1px rgba(60, 64, 67, 0.15);\n",
              "    fill: var(--button-hover-fill-color);\n",
              "  }\n",
              "\n",
              "  .colab-df-quickchart-complete:disabled,\n",
              "  .colab-df-quickchart-complete:disabled:hover {\n",
              "    background-color: var(--disabled-bg-color);\n",
              "    fill: var(--disabled-fill-color);\n",
              "    box-shadow: none;\n",
              "  }\n",
              "\n",
              "  .colab-df-spinner {\n",
              "    border: 2px solid var(--fill-color);\n",
              "    border-color: transparent;\n",
              "    border-bottom-color: var(--fill-color);\n",
              "    animation:\n",
              "      spin 1s steps(1) infinite;\n",
              "  }\n",
              "\n",
              "  @keyframes spin {\n",
              "    0% {\n",
              "      border-color: transparent;\n",
              "      border-bottom-color: var(--fill-color);\n",
              "      border-left-color: var(--fill-color);\n",
              "    }\n",
              "    20% {\n",
              "      border-color: transparent;\n",
              "      border-left-color: var(--fill-color);\n",
              "      border-top-color: var(--fill-color);\n",
              "    }\n",
              "    30% {\n",
              "      border-color: transparent;\n",
              "      border-left-color: var(--fill-color);\n",
              "      border-top-color: var(--fill-color);\n",
              "      border-right-color: var(--fill-color);\n",
              "    }\n",
              "    40% {\n",
              "      border-color: transparent;\n",
              "      border-right-color: var(--fill-color);\n",
              "      border-top-color: var(--fill-color);\n",
              "    }\n",
              "    60% {\n",
              "      border-color: transparent;\n",
              "      border-right-color: var(--fill-color);\n",
              "    }\n",
              "    80% {\n",
              "      border-color: transparent;\n",
              "      border-right-color: var(--fill-color);\n",
              "      border-bottom-color: var(--fill-color);\n",
              "    }\n",
              "    90% {\n",
              "      border-color: transparent;\n",
              "      border-bottom-color: var(--fill-color);\n",
              "    }\n",
              "  }\n",
              "</style>\n",
              "\n",
              "  <script>\n",
              "    async function quickchart(key) {\n",
              "      const quickchartButtonEl =\n",
              "        document.querySelector('#' + key + ' button');\n",
              "      quickchartButtonEl.disabled = true;  // To prevent multiple clicks.\n",
              "      quickchartButtonEl.classList.add('colab-df-spinner');\n",
              "      try {\n",
              "        const charts = await google.colab.kernel.invokeFunction(\n",
              "            'suggestCharts', [key], {});\n",
              "      } catch (error) {\n",
              "        console.error('Error during call to suggestCharts:', error);\n",
              "      }\n",
              "      quickchartButtonEl.classList.remove('colab-df-spinner');\n",
              "      quickchartButtonEl.classList.add('colab-df-quickchart-complete');\n",
              "    }\n",
              "    (() => {\n",
              "      let quickchartButtonEl =\n",
              "        document.querySelector('#df-b3bcc055-08c8-47d4-a530-5b43051d5a41 button');\n",
              "      quickchartButtonEl.style.display =\n",
              "        google.colab.kernel.accessAllowed ? 'block' : 'none';\n",
              "    })();\n",
              "  </script>\n",
              "</div>\n",
              "    </div>\n",
              "  </div>\n"
            ],
            "application/vnd.google.colaboratory.intrinsic+json": {
              "type": "dataframe",
              "variable_name": "frame",
              "summary": "{\n  \"name\": \"frame\",\n  \"rows\": 1693,\n  \"fields\": [\n    {\n      \"column\": \"name\",\n      \"properties\": {\n        \"dtype\": \"string\",\n        \"num_unique_values\": 1566,\n        \"samples\": [\n          \"Amazon Basics Male to Female Stereo Audio Cable (Aux Extension Cable) with Gold Plated Connectors- 25 Feet (3.5mm) - Does ...\",\n          \"boAt Bassheads 100 in Ear Wired Earphones with Mic(Furious Red)\",\n          \"SanDisk Ultra\\u00ae microSDXC\\u2122 UHS-I Card, 512GB, 150MB/s R, 10 Y Warranty, for Smartphones\"\n        ],\n        \"semantic_type\": \"\",\n        \"description\": \"\"\n      }\n    },\n    {\n      \"column\": \"main_category\",\n      \"properties\": {\n        \"dtype\": \"category\",\n        \"num_unique_values\": 1,\n        \"samples\": [\n          \"tv, audio & cameras\"\n        ],\n        \"semantic_type\": \"\",\n        \"description\": \"\"\n      }\n    },\n    {\n      \"column\": \"sub_category\",\n      \"properties\": {\n        \"dtype\": \"category\",\n        \"num_unique_values\": 1,\n        \"samples\": [\n          \"All Electronics\"\n        ],\n        \"semantic_type\": \"\",\n        \"description\": \"\"\n      }\n    },\n    {\n      \"column\": \"image\",\n      \"properties\": {\n        \"dtype\": \"string\",\n        \"num_unique_values\": 1630,\n        \"samples\": [\n          \"https://m.media-amazon.com/images/I/61q5A0gjA4L._AC_UL320_.jpg\"\n        ],\n        \"semantic_type\": \"\",\n        \"description\": \"\"\n      }\n    },\n    {\n      \"column\": \"link\",\n      \"properties\": {\n        \"dtype\": \"string\",\n        \"num_unique_values\": 1693,\n        \"samples\": [\n          \"https://www.amazon.in/Portronics-Wireless-Otoscope-Cleaner-Endoscope/dp/B0BNLBYPXK/ref=sr_1_1751?qid=1679133761&s=electronics&sr=1-1751\"\n        ],\n        \"semantic_type\": \"\",\n        \"description\": \"\"\n      }\n    },\n    {\n      \"column\": \"ratings\",\n      \"properties\": {\n        \"dtype\": \"number\",\n        \"std\": 0.3285744420431678,\n        \"min\": 1.0,\n        \"max\": 5.0,\n        \"num_unique_values\": 24,\n        \"samples\": [\n          4.6\n        ],\n        \"semantic_type\": \"\",\n        \"description\": \"\"\n      }\n    },\n    {\n      \"column\": \"no_of_ratings\",\n      \"properties\": {\n        \"dtype\": \"number\",\n        \"std\": 52918.05715864388,\n        \"min\": 1.0,\n        \"max\": 437651.0,\n        \"num_unique_values\": 913,\n        \"samples\": [\n          2570.0\n        ],\n        \"semantic_type\": \"\",\n        \"description\": \"\"\n      }\n    },\n    {\n      \"column\": \"discount_price\",\n      \"properties\": {\n        \"dtype\": \"number\",\n        \"std\": 10670.481756110263,\n        \"min\": 59.0,\n        \"max\": 134999.0,\n        \"num_unique_values\": 408,\n        \"samples\": [\n          3499.0\n        ],\n        \"semantic_type\": \"\",\n        \"description\": \"\"\n      }\n    },\n    {\n      \"column\": \"actual_price\",\n      \"properties\": {\n        \"dtype\": \"number\",\n        \"std\": 14209.063378110352,\n        \"min\": 119.0,\n        \"max\": 161999.0,\n        \"num_unique_values\": 331,\n        \"samples\": [\n          6499.0\n        ],\n        \"semantic_type\": \"\",\n        \"description\": \"\"\n      }\n    },\n    {\n      \"column\": \"correct_no_of_ratings\",\n      \"properties\": {\n        \"dtype\": \"boolean\",\n        \"num_unique_values\": 1,\n        \"samples\": [\n          true\n        ],\n        \"semantic_type\": \"\",\n        \"description\": \"\"\n      }\n    },\n    {\n      \"column\": \"discount_value\",\n      \"properties\": {\n        \"dtype\": \"number\",\n        \"std\": 4752.552465315015,\n        \"min\": 0.8800000000010186,\n        \"max\": 58002.0,\n        \"num_unique_values\": 575,\n        \"samples\": [\n          1360.0\n        ],\n        \"semantic_type\": \"\",\n        \"description\": \"\"\n      }\n    },\n    {\n      \"column\": \"discounting_percent\",\n      \"properties\": {\n        \"dtype\": \"number\",\n        \"std\": 0.18445418794396243,\n        \"min\": 2.941262978317649e-05,\n        \"max\": 0.8583690987124464,\n        \"num_unique_values\": 900,\n        \"samples\": [\n          0.6735381161342995\n        ],\n        \"semantic_type\": \"\",\n        \"description\": \"\"\n      }\n    },\n    {\n      \"column\": \"manufacturer\",\n      \"properties\": {\n        \"dtype\": \"category\",\n        \"num_unique_values\": 10,\n        \"samples\": [\n          \"AmazonBasics\"\n        ],\n        \"semantic_type\": \"\",\n        \"description\": \"\"\n      }\n    }\n  ]\n}"
            }
          },
          "metadata": {},
          "execution_count": 31
        }
      ]
    },
    {
      "cell_type": "code",
      "source": [
        "frame[[\"manufacturer\", \"ratings\"]].groupby(\"manufacturer\").mean().sort_values(by = \"ratings\",\n",
        "                                                ascending = False)\n"
      ],
      "metadata": {
        "colab": {
          "base_uri": "https://localhost:8080/",
          "height": 394
        },
        "id": "9teQ_BhW4LF_",
        "outputId": "8a5f28be-efaf-4069-d054-10ad61941f75"
      },
      "execution_count": 32,
      "outputs": [
        {
          "output_type": "execute_result",
          "data": {
            "text/plain": [
              "               ratings\n",
              "manufacturer          \n",
              "SanDisk       4.337864\n",
              "TheGiftKart   4.323985\n",
              "Spigen        4.309852\n",
              "Samsung       4.164539\n",
              "AmazonBasics  4.156034\n",
              "Portronics    4.067188\n",
              "boAt          4.026360\n",
              "Amazon        4.026087\n",
              "HP            4.016000\n",
              "ZEBRONICS     3.883212"
            ],
            "text/html": [
              "\n",
              "  <div id=\"df-fdf1e645-c7a6-410b-9185-0916793f0725\" class=\"colab-df-container\">\n",
              "    <div>\n",
              "<style scoped>\n",
              "    .dataframe tbody tr th:only-of-type {\n",
              "        vertical-align: middle;\n",
              "    }\n",
              "\n",
              "    .dataframe tbody tr th {\n",
              "        vertical-align: top;\n",
              "    }\n",
              "\n",
              "    .dataframe thead th {\n",
              "        text-align: right;\n",
              "    }\n",
              "</style>\n",
              "<table border=\"1\" class=\"dataframe\">\n",
              "  <thead>\n",
              "    <tr style=\"text-align: right;\">\n",
              "      <th></th>\n",
              "      <th>ratings</th>\n",
              "    </tr>\n",
              "    <tr>\n",
              "      <th>manufacturer</th>\n",
              "      <th></th>\n",
              "    </tr>\n",
              "  </thead>\n",
              "  <tbody>\n",
              "    <tr>\n",
              "      <th>SanDisk</th>\n",
              "      <td>4.337864</td>\n",
              "    </tr>\n",
              "    <tr>\n",
              "      <th>TheGiftKart</th>\n",
              "      <td>4.323985</td>\n",
              "    </tr>\n",
              "    <tr>\n",
              "      <th>Spigen</th>\n",
              "      <td>4.309852</td>\n",
              "    </tr>\n",
              "    <tr>\n",
              "      <th>Samsung</th>\n",
              "      <td>4.164539</td>\n",
              "    </tr>\n",
              "    <tr>\n",
              "      <th>AmazonBasics</th>\n",
              "      <td>4.156034</td>\n",
              "    </tr>\n",
              "    <tr>\n",
              "      <th>Portronics</th>\n",
              "      <td>4.067188</td>\n",
              "    </tr>\n",
              "    <tr>\n",
              "      <th>boAt</th>\n",
              "      <td>4.026360</td>\n",
              "    </tr>\n",
              "    <tr>\n",
              "      <th>Amazon</th>\n",
              "      <td>4.026087</td>\n",
              "    </tr>\n",
              "    <tr>\n",
              "      <th>HP</th>\n",
              "      <td>4.016000</td>\n",
              "    </tr>\n",
              "    <tr>\n",
              "      <th>ZEBRONICS</th>\n",
              "      <td>3.883212</td>\n",
              "    </tr>\n",
              "  </tbody>\n",
              "</table>\n",
              "</div>\n",
              "    <div class=\"colab-df-buttons\">\n",
              "\n",
              "  <div class=\"colab-df-container\">\n",
              "    <button class=\"colab-df-convert\" onclick=\"convertToInteractive('df-fdf1e645-c7a6-410b-9185-0916793f0725')\"\n",
              "            title=\"Convert this dataframe to an interactive table.\"\n",
              "            style=\"display:none;\">\n",
              "\n",
              "  <svg xmlns=\"http://www.w3.org/2000/svg\" height=\"24px\" viewBox=\"0 -960 960 960\">\n",
              "    <path d=\"M120-120v-720h720v720H120Zm60-500h600v-160H180v160Zm220 220h160v-160H400v160Zm0 220h160v-160H400v160ZM180-400h160v-160H180v160Zm440 0h160v-160H620v160ZM180-180h160v-160H180v160Zm440 0h160v-160H620v160Z\"/>\n",
              "  </svg>\n",
              "    </button>\n",
              "\n",
              "  <style>\n",
              "    .colab-df-container {\n",
              "      display:flex;\n",
              "      gap: 12px;\n",
              "    }\n",
              "\n",
              "    .colab-df-convert {\n",
              "      background-color: #E8F0FE;\n",
              "      border: none;\n",
              "      border-radius: 50%;\n",
              "      cursor: pointer;\n",
              "      display: none;\n",
              "      fill: #1967D2;\n",
              "      height: 32px;\n",
              "      padding: 0 0 0 0;\n",
              "      width: 32px;\n",
              "    }\n",
              "\n",
              "    .colab-df-convert:hover {\n",
              "      background-color: #E2EBFA;\n",
              "      box-shadow: 0px 1px 2px rgba(60, 64, 67, 0.3), 0px 1px 3px 1px rgba(60, 64, 67, 0.15);\n",
              "      fill: #174EA6;\n",
              "    }\n",
              "\n",
              "    .colab-df-buttons div {\n",
              "      margin-bottom: 4px;\n",
              "    }\n",
              "\n",
              "    [theme=dark] .colab-df-convert {\n",
              "      background-color: #3B4455;\n",
              "      fill: #D2E3FC;\n",
              "    }\n",
              "\n",
              "    [theme=dark] .colab-df-convert:hover {\n",
              "      background-color: #434B5C;\n",
              "      box-shadow: 0px 1px 3px 1px rgba(0, 0, 0, 0.15);\n",
              "      filter: drop-shadow(0px 1px 2px rgba(0, 0, 0, 0.3));\n",
              "      fill: #FFFFFF;\n",
              "    }\n",
              "  </style>\n",
              "\n",
              "    <script>\n",
              "      const buttonEl =\n",
              "        document.querySelector('#df-fdf1e645-c7a6-410b-9185-0916793f0725 button.colab-df-convert');\n",
              "      buttonEl.style.display =\n",
              "        google.colab.kernel.accessAllowed ? 'block' : 'none';\n",
              "\n",
              "      async function convertToInteractive(key) {\n",
              "        const element = document.querySelector('#df-fdf1e645-c7a6-410b-9185-0916793f0725');\n",
              "        const dataTable =\n",
              "          await google.colab.kernel.invokeFunction('convertToInteractive',\n",
              "                                                    [key], {});\n",
              "        if (!dataTable) return;\n",
              "\n",
              "        const docLinkHtml = 'Like what you see? Visit the ' +\n",
              "          '<a target=\"_blank\" href=https://colab.research.google.com/notebooks/data_table.ipynb>data table notebook</a>'\n",
              "          + ' to learn more about interactive tables.';\n",
              "        element.innerHTML = '';\n",
              "        dataTable['output_type'] = 'display_data';\n",
              "        await google.colab.output.renderOutput(dataTable, element);\n",
              "        const docLink = document.createElement('div');\n",
              "        docLink.innerHTML = docLinkHtml;\n",
              "        element.appendChild(docLink);\n",
              "      }\n",
              "    </script>\n",
              "  </div>\n",
              "\n",
              "\n",
              "<div id=\"df-111a2010-eb44-437d-af30-dd59fe2d523b\">\n",
              "  <button class=\"colab-df-quickchart\" onclick=\"quickchart('df-111a2010-eb44-437d-af30-dd59fe2d523b')\"\n",
              "            title=\"Suggest charts\"\n",
              "            style=\"display:none;\">\n",
              "\n",
              "<svg xmlns=\"http://www.w3.org/2000/svg\" height=\"24px\"viewBox=\"0 0 24 24\"\n",
              "     width=\"24px\">\n",
              "    <g>\n",
              "        <path d=\"M19 3H5c-1.1 0-2 .9-2 2v14c0 1.1.9 2 2 2h14c1.1 0 2-.9 2-2V5c0-1.1-.9-2-2-2zM9 17H7v-7h2v7zm4 0h-2V7h2v10zm4 0h-2v-4h2v4z\"/>\n",
              "    </g>\n",
              "</svg>\n",
              "  </button>\n",
              "\n",
              "<style>\n",
              "  .colab-df-quickchart {\n",
              "      --bg-color: #E8F0FE;\n",
              "      --fill-color: #1967D2;\n",
              "      --hover-bg-color: #E2EBFA;\n",
              "      --hover-fill-color: #174EA6;\n",
              "      --disabled-fill-color: #AAA;\n",
              "      --disabled-bg-color: #DDD;\n",
              "  }\n",
              "\n",
              "  [theme=dark] .colab-df-quickchart {\n",
              "      --bg-color: #3B4455;\n",
              "      --fill-color: #D2E3FC;\n",
              "      --hover-bg-color: #434B5C;\n",
              "      --hover-fill-color: #FFFFFF;\n",
              "      --disabled-bg-color: #3B4455;\n",
              "      --disabled-fill-color: #666;\n",
              "  }\n",
              "\n",
              "  .colab-df-quickchart {\n",
              "    background-color: var(--bg-color);\n",
              "    border: none;\n",
              "    border-radius: 50%;\n",
              "    cursor: pointer;\n",
              "    display: none;\n",
              "    fill: var(--fill-color);\n",
              "    height: 32px;\n",
              "    padding: 0;\n",
              "    width: 32px;\n",
              "  }\n",
              "\n",
              "  .colab-df-quickchart:hover {\n",
              "    background-color: var(--hover-bg-color);\n",
              "    box-shadow: 0 1px 2px rgba(60, 64, 67, 0.3), 0 1px 3px 1px rgba(60, 64, 67, 0.15);\n",
              "    fill: var(--button-hover-fill-color);\n",
              "  }\n",
              "\n",
              "  .colab-df-quickchart-complete:disabled,\n",
              "  .colab-df-quickchart-complete:disabled:hover {\n",
              "    background-color: var(--disabled-bg-color);\n",
              "    fill: var(--disabled-fill-color);\n",
              "    box-shadow: none;\n",
              "  }\n",
              "\n",
              "  .colab-df-spinner {\n",
              "    border: 2px solid var(--fill-color);\n",
              "    border-color: transparent;\n",
              "    border-bottom-color: var(--fill-color);\n",
              "    animation:\n",
              "      spin 1s steps(1) infinite;\n",
              "  }\n",
              "\n",
              "  @keyframes spin {\n",
              "    0% {\n",
              "      border-color: transparent;\n",
              "      border-bottom-color: var(--fill-color);\n",
              "      border-left-color: var(--fill-color);\n",
              "    }\n",
              "    20% {\n",
              "      border-color: transparent;\n",
              "      border-left-color: var(--fill-color);\n",
              "      border-top-color: var(--fill-color);\n",
              "    }\n",
              "    30% {\n",
              "      border-color: transparent;\n",
              "      border-left-color: var(--fill-color);\n",
              "      border-top-color: var(--fill-color);\n",
              "      border-right-color: var(--fill-color);\n",
              "    }\n",
              "    40% {\n",
              "      border-color: transparent;\n",
              "      border-right-color: var(--fill-color);\n",
              "      border-top-color: var(--fill-color);\n",
              "    }\n",
              "    60% {\n",
              "      border-color: transparent;\n",
              "      border-right-color: var(--fill-color);\n",
              "    }\n",
              "    80% {\n",
              "      border-color: transparent;\n",
              "      border-right-color: var(--fill-color);\n",
              "      border-bottom-color: var(--fill-color);\n",
              "    }\n",
              "    90% {\n",
              "      border-color: transparent;\n",
              "      border-bottom-color: var(--fill-color);\n",
              "    }\n",
              "  }\n",
              "</style>\n",
              "\n",
              "  <script>\n",
              "    async function quickchart(key) {\n",
              "      const quickchartButtonEl =\n",
              "        document.querySelector('#' + key + ' button');\n",
              "      quickchartButtonEl.disabled = true;  // To prevent multiple clicks.\n",
              "      quickchartButtonEl.classList.add('colab-df-spinner');\n",
              "      try {\n",
              "        const charts = await google.colab.kernel.invokeFunction(\n",
              "            'suggestCharts', [key], {});\n",
              "      } catch (error) {\n",
              "        console.error('Error during call to suggestCharts:', error);\n",
              "      }\n",
              "      quickchartButtonEl.classList.remove('colab-df-spinner');\n",
              "      quickchartButtonEl.classList.add('colab-df-quickchart-complete');\n",
              "    }\n",
              "    (() => {\n",
              "      let quickchartButtonEl =\n",
              "        document.querySelector('#df-111a2010-eb44-437d-af30-dd59fe2d523b button');\n",
              "      quickchartButtonEl.style.display =\n",
              "        google.colab.kernel.accessAllowed ? 'block' : 'none';\n",
              "    })();\n",
              "  </script>\n",
              "</div>\n",
              "    </div>\n",
              "  </div>\n"
            ],
            "application/vnd.google.colaboratory.intrinsic+json": {
              "type": "dataframe",
              "summary": "{\n  \"name\": \"                                                ascending = False)\",\n  \"rows\": 10,\n  \"fields\": [\n    {\n      \"column\": \"manufacturer\",\n      \"properties\": {\n        \"dtype\": \"string\",\n        \"num_unique_values\": 10,\n        \"samples\": [\n          \"HP\",\n          \"TheGiftKart\",\n          \"Portronics\"\n        ],\n        \"semantic_type\": \"\",\n        \"description\": \"\"\n      }\n    },\n    {\n      \"column\": \"ratings\",\n      \"properties\": {\n        \"dtype\": \"number\",\n        \"std\": 0.15435458029043805,\n        \"min\": 3.883211678832117,\n        \"max\": 4.337864077669903,\n        \"num_unique_values\": 10,\n        \"samples\": [\n          4.016,\n          4.323985239852399,\n          4.0671875\n        ],\n        \"semantic_type\": \"\",\n        \"description\": \"\"\n      }\n    }\n  ]\n}"
            }
          },
          "metadata": {},
          "execution_count": 32
        }
      ]
    },
    {
      "cell_type": "code",
      "source": [
        "import plotly.figure_factory as ff\n",
        "x = frame[\"actual_price\"]\n",
        "hist_data = [x]\n",
        "group_labels = ['actual_price']\n",
        "\n",
        "fig = ff.create_distplot(hist_data, group_labels, show_rug = False,\n",
        "                        colors=[\"#ffd514\"])\n",
        "fig.update_layout(\n",
        "                 plot_bgcolor = \"#ECECEC\",\n",
        "                  title = \"<b>Price Distribution of Data</b>\"\n",
        "                 )\n",
        "\n",
        "fig.show()\n"
      ],
      "metadata": {
        "colab": {
          "base_uri": "https://localhost:8080/",
          "height": 542
        },
        "id": "srscLr8W5qb-",
        "outputId": "a50b4fbc-76b7-4d00-effa-0829957a442a"
      },
      "execution_count": 33,
      "outputs": [
        {
          "output_type": "display_data",
          "data": {
            "text/html": [
              "<html>\n",
              "<head><meta charset=\"utf-8\" /></head>\n",
              "<body>\n",
              "    <div>            <script src=\"https://cdnjs.cloudflare.com/ajax/libs/mathjax/2.7.5/MathJax.js?config=TeX-AMS-MML_SVG\"></script><script type=\"text/javascript\">if (window.MathJax && window.MathJax.Hub && window.MathJax.Hub.Config) {window.MathJax.Hub.Config({SVG: {font: \"STIX-Web\"}});}</script>                <script type=\"text/javascript\">window.PlotlyConfig = {MathJaxConfig: 'local'};</script>\n",
              "        <script charset=\"utf-8\" src=\"https://cdn.plot.ly/plotly-2.24.1.min.js\"></script>                <div id=\"e823ace5-a0d2-4479-a42c-5fb4a4b852be\" class=\"plotly-graph-div\" style=\"height:525px; width:100%;\"></div>            <script type=\"text/javascript\">                                    window.PLOTLYENV=window.PLOTLYENV || {};                                    if (document.getElementById(\"e823ace5-a0d2-4479-a42c-5fb4a4b852be\")) {                    Plotly.newPlot(                        \"e823ace5-a0d2-4479-a42c-5fb4a4b852be\",                        [{\"autobinx\":false,\"histnorm\":\"probability density\",\"legendgroup\":\"actual_price\",\"marker\":{\"color\":\"#ffd514\"},\"name\":\"actual_price\",\"opacity\":0.7,\"x\":[999.0,999.0,999.0,999.0,999.0,999.0,999.0,999.0,999.0,999.0,999.0,999.0,999.0,999.0,999.0,999.0,999.0,999.0,999.0,999.0,999.0,999.0,999.0,999.0,999.0,999.0,999.0,999.0,999.0,999.0,999.0,999.0,999.0,999.0,999.0,999.0,999.0,999.0,999.0,999.0,999.0,999.0,999.0,999.0,999.0,999.0,999.0,999.0,999.0,999.0,999.0,999.0,999.0,999.0,999.0,999.0,999.0,999.0,999.0,999.0,999.0,999.0,999.0,999.0,999.0,999.0,999.0,999.0,999.0,999.0,999.0,999.0,999.0,999.0,999.0,999.0,999.0,999.0,999.0,999.0,999.0,999.0,999.0,999.0,999.0,999.0,999.0,999.0,999.0,999.0,999.0,999.0,999.0,999.0,999.0,999.0,999.0,999.0,999.0,999.0,999.0,999.0,999.0,999.0,999.0,999.0,999.0,999.0,999.0,999.0,999.0,999.0,999.0,999.0,999.0,999.0,999.0,999.0,999.0,999.0,999.0,999.0,999.0,999.0,999.0,999.0,999.0,999.0,999.0,999.0,999.0,999.0,999.0,999.0,999.0,999.0,999.0,999.0,999.0,999.0,999.0,999.0,999.0,999.0,999.0,999.0,999.0,999.0,999.0,999.0,999.0,999.0,999.0,999.0,999.0,999.0,999.0,999.0,999.0,999.0,999.0,999.0,999.0,999.0,999.0,999.0,999.0,999.0,999.0,999.0,999.0,999.0,999.0,999.0,999.0,999.0,999.0,999.0,999.0,999.0,999.0,999.0,999.0,999.0,999.0,999.0,999.0,999.0,999.0,999.0,999.0,999.0,999.0,999.0,999.0,999.0,999.0,999.0,999.0,999.0,999.0,999.0,999.0,999.0,999.0,999.0,999.0,999.0,999.0,999.0,999.0,999.0,999.0,999.0,999.0,999.0,999.0,999.0,999.0,999.0,999.0,999.0,999.0,999.0,999.0,999.0,999.0,999.0,999.0,999.0,999.0,999.0,999.0,999.0,999.0,999.0,999.0,999.0,999.0,999.0,999.0,999.0,999.0,999.0,999.0,999.0,999.0,999.0,999.0,999.0,999.0,999.0,999.0,999.0,999.0,999.0,999.0,999.0,999.0,999.0,999.0,999.0,999.0,999.0,999.0,999.0,999.0,999.0,999.0,999.0,999.0,3995.0,4490.0,4490.0,999.0,3990.0,7990.0,2990.0,3990.0,3990.0,2990.0,4490.0,999.0,3990.0,7990.0,499.0,6990.0,2490.0,999.0,7990.0,2990.0,3990.0,999.0,1490.0,499.0,799.0,1290.0,2990.0,2490.0,999.0,2490.0,2990.0,999.0,2990.0,8990.0,7990.0,3990.0,3499.0,1290.0,7999.0,999.0,6990.0,7990.0,3490.0,999.0,4999.0,7990.0,7990.0,999.0,3990.0,3990.0,3499.0,999.0,1290.0,2990.0,4999.0,6990.0,3990.0,7990.0,5990.0,4999.0,1299.0,3990.0,4990.0,3990.0,6990.0,3990.0,3499.0,7990.0,999.0,2990.0,5999.0,19990.0,2490.0,799.0,699.0,999.0,3990.0,999.0,7999.0,1490.0,3990.0,3990.0,6990.0,4990.0,2990.0,1990.0,2490.0,1490.0,9799.0,1990.0,999.0,4990.0,6499.0,999.0,21990.0,699.0,599.0,2990.0,1490.0,6990.0,3999.0,999.0,999.0,2990.0,6990.0,1490.0,1990.0,999.0,999.0,3990.0,2990.0,7990.0,3990.0,2990.0,4990.0,5990.0,5990.0,799.0,2499.0,1490.0,999.0,5990.0,999.0,6990.0,3490.0,5900.0,2490.0,2990.0,2990.0,2990.0,2990.0,3990.0,9999.0,4990.0,7999.0,899.0,4990.0,1290.0,3490.0,4999.0,1990.0,6990.0,1749.0,6990.0,6990.0,7990.0,4990.0,999.0,4999.0,2990.0,2990.0,4990.0,999.0,3990.0,4999.0,2490.0,2990.0,7990.0,5990.0,6990.0,4999.0,6990.0,6990.0,3990.0,9799.0,7999.0,1990.0,4999.0,2990.0,2990.0,8900.0,14999.0,1290.0,2499.0,3990.0,5990.0,1299.0,8990.0,4990.0,4990.0,5490.0,2990.0,8990.0,2990.0,7990.0,3990.0,3990.0,999.0,1299.0,699.0,19990.0,1490.0,3990.0,3990.0,6990.0,7990.0,9990.0,1499.0,1499.0,6990.0,5990.0,3990.0,4990.0,3990.0,6499.0,10980.0,6990.0,9990.0,3990.0,6990.0,999.0,999.0,39990.0,3490.0,7990.0,999.0,599.0,999.0,6990.0,999.0,2990.0,999.0,8990.0,3990.0,4990.0,7990.0,6990.0,6990.0,999.0,1990.0,2490.0,6690.0,799.0,3990.0,1290.0,2490.0,5990.0,14990.0,999.0,999.0,1299.0,995.0,700.0,750.0,1099.0,499.0,695.0,999.0,500.0,750.0,1099.0,499.0,475.0,1999.0,1200.0,1999.0,2999.0,1125.0,2500.0,1000.0,845.0,2999.0,299.0,1099.0,1999.0,845.0,399.0,395.0,795.0,1999.0,2999.0,1700.0,3699.0,699.0,899.0,299.0,599.0,3500.0,499.0,600.0,299.0,600.0,1999.0,2799.0,999.0,299.0,499.0,699.0,1400.0,1490.0,6100.0,2999.0,1999.0,749.0,485.0,299.0,499.0,2100.0,916.0,445.0,1999.0,1999.0,2999.0,499.0,1300.0,499.0,999.0,299.0,1999.0,3699.0,1400.0,845.0,999.0,6099.0,499.0,1999.0,700.0,3999.0,1299.0,2999.0,1999.0,599.0,399.0,1000.0,499.0,2599.0,3000.0,499.0,1295.0,900.0,499.0,1999.0,2999.0,299.0,595.0,499.0,299.0,1000.0,299.0,599.0,499.0,795.0,1999.0,1499.0,2399.0,299.0,499.0,399.0,299.0,3000.0,899.0,299.0,699.0,600.0,999.0,4399.0,299.0,399.0,499.0,499.0,299.0,999.0,699.0,1399.0,1999.0,499.0,499.0,2999.0,299.0,499.0,299.0,119.0,299.0,499.0,499.0,499.0,399.0,299.0,499.0,299.0,1899.0,499.0,499.0,299.0,499.0,599.0,2199.0,499.0,499.0,299.0,299.0,999.0,499.0,399.0,399.0,499.0,1200.0,499.0,499.0,299.0,445.0,499.0,3999.0,299.0,3600.0,499.0,499.0,499.0,399.0,299.0,399.0,499.0,499.0,999.0,299.0,1800.0,499.0,499.0,499.0,795.0,4799.0,399.0,299.0,499.0,1499.0,499.0,299.0,299.0,399.0,449.0,1300.0,499.0,1200.0,299.0,299.0,299.0,800.0,499.0,299.0,499.0,3400.0,499.0,399.0,299.0,13500.0,999.0,499.0,499.0,1519.0,299.0,349.0,1150.0,800.0,2999.0,2499.0,499.0,1000.0,499.0,499.0,399.0,399.0,219.0,499.0,399.0,499.0,2699.0,1400.0,899.0,899.0,3999.0,2899.0,2899.0,2899.0,2599.0,2899.0,2599.0,1599.0,2499.0,2699.0,1099.0,1699.0,1599.0,2599.0,2499.0,2499.0,1999.0,2799.0,2099.0,2699.0,2599.0,2099.0,1499.0,1399.0,2599.0,2099.0,1699.0,2599.0,1899.0,1399.0,2899.0,1599.0,2699.0,2899.0,1499.0,2899.0,1599.0,1599.0,2899.0,1999.0,4499.0,3399.0,2099.0,2499.0,2899.0,2699.0,2299.0,2599.0,3399.0,2899.0,1699.0,1899.0,2899.0,4499.0,2099.0,3699.0,3399.0,399.0,1699.0,3099.0,3699.0,1699.0,2499.0,4499.0,2899.0,2899.0,2599.0,1699.0,1699.0,3899.0,1599.0,3699.0,1699.0,4499.0,1499.0,1999.0,1399.0,2099.0,1399.0,2899.0,2599.0,1699.0,2199.0,799.0,2699.0,1399.0,2099.0,1499.0,2499.0,2099.0,2899.0,1899.0,2899.0,2899.0,2699.0,2699.0,2599.0,1899.0,2899.0,2299.0,1699.0,399.0,3999.0,2899.0,2499.0,2599.0,1299.0,1699.0,1799.0,1699.0,3399.0,2599.0,1699.0,2899.0,2199.0,2599.0,1699.0,1899.0,2299.0,2499.0,2099.0,2899.0,2899.0,3699.0,3999.0,1499.0,1699.0,2599.0,1899.0,2599.0,1499.0,2499.0,2599.0,1699.0,2999.0,1599.0,1599.0,2199.0,2099.0,2199.0,799.0,4199.0,2599.0,1899.0,2899.0,1699.0,2099.0,1499.0,2199.0,2299.0,1499.0,2599.0,3399.0,2799.0,1699.0,2099.0,1699.0,4499.0,1899.0,2599.0,399.0,1599.0,2899.0,1399.0,1899.0,1899.0,1699.0,2299.0,3699.0,2499.0,1899.0,1499.0,1599.0,2699.0,1499.0,4499.0,2899.0,2899.0,1599.0,1699.0,2499.0,2099.0,2099.0,1699.0,3999.0,2899.0,2499.0,2099.0,2699.0,1699.0,2499.0,2299.0,1599.0,2899.0,3899.0,2499.0,2599.0,2799.0,1599.0,2599.0,2899.0,1699.0,2699.0,24999.0,24999.0,1699.0,11999.0,2699.0,11999.0,25999.0,1699.0,1899.0,22900.0,17999.0,25999.0,17999.0,15990.0,14999.0,14999.0,74999.0,499.0,13499.0,32999.0,21000.0,13499.0,47900.0,52900.0,25999.0,34999.0,16999.0,32999.0,21599.0,4999.0,74999.0,17999.0,19110.0,34990.0,26900.0,2499.0,16990.0,74999.0,41900.0,74999.0,14999.0,2999.0,34999.0,20999.0,1099.0,16999.0,32999.0,149999.0,25490.0,2999.0,2499.0,19999.0,10500.0,70900.0,42999.0,13990.0,19499.0,95999.0,22999.0,47990.0,34999.0,1199.0,69900.0,19499.0,22999.0,20999.0,23999.0,16999.0,28799.0,16510.0,23999.0,30999.0,18499.0,17500.0,36000.0,21599.0,28990.0,19999.0,23999.0,20999.0,33500.0,1999.0,95999.0,16999.0,30900.0,2999.0,23999.0,1599.0,28799.0,149999.0,85999.0,22999.0,12999.0,10449.0,95999.0,18499.0,33990.0,24900.0,1199.0,15499.0,85999.0,80900.0,30999.0,17500.0,66999.0,18499.0,5199.0,49900.0,18699.0,85999.0,23990.0,161999.0,39990.0,30990.0,5999.0,16199.0,28990.0,10149.0,18699.0,34999.0,33999.0,5999.0,22999.0,12999.0,12999.0,12999.0,8999.0,33500.0,95999.0,3299.0,149999.0,30990.0,39999.0,2999.0,14500.0,28499.0,49999.0,26399.0,23999.0,33999.0,39990.0,399.0,399.0,399.0,2299.0,2499.0,449.0,1499.0,299.0,2499.0,1399.0,1399.0,2499.0,399.0,499.0,1499.0,1199.0,799.0,699.0,1399.0,1399.0,399.0,1399.0,499.0,499.0,1399.0,1999.0,2499.0,1190.0,11999.0,3299.0,1999.0,9499.0,899.0,4499.0,499.0,1399.0,4199.0,1199.0,4299.0,499.0,499.0,1499.0,1190.0,2999.0,29999.0,24999.0,799.0,1499.0,48999.0,2699.0,1399.0,1499.0,2499.0,4999.0,999.0,499.0,6999.0,1749.0,1899.0,1999.0,2499.0,5499.0,699.0,799.0,59999.0,999.0,399.0,7999.0,449.0,4299.0,2499.0,799.0,4299.0,2499.0,1799.0,699.0,21999.0,2499.0,2999.0,42999.0,899.0,2499.0,3299.0,1920.0,7999.0,749.0,459.0,5999.0,1299.0,1699.0,44999.0,4999.0,2499.0,799.0,999.0,6199.0,21999.0,899.0,1899.0,799.0,19999.0,4199.0,449.0,33999.0,7999.0,7999.0,8999.0,4890.0,3499.0,3999.0,4899.0,449.0,449.0,2999.0,449.0,2499.0,2499.0,2499.0,459.0,499.0,7999.0,4199.0,1899.0,999.0,49999.0,4999.0,1899.0,1899.0,1999.0,1299.0,10999.0,1999.0,2499.0,4899.0,449.0,15999.0,3999.0,599.0,399.0,699.0,339.0,799.0,1499.0,1999.0,899.0,1499.0,699.0,1499.0,999.0,1499.0,999.0,799.0,899.0,1499.0,2999.0,1499.0,399.0,699.0,1999.0,599.0,1299.0,1499.0,833.0,2499.0,699.0,299.0,299.0,349.0,249.0,1299.0,1699.0,999.0,999.0,1499.0,599.0,2999.0,1999.0,1299.0,1999.0,2499.0,9999.0,499.0,1499.0,499.0,1999.0,599.0,1499.0,3499.0,399.0,3499.0,799.0,349.0,2499.0,799.0,1999.0,1999.0,2699.0,2499.0,1499.0,899.0,4999.0,1299.0,2999.0,499.0,2499.0,2999.0,499.0,1999.0,1299.0,3499.0,1999.0,599.0,459.0,3999.0,399.0,2999.0,799.0,799.0,1999.0,1499.0,2999.0,599.0,899.0,799.0,499.0,1499.0,1299.0,3999.0,1999.0,899.0,399.0,1999.0,999.0,289.0,699.0,699.0,699.0,2499.0,2999.0,499.0,599.0,1499.0,1999.0,459.0,899.0,2999.0,1499.0,599.0,699.0,1999.0,2499.0,1999.0,1499.0,499.0,3999.0,599.0,399.0,3999.0,699.0,1999.0,1499.0,6999.0,699.0,3999.0,2999.0,649.0,1500.0,1999.0,899.0,999.0,886.0,850.0,2199.0,1200.0,750.0,715.0,1600.0,500.0,2500.0,1696.0,893.0,3499.0,838.0,4971.0,399.0,1399.0,842.0,2000.0,1547.0,47206.0,1293.0,2999.0,700.0,1300.0,960.0,2900.0,3112.0,6000.0,1799.0,2197.0,3000.0,1200.0,7005.0,71343.0,937.0,39288.0,4999.0,700.0,36965.0,67832.0,1547.0,2046.0,51812.0,11250.0,1799.0,18848.0,900.0,657.0,2000.0,14367.0,60598.07,15373.0,59109.0,50585.0,475.0,2500.0,700.0,1422.0,7818.0,21328.88,2999.0,72331.0,44253.0,78294.0,2300.0,17829.0,4400.0,1999.0,1800.0,50597.0,15547.0,5700.0,1499.0,1600.0,475.0,47142.0,20263.0,1998.0,6458.0,1500.0,54552.0,13974.0,13199.0,75059.0,18755.0,3997.0,2000.0,43362.0,1400.0,2200.0,649.0,2000.0,7818.0,4000.0,12883.0,1700.0,25301.0,92404.0,45743.0,1999.0,51470.0,57042.0,1350.0,6979.0,500.0,43628.0,15980.0,535.0,1399.0,1300.0,57970.0,21688.0,63326.0,14552.0,14551.0,3000.0,15708.0,36359.0,3499.0,750.0,295.0,615.0,445.0,599.0,900.0,695.0,999.0,999.0,525.0,1800.0,2800.0,2199.0,4900.0,1815.0,999.0,1199.0,500.0,550.0,1099.0,6000.0,1999.0,1000.0,1400.0,595.0,445.0,3100.0,300.0,999.0,700.0,2199.0,900.0,1000.0,1100.0,1900.0,595.0,445.0,1499.0,800.0,500.0,599.0,1995.0,700.0,700.0,1200.0,795.0,1099.0,1999.0,5990.0,799.0,1499.0,2499.0,1600.0,600.0,1099.0,1099.0,889.0,599.0,500.0,2100.0,1200.0,1700.0,599.0,2499.0,700.0,1000.0,5000.0,2500.0,3000.0,1999.0,1100.0,900.0,1099.0,1800.0,800.0,1199.0,1900.0,600.0,1600.0,599.0,1099.0,795.0,1999.0,895.0,6000.0,1099.0,2995.0,1099.0,1300.0,1000.0,999.0,995.0,783.0,1099.0,2499.0,1099.0,999.0,1495.0,1349.0,26999.0,6999.0,845.0,1900.0,1495.0,2499.0,1999.0,632.0,599.0,1999.0,499.0,1999.0,1399.0,500.0,699.0,1300.0,1999.0,1295.0,650.0,1000.0,1100.0,1800.0,700.0,2800.0,2500.0,1350.0,1600.0,1400.0,1300.0,450.0,3500.0,3000.0,2200.0,750.0,2900.0,2650.0,1800.0,1600.0,1500.0,32000.0,2600.0,5600.0,800.0,2950.0,800.0,1650.0,1900.0,3700.0,20500.0,1600.0,5300.0,2600.0,1250.0,1600.0,850.0,1050.0,3900.0,950.0,1050.0,700.0,5700.0,2800.0,55000.0,1800.0,7100.0,7500.0,2650.0,650.0,1800.0,775.0,850.0,1100.0,950.0,1000.0,7200.0,5000.0,5000.0,1700.0,1300.0,5300.0,650.0,1800.0,5600.0,5250.0,5600.0,550.0,2400.0,2600.0,900.0,5200.0,1700.0,12000.0,700.0,1000.0,500.0,5200.0,950.0,1100.0,4500.0,1200.0,1200.0,19500.0,2100.0,1050.0,11500.0,2500.0,3200.0,1600.0,1200.0,3400.0,1700.0,12000.0,15000.0,80000.0,7400.0,15000.0,1300.0,9500.0,6750.0,1600.0,2899.0],\"xaxis\":\"x\",\"xbins\":{\"end\":161999.0,\"size\":1.0,\"start\":119.0},\"yaxis\":\"y\",\"type\":\"histogram\"},{\"legendgroup\":\"actual_price\",\"marker\":{\"color\":\"#ffd514\"},\"mode\":\"lines\",\"name\":\"actual_price\",\"showlegend\":false,\"x\":[119.0,442.76,766.52,1090.28,1414.04,1737.8,2061.56,2385.32,2709.08,3032.84,3356.6,3680.36,4004.12,4327.88,4651.64,4975.4,5299.16,5622.92,5946.68,6270.44,6594.2,6917.96,7241.72,7565.48,7889.24,8213.0,8536.76,8860.52,9184.28,9508.04,9831.8,10155.56,10479.32,10803.08,11126.84,11450.6,11774.36,12098.12,12421.88,12745.64,13069.4,13393.16,13716.92,14040.68,14364.44,14688.2,15011.96,15335.72,15659.48,15983.24,16307.0,16630.76,16954.52,17278.28,17602.04,17925.8,18249.56,18573.32,18897.08,19220.84,19544.6,19868.36,20192.12,20515.88,20839.64,21163.4,21487.16,21810.92,22134.68,22458.44,22782.2,23105.96,23429.72,23753.48,24077.24,24401.0,24724.76,25048.52,25372.28,25696.04,26019.8,26343.56,26667.32,26991.08,27314.84,27638.6,27962.36,28286.12,28609.88,28933.64,29257.4,29581.16,29904.92,30228.68,30552.44,30876.2,31199.96,31523.72,31847.48,32171.24,32495.0,32818.759999999995,33142.52,33466.28,33790.04,34113.8,34437.56,34761.32,35085.08,35408.84,35732.6,36056.36,36380.12,36703.88,37027.64,37351.4,37675.16,37998.92,38322.68,38646.44,38970.2,39293.96,39617.72,39941.48,40265.24,40589.0,40912.76,41236.52,41560.28,41884.04,42207.8,42531.56,42855.32,43179.08,43502.84,43826.6,44150.36,44474.12,44797.88,45121.64,45445.4,45769.16,46092.92,46416.68,46740.44,47064.2,47387.96,47711.72,48035.48,48359.24,48683.0,49006.76,49330.52,49654.28,49978.04,50301.8,50625.56,50949.32,51273.08,51596.84,51920.6,52244.36,52568.12,52891.88,53215.64,53539.4,53863.16,54186.92,54510.68,54834.44,55158.2,55481.96,55805.72,56129.48,56453.24,56777.0,57100.76,57424.52,57748.28,58072.04,58395.8,58719.56,59043.32,59367.08,59690.84,60014.6,60338.36,60662.12,60985.88,61309.64,61633.4,61957.16,62280.92,62604.68,62928.44,63252.2,63575.96,63899.72,64223.48,64547.24,64871.0,65194.76,65518.52,65842.28,66166.04,66489.8,66813.56,67137.32,67461.08,67784.84,68108.6,68432.36,68756.12,69079.88,69403.64,69727.4,70051.16,70374.92,70698.68,71022.44,71346.2,71669.96,71993.72,72317.48,72641.24,72965.0,73288.76,73612.52,73936.28,74260.04,74583.8,74907.56,75231.32,75555.08,75878.84,76202.6,76526.36,76850.12,77173.88,77497.64,77821.4,78145.16,78468.92,78792.68,79116.44,79440.2,79763.96,80087.72,80411.48,80735.24,81059.0,81382.76,81706.52,82030.28,82354.04,82677.8,83001.56,83325.32,83649.08,83972.84,84296.6,84620.36,84944.12,85267.88,85591.64,85915.4,86239.16,86562.92,86886.68,87210.44,87534.2,87857.96,88181.72,88505.48,88829.24,89153.0,89476.76,89800.52,90124.28,90448.04,90771.8,91095.56,91419.32,91743.08,92066.84,92390.6,92714.36,93038.12,93361.88,93685.64,94009.4,94333.16,94656.92,94980.68,95304.44,95628.2,95951.96,96275.72,96599.48,96923.24,97247.0,97570.76,97894.52,98218.28,98542.04,98865.8,99189.56,99513.32,99837.08,100160.84,100484.6,100808.36,101132.12,101455.88,101779.64,102103.4,102427.16,102750.92,103074.68,103398.44,103722.2,104045.96,104369.72,104693.48,105017.24,105341.0,105664.76,105988.52,106312.28,106636.04,106959.8,107283.56,107607.32,107931.08,108254.84,108578.6,108902.36,109226.12,109549.88,109873.64,110197.4,110521.16,110844.92,111168.68,111492.44,111816.2,112139.96,112463.72,112787.48,113111.24,113435.0,113758.76,114082.52,114406.28,114730.04,115053.8,115377.56,115701.32,116025.08,116348.84,116672.6,116996.36,117320.12,117643.88,117967.64,118291.4,118615.16,118938.92,119262.68,119586.44,119910.2,120233.96,120557.72,120881.48,121205.24,121529.0,121852.76,122176.52,122500.28,122824.04,123147.8,123471.56,123795.32,124119.08,124442.84,124766.6,125090.36,125414.12,125737.88,126061.64,126385.4,126709.16,127032.92,127356.68,127680.44,128004.2,128327.96,128651.72,128975.48,129299.24,129623.0,129946.76,130270.52,130594.28,130918.04,131241.8,131565.56,131889.32,132213.08,132536.84,132860.6,133184.36,133508.12,133831.88,134155.64,134479.4,134803.16,135126.92,135450.68,135774.44,136098.2,136421.96,136745.72,137069.48,137393.24,137717.0,138040.76,138364.52,138688.28,139012.04,139335.8,139659.56,139983.32,140307.08,140630.84,140954.6,141278.36,141602.12,141925.88,142249.64,142573.4,142897.16,143220.92,143544.68,143868.44,144192.2,144515.96,144839.72,145163.48,145487.24,145811.0,146134.76,146458.52,146782.28,147106.04,147429.8,147753.56,148077.32,148401.08,148724.84,149048.6,149372.36,149696.12,150019.88,150343.64,150667.4,150991.16,151314.92,151638.68,151962.44,152286.2,152609.96,152933.72,153257.48,153581.24,153905.0,154228.76,154552.52,154876.28,155200.04,155523.8,155847.56,156171.32,156495.08,156818.84,157142.6,157466.36,157790.12,158113.88,158437.64,158761.4,159085.16,159408.92,159732.68,160056.44,160380.2,160703.96,161027.72,161351.48,161675.24],\"xaxis\":\"x\",\"y\":[8.865148883856285e-05,9.209455798473074e-05,9.48201539179935e-05,9.676617809497142e-05,9.789129930998431e-05,9.817655690916576e-05,9.76259208624519e-05,9.626578602520043e-05,9.414344785834645e-05,9.132467197807931e-05,8.789052483579403e-05,8.393367334710611e-05,7.955438464591289e-05,7.485646229079992e-05,6.994334287101322e-05,6.491454926941097e-05,5.986265728063426e-05,5.487088507747984e-05,5.00113646912239e-05,4.534410557642964e-05,4.091661624668169e-05,3.676411379786633e-05,3.291022473280576e-05,2.9368064624048314e-05,2.6141578540077108e-05,2.322702770389811e-05,2.0614518822728797e-05,1.8289488833666854e-05,1.623407725586889e-05,1.4428338842636288e-05,1.2851268991201608e-05,1.148163199758574e-05,1.0298596794262053e-05,9.282195785357622e-06,8.413629708728846e-06,7.675445347450378e-06,7.051613864687495e-06,6.5275361691147696e-06,6.089998712485197e-06,5.727099138147555e-06,5.428156827225743e-06,5.1836191060716356e-06,4.984970035525709e-06,4.8246455215999405e-06,4.6959560723568265e-06,4.59301688180036e-06,4.5106839779872885e-06,4.4444948086008904e-06,4.390611705990409e-06,4.345767022881024e-06,4.307209218574991e-06,4.272649685499903e-06,4.240210549427192e-06,4.208373998086478e-06,4.175933867899792e-06,4.141950249657941e-06,4.105707784131581e-06,4.066678143867305e-06,4.024486979206899e-06,3.978885384862416e-06,3.929725751101831e-06,3.876941722855858e-06,3.820531910414076e-06,3.760546974144392e-06,3.697079729963705e-06,3.6302579724151937e-06,3.560239765776349e-06,3.4872109897732773e-06,3.4113849295664227e-06,3.33300366192985e-06,3.2523409123421877e-06,3.1697059512835015e-06,3.085447979818745e-06,2.999960346307579e-06,2.9136838604137723e-06,2.827108447266852e-06,2.7407724274089527e-06,2.655258822461856e-06,2.5711882683358014e-06,2.4892083543266572e-06,2.4099794773336613e-06,2.3341575807901287e-06,2.262374411550682e-06,2.1952161508631885e-06,2.133201438682044e-06,2.0767599021401897e-06,2.0262123152547228e-06,1.9817534619161477e-06,1.94343865822086e-06,1.9111747275823304e-06,1.8847160285058928e-06,1.8636659249791566e-06,1.8474838745397786e-06,1.8354980964932215e-06,1.82692357557283e-06,1.8208849545631794e-06,1.8164436717447453e-06,1.8126285050442462e-06,1.8084684970171678e-06,1.8030270601950285e-06,1.7954359127764434e-06,1.784927386265884e-06,1.7708635980289195e-06,1.7527610110551426e-06,1.7303090250865545e-06,1.7033814653852783e-06,1.6720401559639128e-06,1.6365301702321034e-06,1.5972668198016286e-06,1.5548149382322271e-06,1.5098615009770888e-06,1.463183053694332e-06,1.4156097590230831e-06,1.3679880847846994e-06,1.3211442235327513e-06,1.2758502475140336e-06,1.2327947723230247e-06,1.1925595486643983e-06,1.155602957824026e-06,1.1222508932054628e-06,1.092695010810226e-06,1.0669978668985959e-06,1.0451040659581052e-06,1.0268562416781808e-06,1.0120145017510999e-06,1.0002778864046679e-06,9.913064128350175e-07,9.847423875303396e-07,9.802298454171882e-07,9.77431196691496e-07,9.760404080758428e-07,9.757922971671136e-07,9.764677628457078e-07,9.77895002153925e-07,9.799469691154635e-07,9.825355107301688e-07,9.856027681052741e-07,9.8911055460663e-07,9.930285153996558e-07,9.973219300496913e-07,1.0019400374340281e-06,1.0068057356113441e-06,1.0118074352368969e-06,1.0167937227711975e-06,1.0215713217372229e-06,1.0259066333707559e-06,1.0295309031154343e-06,1.0321488111802753e-06,1.0334500410994036e-06,1.0331231583728752e-06,1.0308709496997785e-06,1.0264262475300485e-06,1.0195672061281832e-06,1.0101310102326892e-06,9.980250858228811e-07,9.8323503836708e-07,9.658287553798756e-07,9.459563606402914e-07,9.238459773594389e-07,8.99795525994161e-07,8.741610290197189e-07,8.473421020723281e-07,8.197654648027836e-07,7.918673970394748e-07,7.640760935565758e-07,7.36794836471657e-07,7.103868154104592e-07,6.851622930284971e-07,6.613686503834125e-07,6.391836667734357e-07,6.187122050306749e-07,5.99986297100827e-07,5.829684647699934e-07,5.675579725835212e-07,5.535995977190719e-07,5.408944160732118e-07,5.292120448439963e-07,5.183037483380547e-07,5.079158041899879e-07,4.978025402802489e-07,4.877384871397612e-07,4.775291453199135e-07,4.6701994061454454e-07,4.5610303008223477e-07,4.4472172557977106e-07,4.328724149744501e-07,4.206039793184248e-07,4.0801482120916343e-07,3.95247729105307e-07,3.824828984351417e-07,3.699295075441812e-07,3.5781630070328376e-07,3.4638165894622134e-07,3.3586364161268176e-07,3.2649045810925325e-07,3.1847178314244974e-07,3.11991263389172e-07,3.072004840057814e-07,3.042145747577776e-07,3.031095431660676e-07,3.039213309332433e-07,3.066465045319576e-07,3.1124441501343193e-07,3.1764059884998325e-07,3.257311431736957e-07,3.3538770654028005e-07,3.464628710335494e-07,3.5879550319200977e-07,3.7221581939801994e-07,3.865498850741338e-07,4.016233249291783e-07,4.172640818438765e-07,4.333041325941808e-07,4.495801467396824e-07,4.6593315721658723e-07,4.822073931981838e-07,4.982485024533037e-07,5.139014557693132e-07,5.29008473526794e-07,5.434073377764049e-07,5.569304465620545e-07,5.694049269260631e-07,5.806540479514856e-07,5.905000678705005e-07,5.987685163077704e-07,6.052937648034965e-07,6.099255899394168e-07,6.125362998305382e-07,6.130278928452379e-07,6.113386616393083e-07,6.074486562661509e-07,6.013834815934058e-07,5.932160236735207e-07,5.830658668067971e-07,5.710963609018837e-07,5.575095056956308e-07,5.425390106260983e-07,5.264420438343643e-07,5.094902822075401e-07,4.919609046861296e-07,4.7412812998800725e-07,4.562557934579031e-07,4.385913005518583e-07,4.2136110785009767e-07,4.047676916625178e-07,3.889877948842024e-07,3.7417161732293736e-07,3.6044254961047036e-07,3.4789705392321497e-07,3.3660436442340846e-07,3.266058055961341e-07,3.1791368865815943e-07,3.1050992080998306e-07,3.043446231193684e-07,2.993351755919873e-07,2.95366172664844e-07,2.9229076663196504e-07,2.8993379727079925e-07,2.880969597646072e-07,2.865660654018468e-07,2.8512022294050606e-07,2.835425395570137e-07,2.816317363514099e-07,2.7921391921175135e-07,2.761536605095186e-07,2.723635416563984e-07,2.6781138278911146e-07,2.625245362220393e-07,2.56590829063353e-07,2.501559856868942e-07,2.4341761748837784e-07,2.366161103129145e-07,2.3002294681348188e-07,2.239271548992527e-07,2.1862066456679406e-07,2.1438338172598328e-07,2.114687544012664e-07,2.100905250986651e-07,2.1041124818938462e-07,2.1253301921595315e-07,2.164907292790329e-07,2.22248034078731e-07,2.2969612108358308e-07,2.386552718227272e-07,2.48879146791079e-07,2.600616616997083e-07,2.7184626781415854e-07,2.8383738825732224e-07,2.956136911005661e-07,3.0674279740643234e-07,3.1679693141795207e-07,3.253689287777229e-07,3.32087938677942e-07,3.3663410085244375e-07,3.387514617569193e-07,3.382584269906281e-07,3.350551351415233e-07,3.291272817309963e-07,3.2054611389255036e-07,3.0946454344786124e-07,2.96109569583037e-07,2.8077144075797344e-07,2.6379019671642796e-07,2.4554039564913425e-07,2.2641493348921563e-07,2.0680889322257587e-07,1.87104320589085e-07,1.6765671460342537e-07,1.4878385932425912e-07,1.307574243643304e-07,1.1379754544729714e-07,9.807038280715086e-08,8.368846239329856e-08,7.071344701057007e-08,5.9160871183062684e-08,4.900630888613588e-08,4.0192426449709826e-08,3.2636398665167955e-08,2.623722599668885e-08,2.0882574513210965e-08,1.6454856903965024e-08,1.2836372558913993e-08,9.913418585861343e-09,7.579365329849031e-09,5.7367553518133934e-09,4.2985320996524384e-09,3.1885338450950786e-09,2.341401585314868e-09,1.7020492683581476e-09,1.2248341688343687e-09,8.725478711426299e-10,6.15327210647353e-10,4.2956229229219547e-10,2.9685736095530486e-10,2.0308121969388756e-10,1.3752787995971303e-10,9.219549113211211e-11,6.118226989756012e-11,4.0191811680043e-11,2.6136347249467964e-11,1.6824679982220545e-11,1.0721183273824657e-11,6.762885837147671e-12,4.222934267920421e-12,2.61029186356973e-12,1.5971874982511293e-12,9.67418666111328e-13,5.800486670019255e-13,3.442750331439978e-13,2.0227280435622844e-13,1.1764137899897764e-13,6.772876537987394e-14,3.8599037139441405e-14,2.1775587528087565e-14,1.2160550769000978e-14,6.722432233282841e-15,3.678657282601445e-15,1.992699587527533e-15,1.0685229286015008e-15,5.671726646581152e-16,2.980136073531097e-16,1.5500517187322958e-16,7.980783256235459e-17,4.067560525262141e-17,2.0521621113921888e-17,1.0248926952349244e-17,5.0668049328824806e-18,2.4795849545409962e-18,1.2011929979601505e-18,5.760173427923888e-19,2.734307086648415e-19,1.28483704163406e-19,5.976381657495289e-20,2.7518250975915276e-20,1.2543259252322403e-20,5.660930861412969e-21,2.5321677277885017e-21,1.1287521656436395e-21,5.160155726857939e-22,2.7546867016478573e-22,2.392994082013941e-22,3.8149976814634387e-22,8.004300326536777e-22,1.7819985030410995e-21,3.980839864532477e-21,8.825245153648144e-21,1.937623607228489e-20,4.2115106060875235e-20,9.061538489393803e-20,1.929994067131117e-19,4.0691057768166695e-19,8.492406385817627e-19,1.7544916494016832e-18,3.58806733891018e-18,7.263711820012337e-18,1.4556111284357654e-17,2.887492531091656e-17,5.670026813976492e-17,1.1021433807403076e-16,2.1207028573389437e-16,4.039338855653234e-16,7.616044863384891e-16,1.4214691574614075e-15,2.6262382907484856e-15,4.80307709959022e-15,8.695483349594324e-15,1.5583199779291988e-14,2.7644471388303003e-14,4.854546687005714e-14,8.438744058366754e-14,1.4520972037812685e-13,2.473445262641585e-13,4.170591554407377e-13,6.96116224131743e-13,1.1501502894013601e-12,1.881118571641476e-12,3.0455553021148895e-12,4.880963383757842e-12,7.743429526899181e-12,1.2160456864112227e-11,1.8904063772665294e-11,2.909036676171126e-11,4.43130824132065e-11,6.681953749059345e-11,9.973870170534813e-11,1.4737122619452747e-10,2.155511897080747e-10,3.120878722203136e-10,4.472929994505325e-10,6.345941304253865e-10,8.912278338704233e-10,1.238996766533541e-09,1.7050626669307364e-09,2.3227328327292054e-09,3.132181451855231e-09,4.18103024459668e-09,5.524696770095543e-09,7.2264054518762366e-09,9.356748268109042e-09,1.1992681737978886e-08,1.521585688376752e-08,1.911020145332734e-08,2.3758710277501958e-08,2.9239450466220234e-08,3.562085193006578e-08,4.295642736584869e-08,5.1279144393329614e-08,6.059574926100138e-08,7.088140840518729e-08,8.207508245071099e-08,9.407606854769129e-08,1.0674213414025378e-07,1.198896136760121e-07,1.3329574810974926e-07,1.4670341815674019e-07,1.5982826332833273e-07,1.7236800120882772e-07,1.8401357994400854e-07,1.9446162828602607e-07,2.0342752887497137e-07,2.10658347217415e-07,2.1594481300720137e-07,2.1913157884263662e-07,2.2012507460947787e-07,2.188984277756962e-07,2.1549311831091283e-07,2.1001726457838676e-07,2.0264067279578276e-07,1.9358700597683674e-07,1.8312361849112184e-07,1.7154974295330436e-07,1.5918379587579753e-07,1.4635058264367111e-07,1.3336913291375658e-07,1.2054179278554032e-07,1.0814505339373658e-07,9.642242363255117e-08,8.557947558253961e-08,7.578102222956034e-08,6.715024310532289e-08,5.976946552229451e-08,5.368224337669502e-08,4.8896353326902996e-08,4.53873461301723e-08,4.3102341772442714e-08,4.196383074730486e-08,4.187332900453067e-08,4.271481920226413e-08,4.435798563894387e-08,4.666130647643651e-08,4.947509935142662e-08,5.264462320976884e-08,5.6013321428261406e-08,5.942625314469096e-08,6.273370760131785e-08,6.5794938050888e-08,6.848189568619989e-08,7.068279795018779e-08,7.230533590348222e-08,7.327931642988605e-08],\"yaxis\":\"y\",\"type\":\"scatter\"}],                        {\"barmode\":\"overlay\",\"hovermode\":\"closest\",\"legend\":{\"traceorder\":\"reversed\"},\"xaxis\":{\"anchor\":\"y2\",\"domain\":[0.0,1.0],\"zeroline\":false},\"yaxis\":{\"anchor\":\"free\",\"domain\":[0.0,1],\"position\":0.0},\"template\":{\"data\":{\"histogram2dcontour\":[{\"type\":\"histogram2dcontour\",\"colorbar\":{\"outlinewidth\":0,\"ticks\":\"\"},\"colorscale\":[[0.0,\"#0d0887\"],[0.1111111111111111,\"#46039f\"],[0.2222222222222222,\"#7201a8\"],[0.3333333333333333,\"#9c179e\"],[0.4444444444444444,\"#bd3786\"],[0.5555555555555556,\"#d8576b\"],[0.6666666666666666,\"#ed7953\"],[0.7777777777777778,\"#fb9f3a\"],[0.8888888888888888,\"#fdca26\"],[1.0,\"#f0f921\"]]}],\"choropleth\":[{\"type\":\"choropleth\",\"colorbar\":{\"outlinewidth\":0,\"ticks\":\"\"}}],\"histogram2d\":[{\"type\":\"histogram2d\",\"colorbar\":{\"outlinewidth\":0,\"ticks\":\"\"},\"colorscale\":[[0.0,\"#0d0887\"],[0.1111111111111111,\"#46039f\"],[0.2222222222222222,\"#7201a8\"],[0.3333333333333333,\"#9c179e\"],[0.4444444444444444,\"#bd3786\"],[0.5555555555555556,\"#d8576b\"],[0.6666666666666666,\"#ed7953\"],[0.7777777777777778,\"#fb9f3a\"],[0.8888888888888888,\"#fdca26\"],[1.0,\"#f0f921\"]]}],\"heatmap\":[{\"type\":\"heatmap\",\"colorbar\":{\"outlinewidth\":0,\"ticks\":\"\"},\"colorscale\":[[0.0,\"#0d0887\"],[0.1111111111111111,\"#46039f\"],[0.2222222222222222,\"#7201a8\"],[0.3333333333333333,\"#9c179e\"],[0.4444444444444444,\"#bd3786\"],[0.5555555555555556,\"#d8576b\"],[0.6666666666666666,\"#ed7953\"],[0.7777777777777778,\"#fb9f3a\"],[0.8888888888888888,\"#fdca26\"],[1.0,\"#f0f921\"]]}],\"heatmapgl\":[{\"type\":\"heatmapgl\",\"colorbar\":{\"outlinewidth\":0,\"ticks\":\"\"},\"colorscale\":[[0.0,\"#0d0887\"],[0.1111111111111111,\"#46039f\"],[0.2222222222222222,\"#7201a8\"],[0.3333333333333333,\"#9c179e\"],[0.4444444444444444,\"#bd3786\"],[0.5555555555555556,\"#d8576b\"],[0.6666666666666666,\"#ed7953\"],[0.7777777777777778,\"#fb9f3a\"],[0.8888888888888888,\"#fdca26\"],[1.0,\"#f0f921\"]]}],\"contourcarpet\":[{\"type\":\"contourcarpet\",\"colorbar\":{\"outlinewidth\":0,\"ticks\":\"\"}}],\"contour\":[{\"type\":\"contour\",\"colorbar\":{\"outlinewidth\":0,\"ticks\":\"\"},\"colorscale\":[[0.0,\"#0d0887\"],[0.1111111111111111,\"#46039f\"],[0.2222222222222222,\"#7201a8\"],[0.3333333333333333,\"#9c179e\"],[0.4444444444444444,\"#bd3786\"],[0.5555555555555556,\"#d8576b\"],[0.6666666666666666,\"#ed7953\"],[0.7777777777777778,\"#fb9f3a\"],[0.8888888888888888,\"#fdca26\"],[1.0,\"#f0f921\"]]}],\"surface\":[{\"type\":\"surface\",\"colorbar\":{\"outlinewidth\":0,\"ticks\":\"\"},\"colorscale\":[[0.0,\"#0d0887\"],[0.1111111111111111,\"#46039f\"],[0.2222222222222222,\"#7201a8\"],[0.3333333333333333,\"#9c179e\"],[0.4444444444444444,\"#bd3786\"],[0.5555555555555556,\"#d8576b\"],[0.6666666666666666,\"#ed7953\"],[0.7777777777777778,\"#fb9f3a\"],[0.8888888888888888,\"#fdca26\"],[1.0,\"#f0f921\"]]}],\"mesh3d\":[{\"type\":\"mesh3d\",\"colorbar\":{\"outlinewidth\":0,\"ticks\":\"\"}}],\"scatter\":[{\"fillpattern\":{\"fillmode\":\"overlay\",\"size\":10,\"solidity\":0.2},\"type\":\"scatter\"}],\"parcoords\":[{\"type\":\"parcoords\",\"line\":{\"colorbar\":{\"outlinewidth\":0,\"ticks\":\"\"}}}],\"scatterpolargl\":[{\"type\":\"scatterpolargl\",\"marker\":{\"colorbar\":{\"outlinewidth\":0,\"ticks\":\"\"}}}],\"bar\":[{\"error_x\":{\"color\":\"#2a3f5f\"},\"error_y\":{\"color\":\"#2a3f5f\"},\"marker\":{\"line\":{\"color\":\"#E5ECF6\",\"width\":0.5},\"pattern\":{\"fillmode\":\"overlay\",\"size\":10,\"solidity\":0.2}},\"type\":\"bar\"}],\"scattergeo\":[{\"type\":\"scattergeo\",\"marker\":{\"colorbar\":{\"outlinewidth\":0,\"ticks\":\"\"}}}],\"scatterpolar\":[{\"type\":\"scatterpolar\",\"marker\":{\"colorbar\":{\"outlinewidth\":0,\"ticks\":\"\"}}}],\"histogram\":[{\"marker\":{\"pattern\":{\"fillmode\":\"overlay\",\"size\":10,\"solidity\":0.2}},\"type\":\"histogram\"}],\"scattergl\":[{\"type\":\"scattergl\",\"marker\":{\"colorbar\":{\"outlinewidth\":0,\"ticks\":\"\"}}}],\"scatter3d\":[{\"type\":\"scatter3d\",\"line\":{\"colorbar\":{\"outlinewidth\":0,\"ticks\":\"\"}},\"marker\":{\"colorbar\":{\"outlinewidth\":0,\"ticks\":\"\"}}}],\"scattermapbox\":[{\"type\":\"scattermapbox\",\"marker\":{\"colorbar\":{\"outlinewidth\":0,\"ticks\":\"\"}}}],\"scatterternary\":[{\"type\":\"scatterternary\",\"marker\":{\"colorbar\":{\"outlinewidth\":0,\"ticks\":\"\"}}}],\"scattercarpet\":[{\"type\":\"scattercarpet\",\"marker\":{\"colorbar\":{\"outlinewidth\":0,\"ticks\":\"\"}}}],\"carpet\":[{\"aaxis\":{\"endlinecolor\":\"#2a3f5f\",\"gridcolor\":\"white\",\"linecolor\":\"white\",\"minorgridcolor\":\"white\",\"startlinecolor\":\"#2a3f5f\"},\"baxis\":{\"endlinecolor\":\"#2a3f5f\",\"gridcolor\":\"white\",\"linecolor\":\"white\",\"minorgridcolor\":\"white\",\"startlinecolor\":\"#2a3f5f\"},\"type\":\"carpet\"}],\"table\":[{\"cells\":{\"fill\":{\"color\":\"#EBF0F8\"},\"line\":{\"color\":\"white\"}},\"header\":{\"fill\":{\"color\":\"#C8D4E3\"},\"line\":{\"color\":\"white\"}},\"type\":\"table\"}],\"barpolar\":[{\"marker\":{\"line\":{\"color\":\"#E5ECF6\",\"width\":0.5},\"pattern\":{\"fillmode\":\"overlay\",\"size\":10,\"solidity\":0.2}},\"type\":\"barpolar\"}],\"pie\":[{\"automargin\":true,\"type\":\"pie\"}]},\"layout\":{\"autotypenumbers\":\"strict\",\"colorway\":[\"#636efa\",\"#EF553B\",\"#00cc96\",\"#ab63fa\",\"#FFA15A\",\"#19d3f3\",\"#FF6692\",\"#B6E880\",\"#FF97FF\",\"#FECB52\"],\"font\":{\"color\":\"#2a3f5f\"},\"hovermode\":\"closest\",\"hoverlabel\":{\"align\":\"left\"},\"paper_bgcolor\":\"white\",\"plot_bgcolor\":\"#E5ECF6\",\"polar\":{\"bgcolor\":\"#E5ECF6\",\"angularaxis\":{\"gridcolor\":\"white\",\"linecolor\":\"white\",\"ticks\":\"\"},\"radialaxis\":{\"gridcolor\":\"white\",\"linecolor\":\"white\",\"ticks\":\"\"}},\"ternary\":{\"bgcolor\":\"#E5ECF6\",\"aaxis\":{\"gridcolor\":\"white\",\"linecolor\":\"white\",\"ticks\":\"\"},\"baxis\":{\"gridcolor\":\"white\",\"linecolor\":\"white\",\"ticks\":\"\"},\"caxis\":{\"gridcolor\":\"white\",\"linecolor\":\"white\",\"ticks\":\"\"}},\"coloraxis\":{\"colorbar\":{\"outlinewidth\":0,\"ticks\":\"\"}},\"colorscale\":{\"sequential\":[[0.0,\"#0d0887\"],[0.1111111111111111,\"#46039f\"],[0.2222222222222222,\"#7201a8\"],[0.3333333333333333,\"#9c179e\"],[0.4444444444444444,\"#bd3786\"],[0.5555555555555556,\"#d8576b\"],[0.6666666666666666,\"#ed7953\"],[0.7777777777777778,\"#fb9f3a\"],[0.8888888888888888,\"#fdca26\"],[1.0,\"#f0f921\"]],\"sequentialminus\":[[0.0,\"#0d0887\"],[0.1111111111111111,\"#46039f\"],[0.2222222222222222,\"#7201a8\"],[0.3333333333333333,\"#9c179e\"],[0.4444444444444444,\"#bd3786\"],[0.5555555555555556,\"#d8576b\"],[0.6666666666666666,\"#ed7953\"],[0.7777777777777778,\"#fb9f3a\"],[0.8888888888888888,\"#fdca26\"],[1.0,\"#f0f921\"]],\"diverging\":[[0,\"#8e0152\"],[0.1,\"#c51b7d\"],[0.2,\"#de77ae\"],[0.3,\"#f1b6da\"],[0.4,\"#fde0ef\"],[0.5,\"#f7f7f7\"],[0.6,\"#e6f5d0\"],[0.7,\"#b8e186\"],[0.8,\"#7fbc41\"],[0.9,\"#4d9221\"],[1,\"#276419\"]]},\"xaxis\":{\"gridcolor\":\"white\",\"linecolor\":\"white\",\"ticks\":\"\",\"title\":{\"standoff\":15},\"zerolinecolor\":\"white\",\"automargin\":true,\"zerolinewidth\":2},\"yaxis\":{\"gridcolor\":\"white\",\"linecolor\":\"white\",\"ticks\":\"\",\"title\":{\"standoff\":15},\"zerolinecolor\":\"white\",\"automargin\":true,\"zerolinewidth\":2},\"scene\":{\"xaxis\":{\"backgroundcolor\":\"#E5ECF6\",\"gridcolor\":\"white\",\"linecolor\":\"white\",\"showbackground\":true,\"ticks\":\"\",\"zerolinecolor\":\"white\",\"gridwidth\":2},\"yaxis\":{\"backgroundcolor\":\"#E5ECF6\",\"gridcolor\":\"white\",\"linecolor\":\"white\",\"showbackground\":true,\"ticks\":\"\",\"zerolinecolor\":\"white\",\"gridwidth\":2},\"zaxis\":{\"backgroundcolor\":\"#E5ECF6\",\"gridcolor\":\"white\",\"linecolor\":\"white\",\"showbackground\":true,\"ticks\":\"\",\"zerolinecolor\":\"white\",\"gridwidth\":2}},\"shapedefaults\":{\"line\":{\"color\":\"#2a3f5f\"}},\"annotationdefaults\":{\"arrowcolor\":\"#2a3f5f\",\"arrowhead\":0,\"arrowwidth\":1},\"geo\":{\"bgcolor\":\"white\",\"landcolor\":\"#E5ECF6\",\"subunitcolor\":\"white\",\"showland\":true,\"showlakes\":true,\"lakecolor\":\"white\"},\"title\":{\"x\":0.05},\"mapbox\":{\"style\":\"light\"}}},\"plot_bgcolor\":\"#ECECEC\",\"title\":{\"text\":\"\\u003cb\\u003ePrice Distribution of Data\\u003c\\u002fb\\u003e\"}},                        {\"responsive\": true}                    ).then(function(){\n",
              "                            \n",
              "var gd = document.getElementById('e823ace5-a0d2-4479-a42c-5fb4a4b852be');\n",
              "var x = new MutationObserver(function (mutations, observer) {{\n",
              "        var display = window.getComputedStyle(gd).display;\n",
              "        if (!display || display === 'none') {{\n",
              "            console.log([gd, 'removed!']);\n",
              "            Plotly.purge(gd);\n",
              "            observer.disconnect();\n",
              "        }}\n",
              "}});\n",
              "\n",
              "// Listen for the removal of the full notebook cells\n",
              "var notebookContainer = gd.closest('#notebook-container');\n",
              "if (notebookContainer) {{\n",
              "    x.observe(notebookContainer, {childList: true});\n",
              "}}\n",
              "\n",
              "// Listen for the clearing of the current output cell\n",
              "var outputEl = gd.closest('.output');\n",
              "if (outputEl) {{\n",
              "    x.observe(outputEl, {childList: true});\n",
              "}}\n",
              "\n",
              "                        })                };                            </script>        </div>\n",
              "</body>\n",
              "</html>"
            ]
          },
          "metadata": {}
        }
      ]
    },
    {
      "cell_type": "code",
      "source": [
        "# plot the quartiles and check for outliers\n",
        "fig = px.box(frame, \"actual_price\")\n",
        "fig.update_layout(\n",
        "                 plot_bgcolor = \"#ECECEC\",\n",
        "                  title = \"<b>Price Data Distribution</b>\",\n",
        "                 xaxis_title = \"Price of Products\"\n",
        "                 )\n",
        "fig.show()"
      ],
      "metadata": {
        "colab": {
          "base_uri": "https://localhost:8080/",
          "height": 542
        },
        "id": "3Hfyr3TX8-v3",
        "outputId": "3beca45f-e56b-4db8-b8cb-a736f21aca31"
      },
      "execution_count": 34,
      "outputs": [
        {
          "output_type": "display_data",
          "data": {
            "text/html": [
              "<html>\n",
              "<head><meta charset=\"utf-8\" /></head>\n",
              "<body>\n",
              "    <div>            <script src=\"https://cdnjs.cloudflare.com/ajax/libs/mathjax/2.7.5/MathJax.js?config=TeX-AMS-MML_SVG\"></script><script type=\"text/javascript\">if (window.MathJax && window.MathJax.Hub && window.MathJax.Hub.Config) {window.MathJax.Hub.Config({SVG: {font: \"STIX-Web\"}});}</script>                <script type=\"text/javascript\">window.PlotlyConfig = {MathJaxConfig: 'local'};</script>\n",
              "        <script charset=\"utf-8\" src=\"https://cdn.plot.ly/plotly-2.24.1.min.js\"></script>                <div id=\"0e9a1057-8c3d-4014-93d7-1c12d2673eff\" class=\"plotly-graph-div\" style=\"height:525px; width:100%;\"></div>            <script type=\"text/javascript\">                                    window.PLOTLYENV=window.PLOTLYENV || {};                                    if (document.getElementById(\"0e9a1057-8c3d-4014-93d7-1c12d2673eff\")) {                    Plotly.newPlot(                        \"0e9a1057-8c3d-4014-93d7-1c12d2673eff\",                        [{\"alignmentgroup\":\"True\",\"hovertemplate\":\"actual_price=%{x}\\u003cextra\\u003e\\u003c\\u002fextra\\u003e\",\"legendgroup\":\"\",\"marker\":{\"color\":\"#636efa\"},\"name\":\"\",\"notched\":false,\"offsetgroup\":\"\",\"orientation\":\"h\",\"showlegend\":false,\"x\":[999.0,999.0,999.0,999.0,999.0,999.0,999.0,999.0,999.0,999.0,999.0,999.0,999.0,999.0,999.0,999.0,999.0,999.0,999.0,999.0,999.0,999.0,999.0,999.0,999.0,999.0,999.0,999.0,999.0,999.0,999.0,999.0,999.0,999.0,999.0,999.0,999.0,999.0,999.0,999.0,999.0,999.0,999.0,999.0,999.0,999.0,999.0,999.0,999.0,999.0,999.0,999.0,999.0,999.0,999.0,999.0,999.0,999.0,999.0,999.0,999.0,999.0,999.0,999.0,999.0,999.0,999.0,999.0,999.0,999.0,999.0,999.0,999.0,999.0,999.0,999.0,999.0,999.0,999.0,999.0,999.0,999.0,999.0,999.0,999.0,999.0,999.0,999.0,999.0,999.0,999.0,999.0,999.0,999.0,999.0,999.0,999.0,999.0,999.0,999.0,999.0,999.0,999.0,999.0,999.0,999.0,999.0,999.0,999.0,999.0,999.0,999.0,999.0,999.0,999.0,999.0,999.0,999.0,999.0,999.0,999.0,999.0,999.0,999.0,999.0,999.0,999.0,999.0,999.0,999.0,999.0,999.0,999.0,999.0,999.0,999.0,999.0,999.0,999.0,999.0,999.0,999.0,999.0,999.0,999.0,999.0,999.0,999.0,999.0,999.0,999.0,999.0,999.0,999.0,999.0,999.0,999.0,999.0,999.0,999.0,999.0,999.0,999.0,999.0,999.0,999.0,999.0,999.0,999.0,999.0,999.0,999.0,999.0,999.0,999.0,999.0,999.0,999.0,999.0,999.0,999.0,999.0,999.0,999.0,999.0,999.0,999.0,999.0,999.0,999.0,999.0,999.0,999.0,999.0,999.0,999.0,999.0,999.0,999.0,999.0,999.0,999.0,999.0,999.0,999.0,999.0,999.0,999.0,999.0,999.0,999.0,999.0,999.0,999.0,999.0,999.0,999.0,999.0,999.0,999.0,999.0,999.0,999.0,999.0,999.0,999.0,999.0,999.0,999.0,999.0,999.0,999.0,999.0,999.0,999.0,999.0,999.0,999.0,999.0,999.0,999.0,999.0,999.0,999.0,999.0,999.0,999.0,999.0,999.0,999.0,999.0,999.0,999.0,999.0,999.0,999.0,999.0,999.0,999.0,999.0,999.0,999.0,999.0,999.0,999.0,999.0,999.0,999.0,999.0,999.0,999.0,3995.0,4490.0,4490.0,999.0,3990.0,7990.0,2990.0,3990.0,3990.0,2990.0,4490.0,999.0,3990.0,7990.0,499.0,6990.0,2490.0,999.0,7990.0,2990.0,3990.0,999.0,1490.0,499.0,799.0,1290.0,2990.0,2490.0,999.0,2490.0,2990.0,999.0,2990.0,8990.0,7990.0,3990.0,3499.0,1290.0,7999.0,999.0,6990.0,7990.0,3490.0,999.0,4999.0,7990.0,7990.0,999.0,3990.0,3990.0,3499.0,999.0,1290.0,2990.0,4999.0,6990.0,3990.0,7990.0,5990.0,4999.0,1299.0,3990.0,4990.0,3990.0,6990.0,3990.0,3499.0,7990.0,999.0,2990.0,5999.0,19990.0,2490.0,799.0,699.0,999.0,3990.0,999.0,7999.0,1490.0,3990.0,3990.0,6990.0,4990.0,2990.0,1990.0,2490.0,1490.0,9799.0,1990.0,999.0,4990.0,6499.0,999.0,21990.0,699.0,599.0,2990.0,1490.0,6990.0,3999.0,999.0,999.0,2990.0,6990.0,1490.0,1990.0,999.0,999.0,3990.0,2990.0,7990.0,3990.0,2990.0,4990.0,5990.0,5990.0,799.0,2499.0,1490.0,999.0,5990.0,999.0,6990.0,3490.0,5900.0,2490.0,2990.0,2990.0,2990.0,2990.0,3990.0,9999.0,4990.0,7999.0,899.0,4990.0,1290.0,3490.0,4999.0,1990.0,6990.0,1749.0,6990.0,6990.0,7990.0,4990.0,999.0,4999.0,2990.0,2990.0,4990.0,999.0,3990.0,4999.0,2490.0,2990.0,7990.0,5990.0,6990.0,4999.0,6990.0,6990.0,3990.0,9799.0,7999.0,1990.0,4999.0,2990.0,2990.0,8900.0,14999.0,1290.0,2499.0,3990.0,5990.0,1299.0,8990.0,4990.0,4990.0,5490.0,2990.0,8990.0,2990.0,7990.0,3990.0,3990.0,999.0,1299.0,699.0,19990.0,1490.0,3990.0,3990.0,6990.0,7990.0,9990.0,1499.0,1499.0,6990.0,5990.0,3990.0,4990.0,3990.0,6499.0,10980.0,6990.0,9990.0,3990.0,6990.0,999.0,999.0,39990.0,3490.0,7990.0,999.0,599.0,999.0,6990.0,999.0,2990.0,999.0,8990.0,3990.0,4990.0,7990.0,6990.0,6990.0,999.0,1990.0,2490.0,6690.0,799.0,3990.0,1290.0,2490.0,5990.0,14990.0,999.0,999.0,1299.0,995.0,700.0,750.0,1099.0,499.0,695.0,999.0,500.0,750.0,1099.0,499.0,475.0,1999.0,1200.0,1999.0,2999.0,1125.0,2500.0,1000.0,845.0,2999.0,299.0,1099.0,1999.0,845.0,399.0,395.0,795.0,1999.0,2999.0,1700.0,3699.0,699.0,899.0,299.0,599.0,3500.0,499.0,600.0,299.0,600.0,1999.0,2799.0,999.0,299.0,499.0,699.0,1400.0,1490.0,6100.0,2999.0,1999.0,749.0,485.0,299.0,499.0,2100.0,916.0,445.0,1999.0,1999.0,2999.0,499.0,1300.0,499.0,999.0,299.0,1999.0,3699.0,1400.0,845.0,999.0,6099.0,499.0,1999.0,700.0,3999.0,1299.0,2999.0,1999.0,599.0,399.0,1000.0,499.0,2599.0,3000.0,499.0,1295.0,900.0,499.0,1999.0,2999.0,299.0,595.0,499.0,299.0,1000.0,299.0,599.0,499.0,795.0,1999.0,1499.0,2399.0,299.0,499.0,399.0,299.0,3000.0,899.0,299.0,699.0,600.0,999.0,4399.0,299.0,399.0,499.0,499.0,299.0,999.0,699.0,1399.0,1999.0,499.0,499.0,2999.0,299.0,499.0,299.0,119.0,299.0,499.0,499.0,499.0,399.0,299.0,499.0,299.0,1899.0,499.0,499.0,299.0,499.0,599.0,2199.0,499.0,499.0,299.0,299.0,999.0,499.0,399.0,399.0,499.0,1200.0,499.0,499.0,299.0,445.0,499.0,3999.0,299.0,3600.0,499.0,499.0,499.0,399.0,299.0,399.0,499.0,499.0,999.0,299.0,1800.0,499.0,499.0,499.0,795.0,4799.0,399.0,299.0,499.0,1499.0,499.0,299.0,299.0,399.0,449.0,1300.0,499.0,1200.0,299.0,299.0,299.0,800.0,499.0,299.0,499.0,3400.0,499.0,399.0,299.0,13500.0,999.0,499.0,499.0,1519.0,299.0,349.0,1150.0,800.0,2999.0,2499.0,499.0,1000.0,499.0,499.0,399.0,399.0,219.0,499.0,399.0,499.0,2699.0,1400.0,899.0,899.0,3999.0,2899.0,2899.0,2899.0,2599.0,2899.0,2599.0,1599.0,2499.0,2699.0,1099.0,1699.0,1599.0,2599.0,2499.0,2499.0,1999.0,2799.0,2099.0,2699.0,2599.0,2099.0,1499.0,1399.0,2599.0,2099.0,1699.0,2599.0,1899.0,1399.0,2899.0,1599.0,2699.0,2899.0,1499.0,2899.0,1599.0,1599.0,2899.0,1999.0,4499.0,3399.0,2099.0,2499.0,2899.0,2699.0,2299.0,2599.0,3399.0,2899.0,1699.0,1899.0,2899.0,4499.0,2099.0,3699.0,3399.0,399.0,1699.0,3099.0,3699.0,1699.0,2499.0,4499.0,2899.0,2899.0,2599.0,1699.0,1699.0,3899.0,1599.0,3699.0,1699.0,4499.0,1499.0,1999.0,1399.0,2099.0,1399.0,2899.0,2599.0,1699.0,2199.0,799.0,2699.0,1399.0,2099.0,1499.0,2499.0,2099.0,2899.0,1899.0,2899.0,2899.0,2699.0,2699.0,2599.0,1899.0,2899.0,2299.0,1699.0,399.0,3999.0,2899.0,2499.0,2599.0,1299.0,1699.0,1799.0,1699.0,3399.0,2599.0,1699.0,2899.0,2199.0,2599.0,1699.0,1899.0,2299.0,2499.0,2099.0,2899.0,2899.0,3699.0,3999.0,1499.0,1699.0,2599.0,1899.0,2599.0,1499.0,2499.0,2599.0,1699.0,2999.0,1599.0,1599.0,2199.0,2099.0,2199.0,799.0,4199.0,2599.0,1899.0,2899.0,1699.0,2099.0,1499.0,2199.0,2299.0,1499.0,2599.0,3399.0,2799.0,1699.0,2099.0,1699.0,4499.0,1899.0,2599.0,399.0,1599.0,2899.0,1399.0,1899.0,1899.0,1699.0,2299.0,3699.0,2499.0,1899.0,1499.0,1599.0,2699.0,1499.0,4499.0,2899.0,2899.0,1599.0,1699.0,2499.0,2099.0,2099.0,1699.0,3999.0,2899.0,2499.0,2099.0,2699.0,1699.0,2499.0,2299.0,1599.0,2899.0,3899.0,2499.0,2599.0,2799.0,1599.0,2599.0,2899.0,1699.0,2699.0,24999.0,24999.0,1699.0,11999.0,2699.0,11999.0,25999.0,1699.0,1899.0,22900.0,17999.0,25999.0,17999.0,15990.0,14999.0,14999.0,74999.0,499.0,13499.0,32999.0,21000.0,13499.0,47900.0,52900.0,25999.0,34999.0,16999.0,32999.0,21599.0,4999.0,74999.0,17999.0,19110.0,34990.0,26900.0,2499.0,16990.0,74999.0,41900.0,74999.0,14999.0,2999.0,34999.0,20999.0,1099.0,16999.0,32999.0,149999.0,25490.0,2999.0,2499.0,19999.0,10500.0,70900.0,42999.0,13990.0,19499.0,95999.0,22999.0,47990.0,34999.0,1199.0,69900.0,19499.0,22999.0,20999.0,23999.0,16999.0,28799.0,16510.0,23999.0,30999.0,18499.0,17500.0,36000.0,21599.0,28990.0,19999.0,23999.0,20999.0,33500.0,1999.0,95999.0,16999.0,30900.0,2999.0,23999.0,1599.0,28799.0,149999.0,85999.0,22999.0,12999.0,10449.0,95999.0,18499.0,33990.0,24900.0,1199.0,15499.0,85999.0,80900.0,30999.0,17500.0,66999.0,18499.0,5199.0,49900.0,18699.0,85999.0,23990.0,161999.0,39990.0,30990.0,5999.0,16199.0,28990.0,10149.0,18699.0,34999.0,33999.0,5999.0,22999.0,12999.0,12999.0,12999.0,8999.0,33500.0,95999.0,3299.0,149999.0,30990.0,39999.0,2999.0,14500.0,28499.0,49999.0,26399.0,23999.0,33999.0,39990.0,399.0,399.0,399.0,2299.0,2499.0,449.0,1499.0,299.0,2499.0,1399.0,1399.0,2499.0,399.0,499.0,1499.0,1199.0,799.0,699.0,1399.0,1399.0,399.0,1399.0,499.0,499.0,1399.0,1999.0,2499.0,1190.0,11999.0,3299.0,1999.0,9499.0,899.0,4499.0,499.0,1399.0,4199.0,1199.0,4299.0,499.0,499.0,1499.0,1190.0,2999.0,29999.0,24999.0,799.0,1499.0,48999.0,2699.0,1399.0,1499.0,2499.0,4999.0,999.0,499.0,6999.0,1749.0,1899.0,1999.0,2499.0,5499.0,699.0,799.0,59999.0,999.0,399.0,7999.0,449.0,4299.0,2499.0,799.0,4299.0,2499.0,1799.0,699.0,21999.0,2499.0,2999.0,42999.0,899.0,2499.0,3299.0,1920.0,7999.0,749.0,459.0,5999.0,1299.0,1699.0,44999.0,4999.0,2499.0,799.0,999.0,6199.0,21999.0,899.0,1899.0,799.0,19999.0,4199.0,449.0,33999.0,7999.0,7999.0,8999.0,4890.0,3499.0,3999.0,4899.0,449.0,449.0,2999.0,449.0,2499.0,2499.0,2499.0,459.0,499.0,7999.0,4199.0,1899.0,999.0,49999.0,4999.0,1899.0,1899.0,1999.0,1299.0,10999.0,1999.0,2499.0,4899.0,449.0,15999.0,3999.0,599.0,399.0,699.0,339.0,799.0,1499.0,1999.0,899.0,1499.0,699.0,1499.0,999.0,1499.0,999.0,799.0,899.0,1499.0,2999.0,1499.0,399.0,699.0,1999.0,599.0,1299.0,1499.0,833.0,2499.0,699.0,299.0,299.0,349.0,249.0,1299.0,1699.0,999.0,999.0,1499.0,599.0,2999.0,1999.0,1299.0,1999.0,2499.0,9999.0,499.0,1499.0,499.0,1999.0,599.0,1499.0,3499.0,399.0,3499.0,799.0,349.0,2499.0,799.0,1999.0,1999.0,2699.0,2499.0,1499.0,899.0,4999.0,1299.0,2999.0,499.0,2499.0,2999.0,499.0,1999.0,1299.0,3499.0,1999.0,599.0,459.0,3999.0,399.0,2999.0,799.0,799.0,1999.0,1499.0,2999.0,599.0,899.0,799.0,499.0,1499.0,1299.0,3999.0,1999.0,899.0,399.0,1999.0,999.0,289.0,699.0,699.0,699.0,2499.0,2999.0,499.0,599.0,1499.0,1999.0,459.0,899.0,2999.0,1499.0,599.0,699.0,1999.0,2499.0,1999.0,1499.0,499.0,3999.0,599.0,399.0,3999.0,699.0,1999.0,1499.0,6999.0,699.0,3999.0,2999.0,649.0,1500.0,1999.0,899.0,999.0,886.0,850.0,2199.0,1200.0,750.0,715.0,1600.0,500.0,2500.0,1696.0,893.0,3499.0,838.0,4971.0,399.0,1399.0,842.0,2000.0,1547.0,47206.0,1293.0,2999.0,700.0,1300.0,960.0,2900.0,3112.0,6000.0,1799.0,2197.0,3000.0,1200.0,7005.0,71343.0,937.0,39288.0,4999.0,700.0,36965.0,67832.0,1547.0,2046.0,51812.0,11250.0,1799.0,18848.0,900.0,657.0,2000.0,14367.0,60598.07,15373.0,59109.0,50585.0,475.0,2500.0,700.0,1422.0,7818.0,21328.88,2999.0,72331.0,44253.0,78294.0,2300.0,17829.0,4400.0,1999.0,1800.0,50597.0,15547.0,5700.0,1499.0,1600.0,475.0,47142.0,20263.0,1998.0,6458.0,1500.0,54552.0,13974.0,13199.0,75059.0,18755.0,3997.0,2000.0,43362.0,1400.0,2200.0,649.0,2000.0,7818.0,4000.0,12883.0,1700.0,25301.0,92404.0,45743.0,1999.0,51470.0,57042.0,1350.0,6979.0,500.0,43628.0,15980.0,535.0,1399.0,1300.0,57970.0,21688.0,63326.0,14552.0,14551.0,3000.0,15708.0,36359.0,3499.0,750.0,295.0,615.0,445.0,599.0,900.0,695.0,999.0,999.0,525.0,1800.0,2800.0,2199.0,4900.0,1815.0,999.0,1199.0,500.0,550.0,1099.0,6000.0,1999.0,1000.0,1400.0,595.0,445.0,3100.0,300.0,999.0,700.0,2199.0,900.0,1000.0,1100.0,1900.0,595.0,445.0,1499.0,800.0,500.0,599.0,1995.0,700.0,700.0,1200.0,795.0,1099.0,1999.0,5990.0,799.0,1499.0,2499.0,1600.0,600.0,1099.0,1099.0,889.0,599.0,500.0,2100.0,1200.0,1700.0,599.0,2499.0,700.0,1000.0,5000.0,2500.0,3000.0,1999.0,1100.0,900.0,1099.0,1800.0,800.0,1199.0,1900.0,600.0,1600.0,599.0,1099.0,795.0,1999.0,895.0,6000.0,1099.0,2995.0,1099.0,1300.0,1000.0,999.0,995.0,783.0,1099.0,2499.0,1099.0,999.0,1495.0,1349.0,26999.0,6999.0,845.0,1900.0,1495.0,2499.0,1999.0,632.0,599.0,1999.0,499.0,1999.0,1399.0,500.0,699.0,1300.0,1999.0,1295.0,650.0,1000.0,1100.0,1800.0,700.0,2800.0,2500.0,1350.0,1600.0,1400.0,1300.0,450.0,3500.0,3000.0,2200.0,750.0,2900.0,2650.0,1800.0,1600.0,1500.0,32000.0,2600.0,5600.0,800.0,2950.0,800.0,1650.0,1900.0,3700.0,20500.0,1600.0,5300.0,2600.0,1250.0,1600.0,850.0,1050.0,3900.0,950.0,1050.0,700.0,5700.0,2800.0,55000.0,1800.0,7100.0,7500.0,2650.0,650.0,1800.0,775.0,850.0,1100.0,950.0,1000.0,7200.0,5000.0,5000.0,1700.0,1300.0,5300.0,650.0,1800.0,5600.0,5250.0,5600.0,550.0,2400.0,2600.0,900.0,5200.0,1700.0,12000.0,700.0,1000.0,500.0,5200.0,950.0,1100.0,4500.0,1200.0,1200.0,19500.0,2100.0,1050.0,11500.0,2500.0,3200.0,1600.0,1200.0,3400.0,1700.0,12000.0,15000.0,80000.0,7400.0,15000.0,1300.0,9500.0,6750.0,1600.0,2899.0],\"x0\":\" \",\"xaxis\":\"x\",\"y0\":\" \",\"yaxis\":\"y\",\"type\":\"box\"}],                        {\"template\":{\"data\":{\"histogram2dcontour\":[{\"type\":\"histogram2dcontour\",\"colorbar\":{\"outlinewidth\":0,\"ticks\":\"\"},\"colorscale\":[[0.0,\"#0d0887\"],[0.1111111111111111,\"#46039f\"],[0.2222222222222222,\"#7201a8\"],[0.3333333333333333,\"#9c179e\"],[0.4444444444444444,\"#bd3786\"],[0.5555555555555556,\"#d8576b\"],[0.6666666666666666,\"#ed7953\"],[0.7777777777777778,\"#fb9f3a\"],[0.8888888888888888,\"#fdca26\"],[1.0,\"#f0f921\"]]}],\"choropleth\":[{\"type\":\"choropleth\",\"colorbar\":{\"outlinewidth\":0,\"ticks\":\"\"}}],\"histogram2d\":[{\"type\":\"histogram2d\",\"colorbar\":{\"outlinewidth\":0,\"ticks\":\"\"},\"colorscale\":[[0.0,\"#0d0887\"],[0.1111111111111111,\"#46039f\"],[0.2222222222222222,\"#7201a8\"],[0.3333333333333333,\"#9c179e\"],[0.4444444444444444,\"#bd3786\"],[0.5555555555555556,\"#d8576b\"],[0.6666666666666666,\"#ed7953\"],[0.7777777777777778,\"#fb9f3a\"],[0.8888888888888888,\"#fdca26\"],[1.0,\"#f0f921\"]]}],\"heatmap\":[{\"type\":\"heatmap\",\"colorbar\":{\"outlinewidth\":0,\"ticks\":\"\"},\"colorscale\":[[0.0,\"#0d0887\"],[0.1111111111111111,\"#46039f\"],[0.2222222222222222,\"#7201a8\"],[0.3333333333333333,\"#9c179e\"],[0.4444444444444444,\"#bd3786\"],[0.5555555555555556,\"#d8576b\"],[0.6666666666666666,\"#ed7953\"],[0.7777777777777778,\"#fb9f3a\"],[0.8888888888888888,\"#fdca26\"],[1.0,\"#f0f921\"]]}],\"heatmapgl\":[{\"type\":\"heatmapgl\",\"colorbar\":{\"outlinewidth\":0,\"ticks\":\"\"},\"colorscale\":[[0.0,\"#0d0887\"],[0.1111111111111111,\"#46039f\"],[0.2222222222222222,\"#7201a8\"],[0.3333333333333333,\"#9c179e\"],[0.4444444444444444,\"#bd3786\"],[0.5555555555555556,\"#d8576b\"],[0.6666666666666666,\"#ed7953\"],[0.7777777777777778,\"#fb9f3a\"],[0.8888888888888888,\"#fdca26\"],[1.0,\"#f0f921\"]]}],\"contourcarpet\":[{\"type\":\"contourcarpet\",\"colorbar\":{\"outlinewidth\":0,\"ticks\":\"\"}}],\"contour\":[{\"type\":\"contour\",\"colorbar\":{\"outlinewidth\":0,\"ticks\":\"\"},\"colorscale\":[[0.0,\"#0d0887\"],[0.1111111111111111,\"#46039f\"],[0.2222222222222222,\"#7201a8\"],[0.3333333333333333,\"#9c179e\"],[0.4444444444444444,\"#bd3786\"],[0.5555555555555556,\"#d8576b\"],[0.6666666666666666,\"#ed7953\"],[0.7777777777777778,\"#fb9f3a\"],[0.8888888888888888,\"#fdca26\"],[1.0,\"#f0f921\"]]}],\"surface\":[{\"type\":\"surface\",\"colorbar\":{\"outlinewidth\":0,\"ticks\":\"\"},\"colorscale\":[[0.0,\"#0d0887\"],[0.1111111111111111,\"#46039f\"],[0.2222222222222222,\"#7201a8\"],[0.3333333333333333,\"#9c179e\"],[0.4444444444444444,\"#bd3786\"],[0.5555555555555556,\"#d8576b\"],[0.6666666666666666,\"#ed7953\"],[0.7777777777777778,\"#fb9f3a\"],[0.8888888888888888,\"#fdca26\"],[1.0,\"#f0f921\"]]}],\"mesh3d\":[{\"type\":\"mesh3d\",\"colorbar\":{\"outlinewidth\":0,\"ticks\":\"\"}}],\"scatter\":[{\"fillpattern\":{\"fillmode\":\"overlay\",\"size\":10,\"solidity\":0.2},\"type\":\"scatter\"}],\"parcoords\":[{\"type\":\"parcoords\",\"line\":{\"colorbar\":{\"outlinewidth\":0,\"ticks\":\"\"}}}],\"scatterpolargl\":[{\"type\":\"scatterpolargl\",\"marker\":{\"colorbar\":{\"outlinewidth\":0,\"ticks\":\"\"}}}],\"bar\":[{\"error_x\":{\"color\":\"#2a3f5f\"},\"error_y\":{\"color\":\"#2a3f5f\"},\"marker\":{\"line\":{\"color\":\"#E5ECF6\",\"width\":0.5},\"pattern\":{\"fillmode\":\"overlay\",\"size\":10,\"solidity\":0.2}},\"type\":\"bar\"}],\"scattergeo\":[{\"type\":\"scattergeo\",\"marker\":{\"colorbar\":{\"outlinewidth\":0,\"ticks\":\"\"}}}],\"scatterpolar\":[{\"type\":\"scatterpolar\",\"marker\":{\"colorbar\":{\"outlinewidth\":0,\"ticks\":\"\"}}}],\"histogram\":[{\"marker\":{\"pattern\":{\"fillmode\":\"overlay\",\"size\":10,\"solidity\":0.2}},\"type\":\"histogram\"}],\"scattergl\":[{\"type\":\"scattergl\",\"marker\":{\"colorbar\":{\"outlinewidth\":0,\"ticks\":\"\"}}}],\"scatter3d\":[{\"type\":\"scatter3d\",\"line\":{\"colorbar\":{\"outlinewidth\":0,\"ticks\":\"\"}},\"marker\":{\"colorbar\":{\"outlinewidth\":0,\"ticks\":\"\"}}}],\"scattermapbox\":[{\"type\":\"scattermapbox\",\"marker\":{\"colorbar\":{\"outlinewidth\":0,\"ticks\":\"\"}}}],\"scatterternary\":[{\"type\":\"scatterternary\",\"marker\":{\"colorbar\":{\"outlinewidth\":0,\"ticks\":\"\"}}}],\"scattercarpet\":[{\"type\":\"scattercarpet\",\"marker\":{\"colorbar\":{\"outlinewidth\":0,\"ticks\":\"\"}}}],\"carpet\":[{\"aaxis\":{\"endlinecolor\":\"#2a3f5f\",\"gridcolor\":\"white\",\"linecolor\":\"white\",\"minorgridcolor\":\"white\",\"startlinecolor\":\"#2a3f5f\"},\"baxis\":{\"endlinecolor\":\"#2a3f5f\",\"gridcolor\":\"white\",\"linecolor\":\"white\",\"minorgridcolor\":\"white\",\"startlinecolor\":\"#2a3f5f\"},\"type\":\"carpet\"}],\"table\":[{\"cells\":{\"fill\":{\"color\":\"#EBF0F8\"},\"line\":{\"color\":\"white\"}},\"header\":{\"fill\":{\"color\":\"#C8D4E3\"},\"line\":{\"color\":\"white\"}},\"type\":\"table\"}],\"barpolar\":[{\"marker\":{\"line\":{\"color\":\"#E5ECF6\",\"width\":0.5},\"pattern\":{\"fillmode\":\"overlay\",\"size\":10,\"solidity\":0.2}},\"type\":\"barpolar\"}],\"pie\":[{\"automargin\":true,\"type\":\"pie\"}]},\"layout\":{\"autotypenumbers\":\"strict\",\"colorway\":[\"#636efa\",\"#EF553B\",\"#00cc96\",\"#ab63fa\",\"#FFA15A\",\"#19d3f3\",\"#FF6692\",\"#B6E880\",\"#FF97FF\",\"#FECB52\"],\"font\":{\"color\":\"#2a3f5f\"},\"hovermode\":\"closest\",\"hoverlabel\":{\"align\":\"left\"},\"paper_bgcolor\":\"white\",\"plot_bgcolor\":\"#E5ECF6\",\"polar\":{\"bgcolor\":\"#E5ECF6\",\"angularaxis\":{\"gridcolor\":\"white\",\"linecolor\":\"white\",\"ticks\":\"\"},\"radialaxis\":{\"gridcolor\":\"white\",\"linecolor\":\"white\",\"ticks\":\"\"}},\"ternary\":{\"bgcolor\":\"#E5ECF6\",\"aaxis\":{\"gridcolor\":\"white\",\"linecolor\":\"white\",\"ticks\":\"\"},\"baxis\":{\"gridcolor\":\"white\",\"linecolor\":\"white\",\"ticks\":\"\"},\"caxis\":{\"gridcolor\":\"white\",\"linecolor\":\"white\",\"ticks\":\"\"}},\"coloraxis\":{\"colorbar\":{\"outlinewidth\":0,\"ticks\":\"\"}},\"colorscale\":{\"sequential\":[[0.0,\"#0d0887\"],[0.1111111111111111,\"#46039f\"],[0.2222222222222222,\"#7201a8\"],[0.3333333333333333,\"#9c179e\"],[0.4444444444444444,\"#bd3786\"],[0.5555555555555556,\"#d8576b\"],[0.6666666666666666,\"#ed7953\"],[0.7777777777777778,\"#fb9f3a\"],[0.8888888888888888,\"#fdca26\"],[1.0,\"#f0f921\"]],\"sequentialminus\":[[0.0,\"#0d0887\"],[0.1111111111111111,\"#46039f\"],[0.2222222222222222,\"#7201a8\"],[0.3333333333333333,\"#9c179e\"],[0.4444444444444444,\"#bd3786\"],[0.5555555555555556,\"#d8576b\"],[0.6666666666666666,\"#ed7953\"],[0.7777777777777778,\"#fb9f3a\"],[0.8888888888888888,\"#fdca26\"],[1.0,\"#f0f921\"]],\"diverging\":[[0,\"#8e0152\"],[0.1,\"#c51b7d\"],[0.2,\"#de77ae\"],[0.3,\"#f1b6da\"],[0.4,\"#fde0ef\"],[0.5,\"#f7f7f7\"],[0.6,\"#e6f5d0\"],[0.7,\"#b8e186\"],[0.8,\"#7fbc41\"],[0.9,\"#4d9221\"],[1,\"#276419\"]]},\"xaxis\":{\"gridcolor\":\"white\",\"linecolor\":\"white\",\"ticks\":\"\",\"title\":{\"standoff\":15},\"zerolinecolor\":\"white\",\"automargin\":true,\"zerolinewidth\":2},\"yaxis\":{\"gridcolor\":\"white\",\"linecolor\":\"white\",\"ticks\":\"\",\"title\":{\"standoff\":15},\"zerolinecolor\":\"white\",\"automargin\":true,\"zerolinewidth\":2},\"scene\":{\"xaxis\":{\"backgroundcolor\":\"#E5ECF6\",\"gridcolor\":\"white\",\"linecolor\":\"white\",\"showbackground\":true,\"ticks\":\"\",\"zerolinecolor\":\"white\",\"gridwidth\":2},\"yaxis\":{\"backgroundcolor\":\"#E5ECF6\",\"gridcolor\":\"white\",\"linecolor\":\"white\",\"showbackground\":true,\"ticks\":\"\",\"zerolinecolor\":\"white\",\"gridwidth\":2},\"zaxis\":{\"backgroundcolor\":\"#E5ECF6\",\"gridcolor\":\"white\",\"linecolor\":\"white\",\"showbackground\":true,\"ticks\":\"\",\"zerolinecolor\":\"white\",\"gridwidth\":2}},\"shapedefaults\":{\"line\":{\"color\":\"#2a3f5f\"}},\"annotationdefaults\":{\"arrowcolor\":\"#2a3f5f\",\"arrowhead\":0,\"arrowwidth\":1},\"geo\":{\"bgcolor\":\"white\",\"landcolor\":\"#E5ECF6\",\"subunitcolor\":\"white\",\"showland\":true,\"showlakes\":true,\"lakecolor\":\"white\"},\"title\":{\"x\":0.05},\"mapbox\":{\"style\":\"light\"}}},\"xaxis\":{\"anchor\":\"y\",\"domain\":[0.0,1.0],\"title\":{\"text\":\"Price of Products\"}},\"yaxis\":{\"anchor\":\"x\",\"domain\":[0.0,1.0]},\"legend\":{\"tracegroupgap\":0},\"margin\":{\"t\":60},\"boxmode\":\"group\",\"plot_bgcolor\":\"#ECECEC\",\"title\":{\"text\":\"\\u003cb\\u003ePrice Data Distribution\\u003c\\u002fb\\u003e\"}},                        {\"responsive\": true}                    ).then(function(){\n",
              "                            \n",
              "var gd = document.getElementById('0e9a1057-8c3d-4014-93d7-1c12d2673eff');\n",
              "var x = new MutationObserver(function (mutations, observer) {{\n",
              "        var display = window.getComputedStyle(gd).display;\n",
              "        if (!display || display === 'none') {{\n",
              "            console.log([gd, 'removed!']);\n",
              "            Plotly.purge(gd);\n",
              "            observer.disconnect();\n",
              "        }}\n",
              "}});\n",
              "\n",
              "// Listen for the removal of the full notebook cells\n",
              "var notebookContainer = gd.closest('#notebook-container');\n",
              "if (notebookContainer) {{\n",
              "    x.observe(notebookContainer, {childList: true});\n",
              "}}\n",
              "\n",
              "// Listen for the clearing of the current output cell\n",
              "var outputEl = gd.closest('.output');\n",
              "if (outputEl) {{\n",
              "    x.observe(outputEl, {childList: true});\n",
              "}}\n",
              "\n",
              "                        })                };                            </script>        </div>\n",
              "</body>\n",
              "</html>"
            ]
          },
          "metadata": {}
        }
      ]
    },
    {
      "cell_type": "code",
      "source": [
        "# Let us check the rating of the products\n",
        "fig = px.violin(frame, \"ratings\",\n",
        "               color_discrete_sequence = [\"#FFBF00\"] * len(frame))\n",
        "fig.update_layout(\n",
        "                 plot_bgcolor = \"#ECECEC\",\n",
        "                  xaxis_title = \"Rating\",\n",
        "                  title = \"<b>Rating Distribution of the Popular Products</b>\"\n",
        "                 )\n",
        "fig.show()\n"
      ],
      "metadata": {
        "colab": {
          "base_uri": "https://localhost:8080/",
          "height": 542
        },
        "id": "Wur09yq-9CXx",
        "outputId": "15a1ba5d-95f4-4224-b63e-389599125c9c"
      },
      "execution_count": 35,
      "outputs": [
        {
          "output_type": "display_data",
          "data": {
            "text/html": [
              "<html>\n",
              "<head><meta charset=\"utf-8\" /></head>\n",
              "<body>\n",
              "    <div>            <script src=\"https://cdnjs.cloudflare.com/ajax/libs/mathjax/2.7.5/MathJax.js?config=TeX-AMS-MML_SVG\"></script><script type=\"text/javascript\">if (window.MathJax && window.MathJax.Hub && window.MathJax.Hub.Config) {window.MathJax.Hub.Config({SVG: {font: \"STIX-Web\"}});}</script>                <script type=\"text/javascript\">window.PlotlyConfig = {MathJaxConfig: 'local'};</script>\n",
              "        <script charset=\"utf-8\" src=\"https://cdn.plot.ly/plotly-2.24.1.min.js\"></script>                <div id=\"2df2abda-e22b-4ddc-8ee7-0d257da7f098\" class=\"plotly-graph-div\" style=\"height:525px; width:100%;\"></div>            <script type=\"text/javascript\">                                    window.PLOTLYENV=window.PLOTLYENV || {};                                    if (document.getElementById(\"2df2abda-e22b-4ddc-8ee7-0d257da7f098\")) {                    Plotly.newPlot(                        \"2df2abda-e22b-4ddc-8ee7-0d257da7f098\",                        [{\"alignmentgroup\":\"True\",\"box\":{\"visible\":false},\"hovertemplate\":\"ratings=%{x}\\u003cextra\\u003e\\u003c\\u002fextra\\u003e\",\"legendgroup\":\"\",\"marker\":{\"color\":\"#FFBF00\"},\"name\":\"\",\"offsetgroup\":\"\",\"orientation\":\"h\",\"scalegroup\":\"True\",\"showlegend\":false,\"x\":[4.2,4.3,4.2,4.8,4.0,4.8,4.4,4.2,4.3,4.1,3.2,4.3,4.2,4.4,4.5,4.2,4.2,4.6,4.3,4.3,4.4,4.2,4.2,4.2,4.4,4.1,5.0,4.2,4.4,4.3,4.3,4.3,4.3,4.2,4.3,4.7,4.4,4.5,4.4,3.9,4.4,4.3,4.5,4.3,4.2,4.2,4.4,4.8,4.4,4.5,4.2,4.2,3.9,5.0,3.7,4.1,4.5,4.5,4.2,4.2,4.4,3.7,4.5,4.2,4.4,4.1,4.3,4.4,4.2,4.8,4.6,4.1,4.2,4.4,4.5,4.3,4.4,4.3,4.3,4.2,4.1,4.3,4.2,4.8,4.2,4.0,4.3,4.3,4.7,5.0,4.4,4.2,4.5,4.8,4.4,5.0,4.5,4.7,4.3,5.0,4.3,4.6,4.2,5.0,4.2,4.2,4.5,4.2,4.3,4.2,4.6,4.3,5.0,4.3,4.1,4.2,4.1,4.4,4.5,4.4,4.4,4.4,4.3,4.2,4.3,4.5,4.4,4.2,4.3,4.3,4.8,4.2,4.4,4.3,4.1,4.4,4.4,4.2,4.3,4.3,4.1,4.3,4.2,4.4,4.2,4.3,4.5,4.3,4.5,4.3,4.7,4.2,4.5,4.1,4.2,4.3,4.1,4.1,4.3,4.3,5.0,4.2,4.3,4.8,4.5,4.1,4.4,4.7,5.0,4.0,4.5,4.1,4.5,4.4,4.4,4.4,4.2,4.5,4.4,4.3,4.3,4.3,4.3,4.4,4.1,4.2,4.3,4.3,4.7,5.0,3.7,4.3,4.2,4.0,4.3,4.4,4.0,4.3,4.3,4.2,4.2,4.2,4.2,4.2,4.1,4.2,4.2,4.3,4.4,4.2,4.3,4.3,4.2,4.2,4.5,4.3,4.2,4.1,4.3,4.3,4.7,4.3,3.7,4.2,3.8,4.1,4.6,4.0,4.3,4.4,4.1,4.1,4.2,4.0,4.1,4.2,4.5,3.9,4.1,4.2,4.2,4.2,4.2,4.7,5.0,4.3,4.2,4.3,5.0,4.4,4.0,4.0,4.4,4.0,4.2,4.5,4.3,4.3,4.2,4.2,4.2,4.4,4.5,4.2,4.0,4.2,4.3,4.3,4.9,4.4,4.2,3.9,3.8,3.9,4.1,4.1,3.8,3.8,4.1,4.1,3.9,3.9,4.1,4.1,4.2,4.1,4.0,4.2,4.1,3.8,3.8,4.1,4.0,4.1,4.0,4.2,3.9,3.8,3.9,4.1,3.7,4.1,4.0,3.7,3.8,4.1,3.7,3.8,4.2,4.4,4.1,3.9,4.2,4.0,4.1,4.1,4.2,3.8,4.3,4.1,4.1,3.8,4.1,4.2,3.8,4.2,4.0,3.7,3.5,3.9,4.2,4.3,4.1,3.7,4.1,4.0,4.1,3.8,3.8,4.1,4.4,4.0,4.2,4.1,4.3,4.2,4.1,4.1,4.0,4.4,4.1,4.2,4.1,3.8,3.9,4.3,4.0,3.9,4.1,3.8,3.9,4.1,4.1,3.7,4.1,3.9,4.2,4.3,4.1,4.1,3.8,4.3,4.1,4.0,3.8,3.9,4.1,4.1,4.3,4.3,4.1,3.9,4.2,4.1,4.1,3.9,4.2,4.2,4.3,4.0,4.1,4.1,3.9,4.1,4.3,3.6,4.1,4.2,4.3,3.7,3.9,4.3,3.7,3.9,3.7,4.4,4.3,3.9,4.2,3.6,4.2,4.0,3.8,4.1,3.8,3.9,3.5,3.9,4.1,4.2,4.3,3.8,3.7,4.1,4.1,4.1,4.2,3.7,3.9,3.9,4.2,4.2,4.0,4.0,4.1,3.8,4.4,4.0,4.2,3.6,4.3,3.8,4.2,4.2,4.4,4.1,4.1,4.1,3.8,3.7,3.7,4.2,3.8,3.8,3.8,4.1,4.1,4.1,4.1,4.1,4.3,4.2,3.8,3.4,4.3,4.2,4.2,4.2,4.3,4.1,4.2,3.9,4.1,3.7,4.1,3.7,3.8,3.8,3.4,4.1,4.0,4.1,4.1,4.2,4.2,3.5,4.1,4.3,3.7,4.5,4.3,4.1,4.1,3.6,3.7,4.2,4.2,4.2,4.3,4.1,3.7,4.2,4.3,4.2,4.0,3.9,4.2,4.1,3.8,4.1,4.0,3.7,4.4,4.4,4.4,3.6,3.9,4.5,4.1,4.2,4.4,3.6,3.8,4.4,3.5,4.3,3.8,3.7,4.4,4.6,4.2,4.4,4.0,3.6,3.6,3.8,4.3,3.9,4.2,4.3,4.2,3.4,4.1,4.1,3.9,4.3,3.8,3.6,4.6,4.0,4.3,3.9,4.3,3.5,4.2,4.2,3.6,4.0,3.3,4.4,4.5,3.1,3.4,4.1,4.4,4.2,3.9,3.8,4.3,4.3,4.5,4.1,3.8,4.5,4.3,3.4,4.0,4.0,4.2,3.5,4.2,4.0,4.4,4.0,3.9,4.0,3.8,4.3,3.7,4.0,3.9,4.0,3.3,4.1,4.1,3.9,4.4,3.8,4.0,4.4,4.1,4.2,4.2,4.0,3.8,4.3,3.9,3.9,4.3,4.0,3.8,4.1,4.4,4.2,3.9,4.5,3.8,4.1,3.9,4.2,4.0,4.4,4.0,4.4,4.3,4.0,3.6,4.1,4.1,4.1,3.8,3.9,3.9,4.2,4.0,4.4,4.0,3.8,4.1,4.2,4.4,3.9,3.1,3.8,3.7,4.1,4.0,3.8,4.2,4.1,4.1,4.3,4.2,3.9,4.0,4.0,4.1,4.0,3.5,4.1,4.2,3.6,3.9,3.8,3.3,3.8,4.1,4.3,4.1,4.1,4.2,4.1,3.9,3.7,3.4,4.0,4.1,4.1,4.3,3.8,3.8,4.0,4.2,4.0,3.9,4.0,4.5,4.0,4.4,4.2,4.3,4.2,3.3,4.0,4.1,4.4,3.9,4.0,4.2,3.9,4.0,4.3,3.6,4.5,4.2,4.2,4.0,4.5,4.2,3.8,3.9,4.2,4.3,3.9,4.1,3.9,3.4,3.6,4.0,4.2,4.0,4.3,4.3,4.4,3.9,4.0,4.0,4.1,3.7,4.0,4.0,3.9,4.1,4.2,4.0,4.0,3.2,4.4,4.1,4.1,3.9,4.6,4.6,4.6,4.1,4.6,4.1,4.3,4.3,4.4,4.3,4.5,4.3,4.4,3.4,4.3,4.3,4.4,4.6,4.3,4.1,4.5,4.3,4.2,4.5,4.4,4.5,4.2,4.4,3.5,4.3,4.6,4.3,4.0,4.5,4.2,4.3,4.3,4.5,4.5,4.5,4.6,4.3,4.4,4.4,4.1,4.4,4.6,4.5,4.1,4.5,4.4,4.2,4.5,4.5,4.5,4.6,4.2,4.1,4.0,4.3,4.7,4.4,4.3,4.6,4.6,4.2,4.6,4.5,3.1,4.7,4.5,4.7,4.5,4.3,4.3,3.5,4.5,4.5,3.9,4.5,4.5,4.3,4.4,4.3,4.2,4.4,5.0,4.5,4.4,4.4,4.1,4.5,4.5,4.3,4.3,4.2,4.3,4.4,4.2,4.1,4.4,4.6,4.1,3.3,3.9,4.0,4.6,3.0,4.1,4.5,4.4,4.5,4.3,4.4,3.9,4.6,3.6,4.5,4.4,4.6,4.5,4.2,4.3,4.1,4.5,4.5,4.3,4.2,4.6,4.6,4.5,4.6,4.5,4.2,4.6,4.4,4.4,4.3,4.5,3.1,4.3,4.4,3.3,3.8,4.5,4.5,4.3,4.4,4.5,4.1,4.5,4.6,4.4,4.6,4.7,4.6,4.3,4.2,4.1,4.5,4.6,3.2,4.2,4.3,3.6,4.5,4.2,4.5,4.6,4.4,4.3,4.6,4.5,4.5,4.3,4.4,4.2,4.1,3.1,4.3,4.1,4.1,4.5,4.6,4.2,4.2,4.6,4.3,4.4,4.3,4.2,4.6,4.4,3.3,4.5,4.0,4.4,4.7,4.2,4.4,4.4,4.6,4.1,4.1,4.4,4.0,4.3,4.0,4.1,4.4,4.3,4.2,4.1,4.1,4.1,3.9,4.1,4.1,4.2,4.2,4.0,3.9,4.4,4.0,4.3,4.3,4.1,3.9,4.1,3.9,4.3,4.3,4.2,4.1,4.3,4.3,4.4,4.1,4.1,4.1,4.3,4.1,4.1,3.7,3.9,3.5,3.6,4.1,3.9,4.4,4.0,3.7,4.1,4.4,4.3,4.3,4.3,4.2,4.1,4.4,4.3,4.3,3.9,3.8,4.3,4.1,3.5,3.5,4.6,4.1,4.3,4.4,4.6,4.4,3.5,4.2,4.2,4.3,3.5,4.4,4.3,3.5,4.2,4.2,4.4,4.1,4.1,4.4,4.3,3.7,4.3,4.4,4.3,3.5,4.6,4.6,4.4,3.5,3.9,4.2,4.5,4.1,4.3,4.3,4.4,4.2,4.5,3.5,3.7,4.2,4.5,4.3,4.0,4.4,4.3,3.5,4.3,4.6,3.5,4.6,4.5,4.3,4.3,4.4,4.2,4.6,4.6,4.6,4.6,4.2,4.4,3.8,4.4,3.5,4.3,4.2,4.2,4.5,4.5,4.3,4.6,4.4,3.8,3.5,3.5,3.5,3.8,3.6,3.5,3.6,3.8,3.6,3.8,3.8,3.6,3.5,3.6,3.6,4.1,3.6,3.4,3.8,3.8,3.5,3.8,5.0,5.0,3.7,3.8,3.9,4.1,4.2,3.8,4.4,4.1,4.3,4.0,3.6,3.8,3.5,4.1,3.7,3.7,5.0,3.6,4.1,3.6,3.8,3.7,4.6,3.6,4.1,4.0,4.1,3.6,3.9,3.9,3.9,5.0,3.7,3.9,3.8,3.9,3.9,3.9,3.3,4.6,4.0,3.9,3.9,3.7,3.6,3.7,3.9,3.8,3.7,3.7,3.7,3.4,4.0,3.9,4.1,3.9,4.3,3.9,3.8,4.1,4.3,4.3,3.4,4.2,3.4,3.8,4.0,4.8,3.7,4.6,3.9,3.9,3.8,3.4,4.0,4.0,4.1,3.5,3.6,3.7,4.3,3.8,3.7,3.7,4.4,4.0,3.7,3.9,3.6,3.7,3.7,3.9,3.9,3.9,3.4,4.6,3.8,3.5,3.9,3.9,4.1,4.0,3.9,3.9,4.4,3.4,3.9,4.1,3.9,3.7,3.9,4.1,3.5,4.1,4.2,4.1,4.3,4.0,4.3,4.4,4.1,4.4,4.2,4.1,4.2,4.1,4.0,4.3,3.9,4.1,4.3,4.1,4.1,4.0,3.9,4.0,4.3,4.1,5.0,4.0,3.9,4.3,4.3,4.3,4.1,4.3,4.1,4.1,4.1,4.1,3.9,4.0,4.2,4.2,3.9,3.9,4.2,4.0,4.1,4.8,3.8,3.8,4.1,4.3,3.8,4.1,4.2,4.0,3.9,4.0,4.0,4.3,4.3,3.9,3.7,3.5,3.9,4.0,4.3,3.8,4.0,4.2,3.9,4.3,4.0,4.6,4.1,3.8,4.1,4.1,3.9,3.7,4.9,4.9,3.5,4.2,4.0,3.9,4.2,4.5,4.0,3.8,4.7,3.5,3.8,4.4,3.8,3.7,4.0,4.0,3.7,4.2,4.2,3.9,3.6,4.1,4.0,4.5,3.4,4.1,3.7,4.3,4.5,4.2,3.7,4.3,4.0,3.5,3.9,4.0,3.9,4.0,4.2,4.2,4.0,4.2,3.3,3.6,3.9,3.9,4.0,4.3,4.2,3.7,4.0,4.3,4.2,4.1,3.8,4.3,4.2,4.3,4.0,4.2,4.4,4.1,4.1,4.3,4.0,3.5,4.1,4.1,3.9,4.5,4.3,4.1,4.0,4.0,4.1,4.2,4.3,4.0,3.5,4.2,4.2,4.0,4.2,4.2,3.6,4.3,4.3,3.6,4.1,4.1,3.8,4.1,2.9,4.1,4.1,4.0,4.1,4.1,4.0,4.4,4.1,4.2,3.3,4.4,4.3,4.1,4.2,4.2,4.3,4.0,3.8,4.2,4.5,3.9,3.6,4.2,4.0,3.7,4.2,4.2,4.2,4.2,4.4,4.0,3.6,4.3,4.2,4.1,4.1,4.4,3.7,4.3,4.1,3.9,4.1,4.0,4.1,3.8,3.3,3.4,4.1,4.2,4.2,4.0,4.0,4.5,4.2,4.1,3.9,4.2,3.7,4.1,3.5,4.2,4.2,3.7,4.4,3.1,3.3,4.1,3.8,4.2,3.4,4.0,4.1,3.3,3.9,3.7,4.1,3.0,3.5,4.2,4.2,4.3,4.3,4.2,4.6,4.4,3.8,3.5,4.4,4.3,4.3,3.9,4.3,4.3,3.8,3.6,4.2,4.2,3.8,4.4,4.3,4.3,4.5,4.3,4.2,4.5,4.2,4.2,4.4,3.9,3.9,4.2,4.4,4.3,4.4,4.0,4.2,4.3,4.4,4.3,4.4,4.3,4.3,4.4,4.3,4.3,4.3,3.4,4.2,4.2,3.6,4.0,4.3,4.3,4.3,4.1,4.3,4.4,4.3,4.3,4.4,3.5,3.7,4.1,4.0,4.5,4.3,3.6,4.2,4.3,4.4,4.3,4.2,4.4,4.2,4.4,4.3,4.3,4.4,4.3,4.3,3.7,4.4,4.4,4.3,4.3,4.5,4.2,4.4,1.0,4.2,4.1,4.3,3.6,4.3,1.4,4.5,4.5,3.9,4.6,4.3,4.3,4.5,3.6,4.3,4.4,4.2,4.2,4.4,4.4,4.5,3.7,3.9,4.5,4.1,4.1,4.3,4.4,4.2,4.4,4.4,4.3,4.3,4.3,4.3,4.3,4.3,4.2,4.4,4.3,4.2,4.3,4.5,4.3,4.5,4.3,4.3,4.4,4.3,4.3,4.4,4.3,4.3,4.3,4.3,4.5,4.4,4.4,4.5,4.5,4.4,4.3,4.3,4.3,4.5,4.2,4.3,4.4,4.3,4.3,4.4,4.4,4.5,4.3,4.3,4.2,4.2,4.3,4.3,4.3,4.2,4.3,4.4,4.3,4.3,4.2,4.3,4.3,4.2,4.2,4.6,4.3,4.3,4.3,4.4,4.3,4.6,4.3,4.2,4.3,4.2,4.2,4.3,4.3,4.2,4.2,4.3,4.5,4.5,4.4,4.5,4.3,4.3,4.1,4.6,4.2,4.3,4.2,4.6,4.3,4.3,4.4,4.5,4.5,4.3,4.3,4.4,4.6,4.5],\"x0\":\" \",\"xaxis\":\"x\",\"y0\":\" \",\"yaxis\":\"y\",\"type\":\"violin\"}],                        {\"template\":{\"data\":{\"histogram2dcontour\":[{\"type\":\"histogram2dcontour\",\"colorbar\":{\"outlinewidth\":0,\"ticks\":\"\"},\"colorscale\":[[0.0,\"#0d0887\"],[0.1111111111111111,\"#46039f\"],[0.2222222222222222,\"#7201a8\"],[0.3333333333333333,\"#9c179e\"],[0.4444444444444444,\"#bd3786\"],[0.5555555555555556,\"#d8576b\"],[0.6666666666666666,\"#ed7953\"],[0.7777777777777778,\"#fb9f3a\"],[0.8888888888888888,\"#fdca26\"],[1.0,\"#f0f921\"]]}],\"choropleth\":[{\"type\":\"choropleth\",\"colorbar\":{\"outlinewidth\":0,\"ticks\":\"\"}}],\"histogram2d\":[{\"type\":\"histogram2d\",\"colorbar\":{\"outlinewidth\":0,\"ticks\":\"\"},\"colorscale\":[[0.0,\"#0d0887\"],[0.1111111111111111,\"#46039f\"],[0.2222222222222222,\"#7201a8\"],[0.3333333333333333,\"#9c179e\"],[0.4444444444444444,\"#bd3786\"],[0.5555555555555556,\"#d8576b\"],[0.6666666666666666,\"#ed7953\"],[0.7777777777777778,\"#fb9f3a\"],[0.8888888888888888,\"#fdca26\"],[1.0,\"#f0f921\"]]}],\"heatmap\":[{\"type\":\"heatmap\",\"colorbar\":{\"outlinewidth\":0,\"ticks\":\"\"},\"colorscale\":[[0.0,\"#0d0887\"],[0.1111111111111111,\"#46039f\"],[0.2222222222222222,\"#7201a8\"],[0.3333333333333333,\"#9c179e\"],[0.4444444444444444,\"#bd3786\"],[0.5555555555555556,\"#d8576b\"],[0.6666666666666666,\"#ed7953\"],[0.7777777777777778,\"#fb9f3a\"],[0.8888888888888888,\"#fdca26\"],[1.0,\"#f0f921\"]]}],\"heatmapgl\":[{\"type\":\"heatmapgl\",\"colorbar\":{\"outlinewidth\":0,\"ticks\":\"\"},\"colorscale\":[[0.0,\"#0d0887\"],[0.1111111111111111,\"#46039f\"],[0.2222222222222222,\"#7201a8\"],[0.3333333333333333,\"#9c179e\"],[0.4444444444444444,\"#bd3786\"],[0.5555555555555556,\"#d8576b\"],[0.6666666666666666,\"#ed7953\"],[0.7777777777777778,\"#fb9f3a\"],[0.8888888888888888,\"#fdca26\"],[1.0,\"#f0f921\"]]}],\"contourcarpet\":[{\"type\":\"contourcarpet\",\"colorbar\":{\"outlinewidth\":0,\"ticks\":\"\"}}],\"contour\":[{\"type\":\"contour\",\"colorbar\":{\"outlinewidth\":0,\"ticks\":\"\"},\"colorscale\":[[0.0,\"#0d0887\"],[0.1111111111111111,\"#46039f\"],[0.2222222222222222,\"#7201a8\"],[0.3333333333333333,\"#9c179e\"],[0.4444444444444444,\"#bd3786\"],[0.5555555555555556,\"#d8576b\"],[0.6666666666666666,\"#ed7953\"],[0.7777777777777778,\"#fb9f3a\"],[0.8888888888888888,\"#fdca26\"],[1.0,\"#f0f921\"]]}],\"surface\":[{\"type\":\"surface\",\"colorbar\":{\"outlinewidth\":0,\"ticks\":\"\"},\"colorscale\":[[0.0,\"#0d0887\"],[0.1111111111111111,\"#46039f\"],[0.2222222222222222,\"#7201a8\"],[0.3333333333333333,\"#9c179e\"],[0.4444444444444444,\"#bd3786\"],[0.5555555555555556,\"#d8576b\"],[0.6666666666666666,\"#ed7953\"],[0.7777777777777778,\"#fb9f3a\"],[0.8888888888888888,\"#fdca26\"],[1.0,\"#f0f921\"]]}],\"mesh3d\":[{\"type\":\"mesh3d\",\"colorbar\":{\"outlinewidth\":0,\"ticks\":\"\"}}],\"scatter\":[{\"fillpattern\":{\"fillmode\":\"overlay\",\"size\":10,\"solidity\":0.2},\"type\":\"scatter\"}],\"parcoords\":[{\"type\":\"parcoords\",\"line\":{\"colorbar\":{\"outlinewidth\":0,\"ticks\":\"\"}}}],\"scatterpolargl\":[{\"type\":\"scatterpolargl\",\"marker\":{\"colorbar\":{\"outlinewidth\":0,\"ticks\":\"\"}}}],\"bar\":[{\"error_x\":{\"color\":\"#2a3f5f\"},\"error_y\":{\"color\":\"#2a3f5f\"},\"marker\":{\"line\":{\"color\":\"#E5ECF6\",\"width\":0.5},\"pattern\":{\"fillmode\":\"overlay\",\"size\":10,\"solidity\":0.2}},\"type\":\"bar\"}],\"scattergeo\":[{\"type\":\"scattergeo\",\"marker\":{\"colorbar\":{\"outlinewidth\":0,\"ticks\":\"\"}}}],\"scatterpolar\":[{\"type\":\"scatterpolar\",\"marker\":{\"colorbar\":{\"outlinewidth\":0,\"ticks\":\"\"}}}],\"histogram\":[{\"marker\":{\"pattern\":{\"fillmode\":\"overlay\",\"size\":10,\"solidity\":0.2}},\"type\":\"histogram\"}],\"scattergl\":[{\"type\":\"scattergl\",\"marker\":{\"colorbar\":{\"outlinewidth\":0,\"ticks\":\"\"}}}],\"scatter3d\":[{\"type\":\"scatter3d\",\"line\":{\"colorbar\":{\"outlinewidth\":0,\"ticks\":\"\"}},\"marker\":{\"colorbar\":{\"outlinewidth\":0,\"ticks\":\"\"}}}],\"scattermapbox\":[{\"type\":\"scattermapbox\",\"marker\":{\"colorbar\":{\"outlinewidth\":0,\"ticks\":\"\"}}}],\"scatterternary\":[{\"type\":\"scatterternary\",\"marker\":{\"colorbar\":{\"outlinewidth\":0,\"ticks\":\"\"}}}],\"scattercarpet\":[{\"type\":\"scattercarpet\",\"marker\":{\"colorbar\":{\"outlinewidth\":0,\"ticks\":\"\"}}}],\"carpet\":[{\"aaxis\":{\"endlinecolor\":\"#2a3f5f\",\"gridcolor\":\"white\",\"linecolor\":\"white\",\"minorgridcolor\":\"white\",\"startlinecolor\":\"#2a3f5f\"},\"baxis\":{\"endlinecolor\":\"#2a3f5f\",\"gridcolor\":\"white\",\"linecolor\":\"white\",\"minorgridcolor\":\"white\",\"startlinecolor\":\"#2a3f5f\"},\"type\":\"carpet\"}],\"table\":[{\"cells\":{\"fill\":{\"color\":\"#EBF0F8\"},\"line\":{\"color\":\"white\"}},\"header\":{\"fill\":{\"color\":\"#C8D4E3\"},\"line\":{\"color\":\"white\"}},\"type\":\"table\"}],\"barpolar\":[{\"marker\":{\"line\":{\"color\":\"#E5ECF6\",\"width\":0.5},\"pattern\":{\"fillmode\":\"overlay\",\"size\":10,\"solidity\":0.2}},\"type\":\"barpolar\"}],\"pie\":[{\"automargin\":true,\"type\":\"pie\"}]},\"layout\":{\"autotypenumbers\":\"strict\",\"colorway\":[\"#636efa\",\"#EF553B\",\"#00cc96\",\"#ab63fa\",\"#FFA15A\",\"#19d3f3\",\"#FF6692\",\"#B6E880\",\"#FF97FF\",\"#FECB52\"],\"font\":{\"color\":\"#2a3f5f\"},\"hovermode\":\"closest\",\"hoverlabel\":{\"align\":\"left\"},\"paper_bgcolor\":\"white\",\"plot_bgcolor\":\"#E5ECF6\",\"polar\":{\"bgcolor\":\"#E5ECF6\",\"angularaxis\":{\"gridcolor\":\"white\",\"linecolor\":\"white\",\"ticks\":\"\"},\"radialaxis\":{\"gridcolor\":\"white\",\"linecolor\":\"white\",\"ticks\":\"\"}},\"ternary\":{\"bgcolor\":\"#E5ECF6\",\"aaxis\":{\"gridcolor\":\"white\",\"linecolor\":\"white\",\"ticks\":\"\"},\"baxis\":{\"gridcolor\":\"white\",\"linecolor\":\"white\",\"ticks\":\"\"},\"caxis\":{\"gridcolor\":\"white\",\"linecolor\":\"white\",\"ticks\":\"\"}},\"coloraxis\":{\"colorbar\":{\"outlinewidth\":0,\"ticks\":\"\"}},\"colorscale\":{\"sequential\":[[0.0,\"#0d0887\"],[0.1111111111111111,\"#46039f\"],[0.2222222222222222,\"#7201a8\"],[0.3333333333333333,\"#9c179e\"],[0.4444444444444444,\"#bd3786\"],[0.5555555555555556,\"#d8576b\"],[0.6666666666666666,\"#ed7953\"],[0.7777777777777778,\"#fb9f3a\"],[0.8888888888888888,\"#fdca26\"],[1.0,\"#f0f921\"]],\"sequentialminus\":[[0.0,\"#0d0887\"],[0.1111111111111111,\"#46039f\"],[0.2222222222222222,\"#7201a8\"],[0.3333333333333333,\"#9c179e\"],[0.4444444444444444,\"#bd3786\"],[0.5555555555555556,\"#d8576b\"],[0.6666666666666666,\"#ed7953\"],[0.7777777777777778,\"#fb9f3a\"],[0.8888888888888888,\"#fdca26\"],[1.0,\"#f0f921\"]],\"diverging\":[[0,\"#8e0152\"],[0.1,\"#c51b7d\"],[0.2,\"#de77ae\"],[0.3,\"#f1b6da\"],[0.4,\"#fde0ef\"],[0.5,\"#f7f7f7\"],[0.6,\"#e6f5d0\"],[0.7,\"#b8e186\"],[0.8,\"#7fbc41\"],[0.9,\"#4d9221\"],[1,\"#276419\"]]},\"xaxis\":{\"gridcolor\":\"white\",\"linecolor\":\"white\",\"ticks\":\"\",\"title\":{\"standoff\":15},\"zerolinecolor\":\"white\",\"automargin\":true,\"zerolinewidth\":2},\"yaxis\":{\"gridcolor\":\"white\",\"linecolor\":\"white\",\"ticks\":\"\",\"title\":{\"standoff\":15},\"zerolinecolor\":\"white\",\"automargin\":true,\"zerolinewidth\":2},\"scene\":{\"xaxis\":{\"backgroundcolor\":\"#E5ECF6\",\"gridcolor\":\"white\",\"linecolor\":\"white\",\"showbackground\":true,\"ticks\":\"\",\"zerolinecolor\":\"white\",\"gridwidth\":2},\"yaxis\":{\"backgroundcolor\":\"#E5ECF6\",\"gridcolor\":\"white\",\"linecolor\":\"white\",\"showbackground\":true,\"ticks\":\"\",\"zerolinecolor\":\"white\",\"gridwidth\":2},\"zaxis\":{\"backgroundcolor\":\"#E5ECF6\",\"gridcolor\":\"white\",\"linecolor\":\"white\",\"showbackground\":true,\"ticks\":\"\",\"zerolinecolor\":\"white\",\"gridwidth\":2}},\"shapedefaults\":{\"line\":{\"color\":\"#2a3f5f\"}},\"annotationdefaults\":{\"arrowcolor\":\"#2a3f5f\",\"arrowhead\":0,\"arrowwidth\":1},\"geo\":{\"bgcolor\":\"white\",\"landcolor\":\"#E5ECF6\",\"subunitcolor\":\"white\",\"showland\":true,\"showlakes\":true,\"lakecolor\":\"white\"},\"title\":{\"x\":0.05},\"mapbox\":{\"style\":\"light\"}}},\"xaxis\":{\"anchor\":\"y\",\"domain\":[0.0,1.0],\"title\":{\"text\":\"Rating\"}},\"yaxis\":{\"anchor\":\"x\",\"domain\":[0.0,1.0]},\"legend\":{\"tracegroupgap\":0},\"margin\":{\"t\":60},\"violinmode\":\"group\",\"plot_bgcolor\":\"#ECECEC\",\"title\":{\"text\":\"\\u003cb\\u003eRating Distribution of the Popular Products\\u003c\\u002fb\\u003e\"}},                        {\"responsive\": true}                    ).then(function(){\n",
              "                            \n",
              "var gd = document.getElementById('2df2abda-e22b-4ddc-8ee7-0d257da7f098');\n",
              "var x = new MutationObserver(function (mutations, observer) {{\n",
              "        var display = window.getComputedStyle(gd).display;\n",
              "        if (!display || display === 'none') {{\n",
              "            console.log([gd, 'removed!']);\n",
              "            Plotly.purge(gd);\n",
              "            observer.disconnect();\n",
              "        }}\n",
              "}});\n",
              "\n",
              "// Listen for the removal of the full notebook cells\n",
              "var notebookContainer = gd.closest('#notebook-container');\n",
              "if (notebookContainer) {{\n",
              "    x.observe(notebookContainer, {childList: true});\n",
              "}}\n",
              "\n",
              "// Listen for the clearing of the current output cell\n",
              "var outputEl = gd.closest('.output');\n",
              "if (outputEl) {{\n",
              "    x.observe(outputEl, {childList: true});\n",
              "}}\n",
              "\n",
              "                        })                };                            </script>        </div>\n",
              "</body>\n",
              "</html>"
            ]
          },
          "metadata": {}
        }
      ]
    },
    {
      "cell_type": "markdown",
      "source": [
        "# Keywords Extraction\n"
      ],
      "metadata": {
        "id": "1YmYwZ82EbB-"
      }
    },
    {
      "cell_type": "code",
      "source": [
        "frame['#keywords'] =  frame['name'].str.lower()\n"
      ],
      "metadata": {
        "id": "M9LdSw2-Ddix"
      },
      "execution_count": 36,
      "outputs": []
    },
    {
      "cell_type": "code",
      "source": [
        "frame['#keywords']"
      ],
      "metadata": {
        "colab": {
          "base_uri": "https://localhost:8080/"
        },
        "id": "1bsZ_TeKEe_0",
        "outputId": "dc0dce99-5251-41ef-b04e-ed9e7a8d78f4"
      },
      "execution_count": 37,
      "outputs": [
        {
          "output_type": "execute_result",
          "data": {
            "text/plain": [
              "711     thegiftkart crystal clear back cover case for oneplus nord ce 2 lite 5g | 360 degree protection | shock proof design | tra...\n",
              "977     thegiftkart ultra-hybrid clear back case cover for iphone 12/12 pro | shockproof design | camera protection bump | hard ba...\n",
              "1176    thegiftkart shockproof crystal clear back cover case for nothing phone 1 | 360 degree protection | protective design | pc,...\n",
              "1477    thegiftkart ultra-hybrid crystal clear back case cover for samsung galaxy s23 ultra 5g | shockproof design | camera protec...\n",
              "1523    thegiftkart tough armor bumper back case cover for oneplus 11r 5g | ring holder & kickstand in-built | 360 degree protecti...\n",
              "                                                                    ...                                                              \n",
              "8823                                         sandisk ultra dual drive luxe 32gb usb type c flash drive (silver, 5y - sdddc4-032g-i35)\n",
              "9086                                        sandisk ultra dual drive go usb type c pendrive for mobile, navy blue, 512gb, 5y warranty\n",
              "9107                                                                                sandisk ultra microsd uhs-i card 256gb, 120mb/s r\n",
              "9153                     sandisk cruzer glide 3.0 usb flash drive, cz600 128gb, usb3.0, black with red slider, retractable design, 5y\n",
              "9334              sandisk extreme usd,160mb/s r, 90mb/s w,c10,uhs,u3,v30,a2, 128gb, for 4k video on smartphones, action cams & drones\n",
              "Name: #keywords, Length: 1693, dtype: object"
            ]
          },
          "metadata": {},
          "execution_count": 37
        }
      ]
    },
    {
      "cell_type": "code",
      "source": [
        "print(data['main_category'].value_counts())\n",
        "print('=='*15)\n",
        "print(data['sub_category'].value_counts())\n"
      ],
      "metadata": {
        "colab": {
          "base_uri": "https://localhost:8080/"
        },
        "id": "PW1iOexlEhRH",
        "outputId": "9386b318-ab7d-4d72-9491-5073fdf18dff"
      },
      "execution_count": 38,
      "outputs": [
        {
          "output_type": "stream",
          "name": "stdout",
          "text": [
            "main_category\n",
            "tv, audio & cameras    9600\n",
            "Name: count, dtype: int64\n",
            "==============================\n",
            "sub_category\n",
            "All Electronics    9600\n",
            "Name: count, dtype: int64\n"
          ]
        }
      ]
    },
    {
      "cell_type": "code",
      "source": [
        "data.drop(['main_category','sub_category'],axis=1,inplace=True)"
      ],
      "metadata": {
        "id": "7-_qC4N3EnuO"
      },
      "execution_count": 39,
      "outputs": []
    },
    {
      "cell_type": "markdown",
      "source": [
        "## Keywords Text Preprocessing\n"
      ],
      "metadata": {
        "id": "Xem4IaAwFDme"
      }
    },
    {
      "cell_type": "code",
      "source": [
        "data['#keywords']"
      ],
      "metadata": {
        "colab": {
          "base_uri": "https://localhost:8080/"
        },
        "id": "WhyF8_mcFG9K",
        "outputId": "78573ceb-b06e-4047-cba1-30eb50f36636"
      },
      "execution_count": 45,
      "outputs": [
        {
          "output_type": "execute_result",
          "data": {
            "text/plain": [
              "0                                                                               redmi 10 power power black 8gb ram 128gb storage\n",
              "1                                                                      oneplus nord ce 2 lite 5g blue tide 6gb ram 128gb storage\n",
              "2          oneplus bullets z2 bluetooth wireless in ear earphones with mic bombastic bass  124 mm drivers 10 mins charge  20 hrs\n",
              "3            samsung galaxy m33 5g mystique green 6gb 128gb storage  6000mah battery  upto 12gb ram with ram plus  travel adapte\n",
              "4                                                                     oneplus nord ce 2 lite 5g black dusk 6gb ram 128gb storage\n",
              "                                                                  ...                                                           \n",
              "9595    palay bts backpack for boys kpop bts bangtan school backback for student with cable vent backpack travel bag backpack la\n",
              "9596     moca ipad air 5th generation case 2022  ipad air 4th 2020 case 109 inch slim stand hard back shell protective smart cov\n",
              "9597      zebronics zebsound bomb 5 tws v50 bluetooth truly wireless in ear earbuds with up to 22h backup flash connect splash p\n",
              "9598         linqs original nxp chip  waterproof nfc tag sticker set of 5  smartrac circus ntag213 chip  for all nfc phones  vin\n",
              "9599     pragati systems medium grain 24x36 inch 10 oz primed cotton pre stretched canvas with wooden frame for painting acs2436\n",
              "Name: #keywords, Length: 9600, dtype: object"
            ]
          },
          "metadata": {},
          "execution_count": 45
        }
      ]
    },
    {
      "cell_type": "markdown",
      "source": [
        "### Stemming the Keywords"
      ],
      "metadata": {
        "id": "xjmDzd0fFN8X"
      }
    },
    {
      "cell_type": "code",
      "source": [
        "stemmer = PorterStemmer()"
      ],
      "metadata": {
        "id": "2XJiFHGZFJJZ"
      },
      "execution_count": 46,
      "outputs": []
    },
    {
      "cell_type": "code",
      "source": [
        "def stemming(text):\n",
        "    words = []\n",
        "    for word in text.split(' '):\n",
        "        words.append(stemmer.stem(word))\n",
        "    return ' '.join(words)\n"
      ],
      "metadata": {
        "id": "WqBf_LqjFSJI"
      },
      "execution_count": 47,
      "outputs": []
    },
    {
      "cell_type": "code",
      "source": [
        "import re"
      ],
      "metadata": {
        "id": "xAFM5UhBFUSp"
      },
      "execution_count": 48,
      "outputs": []
    },
    {
      "cell_type": "code",
      "source": [
        "data['#keywords'] = data['#keywords'].apply(stemming)"
      ],
      "metadata": {
        "id": "6bvQx8KRFY5M"
      },
      "execution_count": 49,
      "outputs": []
    },
    {
      "cell_type": "code",
      "source": [
        "data['#keywords']"
      ],
      "metadata": {
        "colab": {
          "base_uri": "https://localhost:8080/"
        },
        "id": "6Tln3RxpFddf",
        "outputId": "33cb30ff-feb5-4f3f-a18f-6a25850676bc"
      },
      "execution_count": 50,
      "outputs": [
        {
          "output_type": "execute_result",
          "data": {
            "text/plain": [
              "0                                                                            redmi 10 power power black 8gb ram 128gb storag\n",
              "1                                                                    oneplu nord ce 2 lite 5g blue tide 6gb ram 128gb storag\n",
              "2                oneplu bullet z2 bluetooth wireless in ear earphon with mic bombast bass  124 mm driver 10 min charg  20 hr\n",
              "3            samsung galaxi m33 5g mystiqu green 6gb 128gb storag  6000mah batteri  upto 12gb ram with ram plu  travel adapt\n",
              "4                                                                   oneplu nord ce 2 lite 5g black dusk 6gb ram 128gb storag\n",
              "                                                                ...                                                         \n",
              "9595    palay bt backpack for boy kpop bt bangtan school backback for student with cabl vent backpack travel bag backpack la\n",
              "9596         moca ipad air 5th gener case 2022  ipad air 4th 2020 case 109 inch slim stand hard back shell protect smart cov\n",
              "9597       zebron zebsound bomb 5 tw v50 bluetooth truli wireless in ear earbud with up to 22h backup flash connect splash p\n",
              "9598          linq origin nxp chip  waterproof nfc tag sticker set of 5  smartrac circu ntag213 chip  for all nfc phone  vin\n",
              "9599         pragati system medium grain 24x36 inch 10 oz prime cotton pre stretch canva with wooden frame for paint acs2436\n",
              "Name: #keywords, Length: 9600, dtype: object"
            ]
          },
          "metadata": {},
          "execution_count": 50
        }
      ]
    },
    {
      "cell_type": "markdown",
      "source": [
        "#### Vectorization\n"
      ],
      "metadata": {
        "id": "NLCSohB8FjN_"
      }
    },
    {
      "cell_type": "code",
      "source": [
        "CV = CountVectorizer(max_features=5000,stop_words='english',dtype=np.int8)"
      ],
      "metadata": {
        "id": "3WxTrE0KFfy0"
      },
      "execution_count": 51,
      "outputs": []
    },
    {
      "cell_type": "code",
      "source": [
        "CV.fit(data['#keywords'])"
      ],
      "metadata": {
        "colab": {
          "base_uri": "https://localhost:8080/",
          "height": 92
        },
        "id": "qbxfDtmGFme3",
        "outputId": "1c2b4f3e-2c25-4969-af55-5bc275765917"
      },
      "execution_count": 52,
      "outputs": [
        {
          "output_type": "execute_result",
          "data": {
            "text/plain": [
              "CountVectorizer(dtype=<class 'numpy.int8'>, max_features=5000,\n",
              "                stop_words='english')"
            ],
            "text/html": [
              "<style>#sk-container-id-1 {color: black;background-color: white;}#sk-container-id-1 pre{padding: 0;}#sk-container-id-1 div.sk-toggleable {background-color: white;}#sk-container-id-1 label.sk-toggleable__label {cursor: pointer;display: block;width: 100%;margin-bottom: 0;padding: 0.3em;box-sizing: border-box;text-align: center;}#sk-container-id-1 label.sk-toggleable__label-arrow:before {content: \"▸\";float: left;margin-right: 0.25em;color: #696969;}#sk-container-id-1 label.sk-toggleable__label-arrow:hover:before {color: black;}#sk-container-id-1 div.sk-estimator:hover label.sk-toggleable__label-arrow:before {color: black;}#sk-container-id-1 div.sk-toggleable__content {max-height: 0;max-width: 0;overflow: hidden;text-align: left;background-color: #f0f8ff;}#sk-container-id-1 div.sk-toggleable__content pre {margin: 0.2em;color: black;border-radius: 0.25em;background-color: #f0f8ff;}#sk-container-id-1 input.sk-toggleable__control:checked~div.sk-toggleable__content {max-height: 200px;max-width: 100%;overflow: auto;}#sk-container-id-1 input.sk-toggleable__control:checked~label.sk-toggleable__label-arrow:before {content: \"▾\";}#sk-container-id-1 div.sk-estimator input.sk-toggleable__control:checked~label.sk-toggleable__label {background-color: #d4ebff;}#sk-container-id-1 div.sk-label input.sk-toggleable__control:checked~label.sk-toggleable__label {background-color: #d4ebff;}#sk-container-id-1 input.sk-hidden--visually {border: 0;clip: rect(1px 1px 1px 1px);clip: rect(1px, 1px, 1px, 1px);height: 1px;margin: -1px;overflow: hidden;padding: 0;position: absolute;width: 1px;}#sk-container-id-1 div.sk-estimator {font-family: monospace;background-color: #f0f8ff;border: 1px dotted black;border-radius: 0.25em;box-sizing: border-box;margin-bottom: 0.5em;}#sk-container-id-1 div.sk-estimator:hover {background-color: #d4ebff;}#sk-container-id-1 div.sk-parallel-item::after {content: \"\";width: 100%;border-bottom: 1px solid gray;flex-grow: 1;}#sk-container-id-1 div.sk-label:hover label.sk-toggleable__label {background-color: #d4ebff;}#sk-container-id-1 div.sk-serial::before {content: \"\";position: absolute;border-left: 1px solid gray;box-sizing: border-box;top: 0;bottom: 0;left: 50%;z-index: 0;}#sk-container-id-1 div.sk-serial {display: flex;flex-direction: column;align-items: center;background-color: white;padding-right: 0.2em;padding-left: 0.2em;position: relative;}#sk-container-id-1 div.sk-item {position: relative;z-index: 1;}#sk-container-id-1 div.sk-parallel {display: flex;align-items: stretch;justify-content: center;background-color: white;position: relative;}#sk-container-id-1 div.sk-item::before, #sk-container-id-1 div.sk-parallel-item::before {content: \"\";position: absolute;border-left: 1px solid gray;box-sizing: border-box;top: 0;bottom: 0;left: 50%;z-index: -1;}#sk-container-id-1 div.sk-parallel-item {display: flex;flex-direction: column;z-index: 1;position: relative;background-color: white;}#sk-container-id-1 div.sk-parallel-item:first-child::after {align-self: flex-end;width: 50%;}#sk-container-id-1 div.sk-parallel-item:last-child::after {align-self: flex-start;width: 50%;}#sk-container-id-1 div.sk-parallel-item:only-child::after {width: 0;}#sk-container-id-1 div.sk-dashed-wrapped {border: 1px dashed gray;margin: 0 0.4em 0.5em 0.4em;box-sizing: border-box;padding-bottom: 0.4em;background-color: white;}#sk-container-id-1 div.sk-label label {font-family: monospace;font-weight: bold;display: inline-block;line-height: 1.2em;}#sk-container-id-1 div.sk-label-container {text-align: center;}#sk-container-id-1 div.sk-container {/* jupyter's `normalize.less` sets `[hidden] { display: none; }` but bootstrap.min.css set `[hidden] { display: none !important; }` so we also need the `!important` here to be able to override the default hidden behavior on the sphinx rendered scikit-learn.org. See: https://github.com/scikit-learn/scikit-learn/issues/21755 */display: inline-block !important;position: relative;}#sk-container-id-1 div.sk-text-repr-fallback {display: none;}</style><div id=\"sk-container-id-1\" class=\"sk-top-container\"><div class=\"sk-text-repr-fallback\"><pre>CountVectorizer(dtype=&lt;class &#x27;numpy.int8&#x27;&gt;, max_features=5000,\n",
              "                stop_words=&#x27;english&#x27;)</pre><b>In a Jupyter environment, please rerun this cell to show the HTML representation or trust the notebook. <br />On GitHub, the HTML representation is unable to render, please try loading this page with nbviewer.org.</b></div><div class=\"sk-container\" hidden><div class=\"sk-item\"><div class=\"sk-estimator sk-toggleable\"><input class=\"sk-toggleable__control sk-hidden--visually\" id=\"sk-estimator-id-1\" type=\"checkbox\" checked><label for=\"sk-estimator-id-1\" class=\"sk-toggleable__label sk-toggleable__label-arrow\">CountVectorizer</label><div class=\"sk-toggleable__content\"><pre>CountVectorizer(dtype=&lt;class &#x27;numpy.int8&#x27;&gt;, max_features=5000,\n",
              "                stop_words=&#x27;english&#x27;)</pre></div></div></div></div></div>"
            ]
          },
          "metadata": {},
          "execution_count": 52
        }
      ]
    },
    {
      "cell_type": "code",
      "source": [
        "vectors = CV.transform(data['#keywords']).toarray()\n",
        "print(vectors.shape)"
      ],
      "metadata": {
        "colab": {
          "base_uri": "https://localhost:8080/"
        },
        "id": "1e0p9il8Foe4",
        "outputId": "08d85731-9754-4f79-b892-27f810f0e18a"
      },
      "execution_count": 53,
      "outputs": [
        {
          "output_type": "stream",
          "name": "stdout",
          "text": [
            "(9600, 5000)\n"
          ]
        }
      ]
    },
    {
      "cell_type": "markdown",
      "source": [
        "#### Similarity [Cosine]"
      ],
      "metadata": {
        "id": "SuaDnWdkF4WN"
      }
    },
    {
      "cell_type": "code",
      "source": [
        "similarity  = cosine_similarity(vectors)"
      ],
      "metadata": {
        "id": "Hwt67kNIFrev"
      },
      "execution_count": 54,
      "outputs": []
    },
    {
      "cell_type": "code",
      "source": [
        "# releasing memory\n",
        "del(vectors)\n",
        "data.drop('#keywords',axis=1,inplace=True)\n"
      ],
      "metadata": {
        "id": "j8-N2pfWGAUI"
      },
      "execution_count": 55,
      "outputs": []
    },
    {
      "cell_type": "code",
      "source": [
        "print('Shape :',similarity.shape)\n",
        "similarity[0]\n"
      ],
      "metadata": {
        "colab": {
          "base_uri": "https://localhost:8080/"
        },
        "id": "1U2iP6xbGFTz",
        "outputId": "2dd5967f-b2e2-4fe5-972a-0dd91b1f81a8"
      },
      "execution_count": 56,
      "outputs": [
        {
          "output_type": "stream",
          "name": "stdout",
          "text": [
            "Shape : (9600, 9600)\n"
          ]
        },
        {
          "output_type": "execute_result",
          "data": {
            "text/plain": [
              "array([1.        , 0.28603878, 0.07106691, ..., 0.        , 0.        ,\n",
              "       0.08703883])"
            ]
          },
          "metadata": {},
          "execution_count": 56
        }
      ]
    },
    {
      "cell_type": "markdown",
      "source": [
        "#### Recommendation Algorithm"
      ],
      "metadata": {
        "id": "gG0UZJC3GKxt"
      }
    },
    {
      "cell_type": "code",
      "source": [
        "pd.options.display.max_colwidth = 1000\n",
        "data['name'].sample(10,random_state=5)"
      ],
      "metadata": {
        "colab": {
          "base_uri": "https://localhost:8080/"
        },
        "id": "Xqdx0yKzGG5E",
        "outputId": "e18541c6-d325-4eca-e25e-ae914447c544"
      },
      "execution_count": 57,
      "outputs": [
        {
          "output_type": "execute_result",
          "data": {
            "text/plain": [
              "8414    ONUMTZ Newly Launched Smart Watch Charging Cable, Watch Holder Magnetic 24k Gold Plated 2 pin Cable, Compatible with T55, ...\n",
              "2716    boAt Stone 620 Bluetooth Speaker with 12W RMS Stereo Sound, 10HRS Playtime, TWS Feature, IPX4, Multi-Compatibility Modes(G...\n",
              "1360    VIHM 7 in 1 Electronic Cleaner kit, Cleaning Kit for Monitor Keyboard Airpods MacBook iPad iPhone iPod, Screen Dust Brush ...\n",
              "1214    Apple Lightning to USB Camera Adapter, USB 3.0 OTG Cable for iPhone/iPad to Connect Card Reader, USB Flash Drive, U Disk, ...\n",
              "420     boAt Rockerz 335 Bluetooth in Ear Neckband with Qualcomm aptX & CVC, Upto 30 Hours Playback, ASAP Charge, Signature Sound,...\n",
              "9269    ENVOUS Newly Launched Fire Bolt Ring Smartwatch Charging Cable USB Fast Charger Magnetic Charging Cable Adapter (Charger o...\n",
              "1994    DIGITEK (DTR-320 FT) Flexible Gorillapod Tripod for All Cameras and Mobile Phones with 360° Ball Head and Phone Holder, Ma...\n",
              "5828            Lava A1 (Candy Blue), Number Talker, Smart AI Battery, 4 Days Battery Backup, Military Grade Certified, Keypad Mobile\n",
              "7166                                                                                         Kangaro Stapler DS 45L - Colour May Vary\n",
              "7544                                Sellingal Hard Disk Drive Pouch case for 2.5\" HDD Cover WD Seagate Slim Sony Dell Toshiba (Black)\n",
              "Name: name, dtype: object"
            ]
          },
          "metadata": {},
          "execution_count": 57
        }
      ]
    },
    {
      "cell_type": "markdown",
      "source": [
        "#### Product name is here"
      ],
      "metadata": {
        "id": "2q9A6OLWF_Ua"
      }
    },
    {
      "cell_type": "code",
      "source": [
        "product = 'XP-Pen StarG640 Ultra-Thin Graphic Drawing Tablet (6\" x 4\", 8192 Levels of Pressure Sensitivity, Battery-Free Stylus, Black)'\n",
        "data[data['name'] == product ]"
      ],
      "metadata": {
        "colab": {
          "base_uri": "https://localhost:8080/",
          "height": 115
        },
        "id": "DhCJLUWdGOUC",
        "outputId": "144eba42-c095-4722-a75f-df887a0b7a87"
      },
      "execution_count": 58,
      "outputs": [
        {
          "output_type": "execute_result",
          "data": {
            "text/plain": [
              "                                                                                                                              name  \\\n",
              "1601  XP-Pen StarG640 Ultra-Thin Graphic Drawing Tablet (6\" x 4\", 8192 Levels of Pressure Sensitivity, Battery-Free Stylus, Black)   \n",
              "\n",
              "                                                               image  \\\n",
              "1601  https://m.media-amazon.com/images/I/51c0+7+udkL._AC_UL320_.jpg   \n",
              "\n",
              "                                                                                                                                link  \\\n",
              "1601  https://www.amazon.in/XP-Pen-Graphic-Drawing-Tablet-Battery/dp/B078YNBFXG/ref=sr_1_1608?qid=1679133751&s=electronics&sr=1-1608   \n",
              "\n",
              "     ratings no_of_ratings discount_price actual_price  name_length  \n",
              "1601     4.2         4,479         ₹3,199       ₹4,499          124  "
            ],
            "text/html": [
              "\n",
              "  <div id=\"df-398e65aa-0cae-4b2f-a1d1-e3d5359b1435\" class=\"colab-df-container\">\n",
              "    <div>\n",
              "<style scoped>\n",
              "    .dataframe tbody tr th:only-of-type {\n",
              "        vertical-align: middle;\n",
              "    }\n",
              "\n",
              "    .dataframe tbody tr th {\n",
              "        vertical-align: top;\n",
              "    }\n",
              "\n",
              "    .dataframe thead th {\n",
              "        text-align: right;\n",
              "    }\n",
              "</style>\n",
              "<table border=\"1\" class=\"dataframe\">\n",
              "  <thead>\n",
              "    <tr style=\"text-align: right;\">\n",
              "      <th></th>\n",
              "      <th>name</th>\n",
              "      <th>image</th>\n",
              "      <th>link</th>\n",
              "      <th>ratings</th>\n",
              "      <th>no_of_ratings</th>\n",
              "      <th>discount_price</th>\n",
              "      <th>actual_price</th>\n",
              "      <th>name_length</th>\n",
              "    </tr>\n",
              "  </thead>\n",
              "  <tbody>\n",
              "    <tr>\n",
              "      <th>1601</th>\n",
              "      <td>XP-Pen StarG640 Ultra-Thin Graphic Drawing Tablet (6\" x 4\", 8192 Levels of Pressure Sensitivity, Battery-Free Stylus, Black)</td>\n",
              "      <td>https://m.media-amazon.com/images/I/51c0+7+udkL._AC_UL320_.jpg</td>\n",
              "      <td>https://www.amazon.in/XP-Pen-Graphic-Drawing-Tablet-Battery/dp/B078YNBFXG/ref=sr_1_1608?qid=1679133751&amp;s=electronics&amp;sr=1-1608</td>\n",
              "      <td>4.2</td>\n",
              "      <td>4,479</td>\n",
              "      <td>₹3,199</td>\n",
              "      <td>₹4,499</td>\n",
              "      <td>124</td>\n",
              "    </tr>\n",
              "  </tbody>\n",
              "</table>\n",
              "</div>\n",
              "    <div class=\"colab-df-buttons\">\n",
              "\n",
              "  <div class=\"colab-df-container\">\n",
              "    <button class=\"colab-df-convert\" onclick=\"convertToInteractive('df-398e65aa-0cae-4b2f-a1d1-e3d5359b1435')\"\n",
              "            title=\"Convert this dataframe to an interactive table.\"\n",
              "            style=\"display:none;\">\n",
              "\n",
              "  <svg xmlns=\"http://www.w3.org/2000/svg\" height=\"24px\" viewBox=\"0 -960 960 960\">\n",
              "    <path d=\"M120-120v-720h720v720H120Zm60-500h600v-160H180v160Zm220 220h160v-160H400v160Zm0 220h160v-160H400v160ZM180-400h160v-160H180v160Zm440 0h160v-160H620v160ZM180-180h160v-160H180v160Zm440 0h160v-160H620v160Z\"/>\n",
              "  </svg>\n",
              "    </button>\n",
              "\n",
              "  <style>\n",
              "    .colab-df-container {\n",
              "      display:flex;\n",
              "      gap: 12px;\n",
              "    }\n",
              "\n",
              "    .colab-df-convert {\n",
              "      background-color: #E8F0FE;\n",
              "      border: none;\n",
              "      border-radius: 50%;\n",
              "      cursor: pointer;\n",
              "      display: none;\n",
              "      fill: #1967D2;\n",
              "      height: 32px;\n",
              "      padding: 0 0 0 0;\n",
              "      width: 32px;\n",
              "    }\n",
              "\n",
              "    .colab-df-convert:hover {\n",
              "      background-color: #E2EBFA;\n",
              "      box-shadow: 0px 1px 2px rgba(60, 64, 67, 0.3), 0px 1px 3px 1px rgba(60, 64, 67, 0.15);\n",
              "      fill: #174EA6;\n",
              "    }\n",
              "\n",
              "    .colab-df-buttons div {\n",
              "      margin-bottom: 4px;\n",
              "    }\n",
              "\n",
              "    [theme=dark] .colab-df-convert {\n",
              "      background-color: #3B4455;\n",
              "      fill: #D2E3FC;\n",
              "    }\n",
              "\n",
              "    [theme=dark] .colab-df-convert:hover {\n",
              "      background-color: #434B5C;\n",
              "      box-shadow: 0px 1px 3px 1px rgba(0, 0, 0, 0.15);\n",
              "      filter: drop-shadow(0px 1px 2px rgba(0, 0, 0, 0.3));\n",
              "      fill: #FFFFFF;\n",
              "    }\n",
              "  </style>\n",
              "\n",
              "    <script>\n",
              "      const buttonEl =\n",
              "        document.querySelector('#df-398e65aa-0cae-4b2f-a1d1-e3d5359b1435 button.colab-df-convert');\n",
              "      buttonEl.style.display =\n",
              "        google.colab.kernel.accessAllowed ? 'block' : 'none';\n",
              "\n",
              "      async function convertToInteractive(key) {\n",
              "        const element = document.querySelector('#df-398e65aa-0cae-4b2f-a1d1-e3d5359b1435');\n",
              "        const dataTable =\n",
              "          await google.colab.kernel.invokeFunction('convertToInteractive',\n",
              "                                                    [key], {});\n",
              "        if (!dataTable) return;\n",
              "\n",
              "        const docLinkHtml = 'Like what you see? Visit the ' +\n",
              "          '<a target=\"_blank\" href=https://colab.research.google.com/notebooks/data_table.ipynb>data table notebook</a>'\n",
              "          + ' to learn more about interactive tables.';\n",
              "        element.innerHTML = '';\n",
              "        dataTable['output_type'] = 'display_data';\n",
              "        await google.colab.output.renderOutput(dataTable, element);\n",
              "        const docLink = document.createElement('div');\n",
              "        docLink.innerHTML = docLinkHtml;\n",
              "        element.appendChild(docLink);\n",
              "      }\n",
              "    </script>\n",
              "  </div>\n",
              "\n",
              "    </div>\n",
              "  </div>\n"
            ],
            "application/vnd.google.colaboratory.intrinsic+json": {
              "type": "dataframe",
              "summary": "{\n  \"name\": \"data[data['name'] == product ]\",\n  \"rows\": 1,\n  \"fields\": [\n    {\n      \"column\": \"name\",\n      \"properties\": {\n        \"dtype\": \"string\",\n        \"num_unique_values\": 1,\n        \"samples\": [\n          \"XP-Pen StarG640 Ultra-Thin Graphic Drawing Tablet (6\\\" x 4\\\", 8192 Levels of Pressure Sensitivity, Battery-Free Stylus, Black)\"\n        ],\n        \"semantic_type\": \"\",\n        \"description\": \"\"\n      }\n    },\n    {\n      \"column\": \"image\",\n      \"properties\": {\n        \"dtype\": \"string\",\n        \"num_unique_values\": 1,\n        \"samples\": [\n          \"https://m.media-amazon.com/images/I/51c0+7+udkL._AC_UL320_.jpg\"\n        ],\n        \"semantic_type\": \"\",\n        \"description\": \"\"\n      }\n    },\n    {\n      \"column\": \"link\",\n      \"properties\": {\n        \"dtype\": \"string\",\n        \"num_unique_values\": 1,\n        \"samples\": [\n          \"https://www.amazon.in/XP-Pen-Graphic-Drawing-Tablet-Battery/dp/B078YNBFXG/ref=sr_1_1608?qid=1679133751&s=electronics&sr=1-1608\"\n        ],\n        \"semantic_type\": \"\",\n        \"description\": \"\"\n      }\n    },\n    {\n      \"column\": \"ratings\",\n      \"properties\": {\n        \"dtype\": \"string\",\n        \"num_unique_values\": 1,\n        \"samples\": [\n          \"4.2\"\n        ],\n        \"semantic_type\": \"\",\n        \"description\": \"\"\n      }\n    },\n    {\n      \"column\": \"no_of_ratings\",\n      \"properties\": {\n        \"dtype\": \"string\",\n        \"num_unique_values\": 1,\n        \"samples\": [\n          \"4,479\"\n        ],\n        \"semantic_type\": \"\",\n        \"description\": \"\"\n      }\n    },\n    {\n      \"column\": \"discount_price\",\n      \"properties\": {\n        \"dtype\": \"string\",\n        \"num_unique_values\": 1,\n        \"samples\": [\n          \"\\u20b93,199\"\n        ],\n        \"semantic_type\": \"\",\n        \"description\": \"\"\n      }\n    },\n    {\n      \"column\": \"actual_price\",\n      \"properties\": {\n        \"dtype\": \"string\",\n        \"num_unique_values\": 1,\n        \"samples\": [\n          \"\\u20b94,499\"\n        ],\n        \"semantic_type\": \"\",\n        \"description\": \"\"\n      }\n    },\n    {\n      \"column\": \"name_length\",\n      \"properties\": {\n        \"dtype\": \"number\",\n        \"std\": null,\n        \"min\": 124,\n        \"max\": 124,\n        \"num_unique_values\": 1,\n        \"samples\": [\n          124\n        ],\n        \"semantic_type\": \"\",\n        \"description\": \"\"\n      }\n    }\n  ]\n}"
            }
          },
          "metadata": {},
          "execution_count": 58
        }
      ]
    },
    {
      "cell_type": "code",
      "source": [
        "def recommender(product):\n",
        "\n",
        "    product_index = data[data['name'] == product].index[0]\n",
        "\n",
        "    similarity_list = list(enumerate(similarity[product_index]))\n",
        "    top_10_similar_product = sorted(similarity_list,key=lambda x:x[1],reverse=True)[1:6]\n",
        "\n",
        "    for movie_index, similiry in top_10_similar_product:\n",
        "        display(data.loc[movie_index]['name'])"
      ],
      "metadata": {
        "id": "xRf2A_n2Go7k"
      },
      "execution_count": 59,
      "outputs": []
    },
    {
      "cell_type": "code",
      "source": [
        "print(\"\\033[1m\"+\"::---Selected Product---::\".center(120)+\"\\033[0m\",f'\\n{product}\\n')\n",
        "\n",
        "print(\"\\033[1m\"+\"::---Recommendations---::\".center(120)+\"\\033[0m\",)\n",
        "\n",
        "recommender(product)"
      ],
      "metadata": {
        "colab": {
          "base_uri": "https://localhost:8080/",
          "height": 178
        },
        "id": "pIoQ574SGrr8",
        "outputId": "38df813f-85f8-4924-cd85-47f914ce394f"
      },
      "execution_count": 60,
      "outputs": [
        {
          "output_type": "stream",
          "name": "stdout",
          "text": [
            "\u001b[1m                                               ::---Selected Product---::                                               \u001b[0m \n",
            "XP-Pen StarG640 Ultra-Thin Graphic Drawing Tablet (6\" x 4\", 8192 Levels of Pressure Sensitivity, Battery-Free Stylus, Black)\n",
            "\n",
            "\u001b[1m                                               ::---Recommendations---::                                                \u001b[0m\n"
          ]
        },
        {
          "output_type": "display_data",
          "data": {
            "text/plain": [
              "'XP-Pen Deco01 V2 Digital Graphics Drawing Pen Tablet (10\" x 6.25\", 8192 Levels of Pressure Sensitivity, Battery-Free Passi...'"
            ],
            "application/vnd.google.colaboratory.intrinsic+json": {
              "type": "string"
            }
          },
          "metadata": {}
        },
        {
          "output_type": "display_data",
          "data": {
            "text/plain": [
              "'XP-PEN Star03 V2 8192 Levels of Pressure Sensitivity, Battery-Free Stylus, 8 Shortcut Keys and 8 nibs Graphics Drawing Tab...'"
            ],
            "application/vnd.google.colaboratory.intrinsic+json": {
              "type": "string"
            }
          },
          "metadata": {}
        },
        {
          "output_type": "display_data",
          "data": {
            "text/plain": [
              "'Huion H610Pro V2 Digital Drawing Tablet Graphic Pen Tablet 10\" x 6.25\", 8192 Pressure Sensitivity with Battery-Free Stylus...'"
            ],
            "application/vnd.google.colaboratory.intrinsic+json": {
              "type": "string"
            }
          },
          "metadata": {}
        },
        {
          "output_type": "display_data",
          "data": {
            "text/plain": [
              "'HUION Inspiroy H640P 6*4 inch Graphics Drawing Tablet with Battery-Free Stylus 8192 Pressure Sensitivity 6 Customized Hot ...'"
            ],
            "application/vnd.google.colaboratory.intrinsic+json": {
              "type": "string"
            }
          },
          "metadata": {}
        },
        {
          "output_type": "display_data",
          "data": {
            "text/plain": [
              "'VEIKK VK640 Drawing Tablet 6x4 inch Portable Pen Tablet with 8192 Levels Battery-Free Stylus Graphic Tablet, 6 Shortcuts f...'"
            ],
            "application/vnd.google.colaboratory.intrinsic+json": {
              "type": "string"
            }
          },
          "metadata": {}
        }
      ]
    },
    {
      "cell_type": "code",
      "source": [
        "data['image'].sample(13,random_state=6)"
      ],
      "metadata": {
        "colab": {
          "base_uri": "https://localhost:8080/"
        },
        "id": "hlORcZRaGu0H",
        "outputId": "ae1f60c6-2fa5-440c-9063-07f2434f1bb7"
      },
      "execution_count": 61,
      "outputs": [
        {
          "output_type": "execute_result",
          "data": {
            "text/plain": [
              "6900                                      https://m.media-amazon.com/images/I/61dI6RzHuxS._AC_UL320_.jpg\n",
              "41                                        https://m.media-amazon.com/images/I/51zv+mozGgL._AC_UL320_.jpg\n",
              "1986                                      https://m.media-amazon.com/images/I/715w7oOSzBL._AC_UL320_.jpg\n",
              "2837    https://m.media-amazon.com/images/W/IMAGERENDERING_521856-T1/images/I/61J9BzebDnL._AC_UL320_.jpg\n",
              "6158                                      https://m.media-amazon.com/images/I/61ZYP1hZLfS._AC_UL320_.jpg\n",
              "6891                                      https://m.media-amazon.com/images/I/31-4Yxvu2nL._AC_UL320_.jpg\n",
              "225                                       https://m.media-amazon.com/images/I/51UnzgINvYL._AC_UL320_.jpg\n",
              "8466                                      https://m.media-amazon.com/images/I/51VfqgVd9cL._AC_UL320_.jpg\n",
              "4546    https://m.media-amazon.com/images/W/IMAGERENDERING_521856-T1/images/I/61jIVAPaaVL._AC_UL320_.jpg\n",
              "7962    https://m.media-amazon.com/images/W/IMAGERENDERING_521856-T2/images/I/81Z5m90cyUL._AC_UL320_.jpg\n",
              "9004    https://m.media-amazon.com/images/W/IMAGERENDERING_521856-T1/images/I/81sZUK4El5L._AC_UL320_.jpg\n",
              "7197                                      https://m.media-amazon.com/images/I/51RQtp1+dnL._AC_UL320_.jpg\n",
              "4238                                      https://m.media-amazon.com/images/I/51xAilgYeNL._AC_UL320_.jpg\n",
              "Name: image, dtype: object"
            ]
          },
          "metadata": {},
          "execution_count": 61
        }
      ]
    },
    {
      "cell_type": "code",
      "source": [
        "pd.options.display.max_colwidth = 1000\n",
        "data['name'].sample(10, random_state=5)\n"
      ],
      "metadata": {
        "id": "YgHoxgFXISkw",
        "colab": {
          "base_uri": "https://localhost:8080/"
        },
        "outputId": "1dca5eaf-9e81-4567-f20d-145f03bddda1"
      },
      "execution_count": 63,
      "outputs": [
        {
          "output_type": "execute_result",
          "data": {
            "text/plain": [
              "8414    ONUMTZ Newly Launched Smart Watch Charging Cable, Watch Holder Magnetic 24k Gold Plated 2 pin Cable, Compatible with T55, ...\n",
              "2716    boAt Stone 620 Bluetooth Speaker with 12W RMS Stereo Sound, 10HRS Playtime, TWS Feature, IPX4, Multi-Compatibility Modes(G...\n",
              "1360    VIHM 7 in 1 Electronic Cleaner kit, Cleaning Kit for Monitor Keyboard Airpods MacBook iPad iPhone iPod, Screen Dust Brush ...\n",
              "1214    Apple Lightning to USB Camera Adapter, USB 3.0 OTG Cable for iPhone/iPad to Connect Card Reader, USB Flash Drive, U Disk, ...\n",
              "420     boAt Rockerz 335 Bluetooth in Ear Neckband with Qualcomm aptX & CVC, Upto 30 Hours Playback, ASAP Charge, Signature Sound,...\n",
              "9269    ENVOUS Newly Launched Fire Bolt Ring Smartwatch Charging Cable USB Fast Charger Magnetic Charging Cable Adapter (Charger o...\n",
              "1994    DIGITEK (DTR-320 FT) Flexible Gorillapod Tripod for All Cameras and Mobile Phones with 360° Ball Head and Phone Holder, Ma...\n",
              "5828            Lava A1 (Candy Blue), Number Talker, Smart AI Battery, 4 Days Battery Backup, Military Grade Certified, Keypad Mobile\n",
              "7166                                                                                         Kangaro Stapler DS 45L - Colour May Vary\n",
              "7544                                Sellingal Hard Disk Drive Pouch case for 2.5\" HDD Cover WD Seagate Slim Sony Dell Toshiba (Black)\n",
              "Name: name, dtype: object"
            ]
          },
          "metadata": {},
          "execution_count": 63
        }
      ]
    },
    {
      "cell_type": "code",
      "source": [
        "def recommender(product):\n",
        "    try:\n",
        "        product_index = data[data['name'] == product].index[0]\n",
        "        similarity_list = list(enumerate(similarity[product_index]))\n",
        "        top_10_similar_product = sorted(similarity_list, key=lambda x: x[1], reverse=True)[1:6]\n",
        "\n",
        "        print(\"\\033[1m\"+\"::---Selected Product---::\".center(120)+\"\\033[0m\", f'\\n{product}\\n')\n",
        "        print(\"\\033[1m\"+\"::---Recommendations---::\".center(120)+\"\\033[0m\",)\n",
        "        for product_index, similarity_score in top_10_similar_product:\n",
        "            display(data.loc[product_index]['name'])\n",
        "    except IndexError:\n",
        "        print(\"Product not found in the dataset. Please try another product.\")\n"
      ],
      "metadata": {
        "id": "6oPdTqqDB6c6"
      },
      "execution_count": 82,
      "outputs": []
    },
    {
      "cell_type": "code",
      "source": [
        "from IPython.display import display, Image\n",
        "\n",
        "def display_image(product):\n",
        "    try:\n",
        "        product_index = data[data['name'] == product].index[0]\n",
        "        img_url = data.loc[product_index]['image']\n",
        "        display(Image(url=img_url))\n",
        "    except IndexError:\n",
        "        print(\"Image not found for the given product.\")\n"
      ],
      "metadata": {
        "id": "vaxLHvzqCFHM"
      },
      "execution_count": 83,
      "outputs": []
    },
    {
      "cell_type": "code",
      "source": [
        "product"
      ],
      "metadata": {
        "colab": {
          "base_uri": "https://localhost:8080/",
          "height": 35
        },
        "id": "014vD_P-EjmZ",
        "outputId": "5f6a6f84-ce5a-45cf-a230-cd64de62fed3"
      },
      "execution_count": 84,
      "outputs": [
        {
          "output_type": "execute_result",
          "data": {
            "text/plain": [
              "'XP-Pen StarG640 Ultra-Thin Graphic Drawing Tablet (6\" x 4\", 8192 Levels of Pressure Sensitivity, Battery-Free Stylus, Black)'"
            ],
            "application/vnd.google.colaboratory.intrinsic+json": {
              "type": "string"
            }
          },
          "metadata": {},
          "execution_count": 84
        }
      ]
    },
    {
      "cell_type": "code",
      "source": [
        "# Create text box for user input\n",
        "import ipywidgets as widgets\n",
        "\n",
        "product_input = widgets.Text(\n",
        "    value='',\n",
        "    placeholder='Enter a product name',\n",
        "    description='Product:',\n",
        "    disabled=False\n",
        ")\n",
        "\n",
        "display(product_input)\n",
        "def on_button_click(b):\n",
        "    product = product_input.value\n",
        "    display_image(product)\n",
        "    recommender(product)\n",
        "\n",
        "# Create a button\n",
        "button = widgets.Button(description=\"Recommend\")\n",
        "button.on_click(on_button_click)\n",
        "display(button)"
      ],
      "metadata": {
        "colab": {
          "base_uri": "https://localhost:8080/",
          "height": 477,
          "referenced_widgets": [
            "e036cdb591a544faaa79b0fe9b4e60ba",
            "3bda3f2a162e4cd6b3e8b30345b06776",
            "44977c7bf5e548f7adbba37ccdff33c1",
            "cac74e2de8b94d32a14d40625bbef69d",
            "75b58699d5dd4d84b7c9dd3ef1b35061",
            "f74c5af2510e47fda7b6f1dc4da32e82"
          ]
        },
        "id": "Tb7NiJUyCOey",
        "outputId": "4ccfa1ef-bc3c-4efe-e27c-006b809dad5e"
      },
      "execution_count": 85,
      "outputs": [
        {
          "output_type": "display_data",
          "data": {
            "text/plain": [
              "Text(value='', description='Product:', placeholder='Enter a product name')"
            ],
            "application/vnd.jupyter.widget-view+json": {
              "version_major": 2,
              "version_minor": 0,
              "model_id": "e036cdb591a544faaa79b0fe9b4e60ba"
            }
          },
          "metadata": {}
        },
        {
          "output_type": "display_data",
          "data": {
            "text/plain": [
              "Button(description='Recommend', style=ButtonStyle())"
            ],
            "application/vnd.jupyter.widget-view+json": {
              "version_major": 2,
              "version_minor": 0,
              "model_id": "cac74e2de8b94d32a14d40625bbef69d"
            }
          },
          "metadata": {}
        },
        {
          "output_type": "display_data",
          "data": {
            "text/html": [
              "<img src=\"https://m.media-amazon.com/images/I/51c0+7+udkL._AC_UL320_.jpg\"/>"
            ],
            "text/plain": [
              "<IPython.core.display.Image object>"
            ]
          },
          "metadata": {}
        },
        {
          "output_type": "stream",
          "name": "stdout",
          "text": [
            "\u001b[1m                                               ::---Selected Product---::                                               \u001b[0m \n",
            "XP-Pen StarG640 Ultra-Thin Graphic Drawing Tablet (6\" x 4\", 8192 Levels of Pressure Sensitivity, Battery-Free Stylus, Black)\n",
            "\n",
            "\u001b[1m                                               ::---Recommendations---::                                                \u001b[0m\n"
          ]
        },
        {
          "output_type": "display_data",
          "data": {
            "text/plain": [
              "'XP-Pen Deco01 V2 Digital Graphics Drawing Pen Tablet (10\" x 6.25\", 8192 Levels of Pressure Sensitivity, Battery-Free Passi...'"
            ],
            "application/vnd.google.colaboratory.intrinsic+json": {
              "type": "string"
            }
          },
          "metadata": {}
        },
        {
          "output_type": "display_data",
          "data": {
            "text/plain": [
              "'XP-PEN Star03 V2 8192 Levels of Pressure Sensitivity, Battery-Free Stylus, 8 Shortcut Keys and 8 nibs Graphics Drawing Tab...'"
            ],
            "application/vnd.google.colaboratory.intrinsic+json": {
              "type": "string"
            }
          },
          "metadata": {}
        },
        {
          "output_type": "display_data",
          "data": {
            "text/plain": [
              "'Huion H610Pro V2 Digital Drawing Tablet Graphic Pen Tablet 10\" x 6.25\", 8192 Pressure Sensitivity with Battery-Free Stylus...'"
            ],
            "application/vnd.google.colaboratory.intrinsic+json": {
              "type": "string"
            }
          },
          "metadata": {}
        },
        {
          "output_type": "display_data",
          "data": {
            "text/plain": [
              "'HUION Inspiroy H640P 6*4 inch Graphics Drawing Tablet with Battery-Free Stylus 8192 Pressure Sensitivity 6 Customized Hot ...'"
            ],
            "application/vnd.google.colaboratory.intrinsic+json": {
              "type": "string"
            }
          },
          "metadata": {}
        },
        {
          "output_type": "display_data",
          "data": {
            "text/plain": [
              "'VEIKK VK640 Drawing Tablet 6x4 inch Portable Pen Tablet with 8192 Levels Battery-Free Stylus Graphic Tablet, 6 Shortcuts f...'"
            ],
            "application/vnd.google.colaboratory.intrinsic+json": {
              "type": "string"
            }
          },
          "metadata": {}
        }
      ]
    },
    {
      "cell_type": "code",
      "source": [],
      "metadata": {
        "id": "rWZScvqMCwB-"
      },
      "execution_count": null,
      "outputs": []
    }
  ]
}